{
  "nbformat": 4,
  "nbformat_minor": 0,
  "metadata": {
    "colab": {
      "name": "remove_punctuation.ipynb",
      "version": "0.3.2",
      "provenance": [],
      "collapsed_sections": []
    },
    "kernelspec": {
      "name": "python3",
      "display_name": "Python 3"
    }
  },
  "cells": [
    {
      "cell_type": "markdown",
      "metadata": {
        "id": "nsQ68Yy3Zo9G",
        "colab_type": "text"
      },
      "source": [
        "# Punctuation removal\n",
        "\n",
        "This is the second step in pre-processing of the textual data, it really helps in reducing the size of the data obtained, hence will use less computation for analysis."
      ]
    },
    {
      "cell_type": "code",
      "metadata": {
        "id": "hXryatOTaN_s",
        "colab_type": "code",
        "colab": {}
      },
      "source": [
        "t1=['This is introduction to NLP & NLU', 'It is likely to be useful to students',\n",
        "     'Deep learning is the new electrcity' , 'python is the best language!' , \n",
        "     'I like this note-book', 'I want to learn more from these note-books']\n",
        "\n"
      ],
      "execution_count": 0,
      "outputs": []
    },
    {
      "cell_type": "code",
      "metadata": {
        "id": "KaRCTtu_aULI",
        "colab_type": "code",
        "colab": {}
      },
      "source": [
        "# Conversion of list to dataframe\n",
        "\n",
        "import pandas as pd\n",
        "df = pd.DataFrame({'tweet':t1})\n",
        "print(df)\n"
      ],
      "execution_count": 0,
      "outputs": []
    },
    {
      "cell_type": "code",
      "metadata": {
        "id": "nVerhYC8aeZf",
        "colab_type": "code",
        "colab": {}
      },
      "source": [
        "# remove punctuations\n",
        "\n",
        "df['tweet'] = df['tweet'].str.replace('[^\\w\\s]',\") "
      ],
      "execution_count": 0,
      "outputs": []
    },
    {
      "cell_type": "code",
      "metadata": {
        "id": "5NyS72-AbVDd",
        "colab_type": "code",
        "colab": {}
      },
      "source": [
        "# using regular-expressions and replace() function\n",
        "import re\n",
        "s= \"I. like. This note-book!\"\n",
        "s1 = re.sub(r'[^\\w\\s]',\",s)\n",
        "print (s1)"
      ],
      "execution_count": 0,
      "outputs": []
    },
    {
      "cell_type": "code",
      "metadata": {
        "id": "5VRC-k53bvdz",
        "colab_type": "code",
        "colab": {}
      },
      "source": [
        ""
      ],
      "execution_count": 0,
      "outputs": []
    }
  ]
}