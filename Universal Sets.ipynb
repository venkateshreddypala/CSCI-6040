{
 "cells": [
  {
   "cell_type": "markdown",
   "metadata": {},
   "source": [
    "[//]:# (LT: Universal Set: Universal Set of real numbers, integers, natural numbers, rational numbers, and irrational numbers, set intersection, set union, null set)\n",
    "\n",
    "[//]:# (ST: Universal Set)\n",
    "\n",
    "[//]:# (KW: Universal Set)\n",
    "\n",
    "[//]:# (KW: Universal set of real numbers)\n",
    "\n",
    "[//]:# (KW: Universal set of integers)\n",
    "\n",
    "[//]:# (KW: Universal set of natural numbers)\n",
    "\n",
    "[//]:# (KW: Universal set of rational numbers)\n",
    "\n",
    "[//]:# (KW: Universal set of irrational numbers)\n",
    "\n",
    "\n"
   ]
  },
  {
   "cell_type": "markdown",
   "metadata": {},
   "source": [
    "### Universal Set\n",
    "\n",
    "Universal set contains any relevant elements and depends on application.\n",
    "\n",
    "Example:\n",
    "\n",
    "The U for a days in a week is :\n",
    "\n",
    "{Sunday,Monday,Tuesday,Wednesday,Thusday,Friday,Saturday}\n",
    "\n",
    "On the other hand, U for working days of the week is:\n",
    "\n",
    "{Monday,Tuesday,wednesday,Thusday,Friday}\n",
    "\n",
    "Note: The above universal sets may vary few are contraury to one another. In some contries, Saturday is a working day.\n",
    "\n",
    "R-set of Real numbers <br>\n",
    "Z-set of integers {...-2,-1,0,1,2...} <br>\n",
    "N-set of natural numbers{0,1,2,3,...} <br>\n",
    "P-set of positive integers{12,3,...} <br>\n",
    "Q-set of rational numbers{2/5,5/2,3/7...} <br>\n",
    "I-set of irrational numbers <br>\n",
    "\n",
    "$Q \\subset R\\$\n",
    "\n",
    "$I \\subset R\\$ \n",
    "\n",
    "$N \\subset Z\\$ \n",
    "\n",
    "$P \\subset N\\$\n",
    "\n",
    "$P \\subset Z\\$\n",
    "\n",
    "An empty set is a subset of every set including itself <br>\n",
    "$$\\Phi \\epsilon \\left \\{ \\Phi \\right \\} and  \\Phi \\subseteq \\left \\{ \\Phi \\right \\}$$\n",
    "\n",
    "set union is not limited to two sets. It can be extented to an infinite number of sets. <br>\n",
    "Example : let B={0,1} , O={0,1,2,....7} and D={0,1,2,...9}<br>\n",
    "    \n",
    "Then $$B\\cup O\\cup D\\$$\n",
    "\n",
    "The Venn diagram for the three sets A,B and C is showm below. The shaded area represents union\n",
    "<img src=\"F1.png\" alt=\"Drawing\" style=\"width: 333px;\">\n",
    "\n",
    "Set intersection is not limited to two sets, It can be extented to an infinite number of sets.\n",
    "\n",
    "Example: Let B={0,1}, O={1,2,3,...7} and D={0,1,2...9} then $B\\cap O\\cap D$ = {0,1}\n",
    "\n",
    "The Venn Diagram for the Three Sets A,B and c is showm below. The Shaded area represents the intersection.\n",
    "<img src=\"F2.png\" alt=\"Drawing\" style=\"width: 333px;\">\n",
    "\n",
    "Example: Let $S_n$, n=1,2,3... be an infinite collection of sets. That is $S_1$,$S_2$,$S_3$,... are the sets\n",
    "\n",
    "Their intersection is expressed as: $\\bigcup_{n}s_{n}$ n=1,2,3,.... An element is in the intersection if and only if it is a member of every set.\n",
    "\n",
    "That is x$\\epsilon\\bigcup_{n} S_{n}$, if and only if x$\\epsilon S_{n}$, for all n.\n",
    "\n"
   ]
  },
  {
   "cell_type": "code",
   "execution_count": null,
   "metadata": {},
   "outputs": [],
   "source": []
  }
 ],
 "metadata": {
  "celltoolbar": "Edit Metadata",
  "kernelspec": {
   "display_name": "Python 3",
   "language": "python",
   "name": "python3"
  },
  "language_info": {
   "codemirror_mode": {
    "name": "ipython",
    "version": 3
   },
   "file_extension": ".py",
   "mimetype": "text/x-python",
   "name": "python",
   "nbconvert_exporter": "python",
   "pygments_lexer": "ipython3",
   "version": "3.7.3"
  }
 },
 "nbformat": 4,
 "nbformat_minor": 2
}
