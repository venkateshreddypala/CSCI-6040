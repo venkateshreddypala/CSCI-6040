{
  "nbformat": 4,
  "nbformat_minor": 0,
  "metadata": {
    "colab": {
      "name": "grapheme.ipynb",
      "version": "0.3.2",
      "provenance": []
    },
    "kernelspec": {
      "name": "python3",
      "display_name": "Python 3"
    }
  },
  "cells": [
    {
      "cell_type": "markdown",
      "metadata": {
        "id": "XihEkH0Bjf7X",
        "colab_type": "text"
      },
      "source": [
        "#  Normalizing\n",
        "In linguistics, a grapheme is the smallest unit of a writing system of any given language.\n",
        "\n",
        "An individual grapheme may or may not carry meaning by itself, and may or may not correspond to a single phoneme of the spoken language. \n",
        "\n",
        "Graphemes include alphabetic letters, typographic ligatures, Chinese characters, numerical digits, punctuation marks, and other individual symbols. A grapheme can also be construed as a graphical sign that independently represents a portion of linguistic material."
      ]
    },
    {
      "cell_type": "markdown",
      "metadata": {
        "id": "pMgkl3V_vUCy",
        "colab_type": "text"
      },
      "source": [
        "# Stemming and lemmatization\n",
        "\n",
        "\n",
        "For grammatical reasons, documents are going to use different forms of a word, such as organize, organizes, and organizing. Additionally, there are families of derivationally related words with similar meanings, such as democracy, democratic, and democratization. In many situations, it seems as if it would be useful for a search for one of these words to return documents that contain another word in the set.\n",
        "\n",
        "The goal of both stemming and lemmatization is to reduce inflectional forms and sometimes derivationally related forms of a word to a common base form."
      ]
    },
    {
      "cell_type": "markdown",
      "metadata": {
        "id": "vrOD3rtqsRJC",
        "colab_type": "text"
      },
      "source": [
        "# Stemming \n",
        "\n",
        "Stemming is the process of reducing a word to its word stem that affixes to suffixes and prefixes or to the roots of words known as a lemma.\n",
        "\n",
        "Stemming is important in natural language understanding (NLU) and natural language processing (NLP).\n",
        "\n",
        "Stemming usually refers to a crude heuristic process that chops off the ends of words in the hope of achieving this goal correctly most of the time, and often includes the removal of derivational affixes.\n",
        "\n",
        "[Refernece1: Stemming](http://www.cs.odu.edu/~jbollen/IR04/readings/readings5.pdf)\n",
        "\n",
        "\n",
        "[Reference2: Snowball](http://snowball.tartarus.org/texts/introduction.html) "
      ]
    },
    {
      "cell_type": "code",
      "metadata": {
        "id": "pPzf_nmGUG30",
        "colab_type": "code",
        "colab": {}
      },
      "source": [
        "# Stemming without NLTK\n",
        "import re\n",
        "def stem(phrase):\n",
        "  return ' '.join([re.findall('^(.*ss|.*?)(s)?$', word)[0][0].strip(\"'\") for word in phrase.lower().split()])"
      ],
      "execution_count": 0,
      "outputs": []
    },
    {
      "cell_type": "code",
      "metadata": {
        "id": "VMEF4HaayL4N",
        "colab_type": "code",
        "colab": {
          "base_uri": "https://localhost:8080/",
          "height": 34
        },
        "outputId": "fb4ca0c6-d2aa-440f-fd8a-493dddc2e156"
      },
      "source": [
        "stem('roses')"
      ],
      "execution_count": 6,
      "outputs": [
        {
          "output_type": "execute_result",
          "data": {
            "text/plain": [
              "'rose'"
            ]
          },
          "metadata": {
            "tags": []
          },
          "execution_count": 6
        }
      ]
    },
    {
      "cell_type": "code",
      "metadata": {
        "id": "ogb8j-dDygGx",
        "colab_type": "code",
        "colab": {
          "base_uri": "https://localhost:8080/",
          "height": 34
        },
        "outputId": "2672e456-c823-46ce-cb55-aa2d86840c71"
      },
      "source": [
        "stem(\"Roses are red, Violets are blue!\")"
      ],
      "execution_count": 7,
      "outputs": [
        {
          "output_type": "execute_result",
          "data": {
            "text/plain": [
              "'rose are red, violet are blue!'"
            ]
          },
          "metadata": {
            "tags": []
          },
          "execution_count": 7
        }
      ]
    },
    {
      "cell_type": "markdown",
      "metadata": {
        "id": "9HJ-EHrAyo_2",
        "colab_type": "text"
      },
      "source": [
        "The disadvantage is it just cuts the 's' at the end of words, it maynot necessarily remove the plurals but also removes the meaning sometimes.\n",
        "\n",
        "For more complex problems NLTK provides implementation of Porter Stemming algorithm, refernce1."
      ]
    },
    {
      "cell_type": "code",
      "metadata": {
        "id": "6hyjHhD0znQJ",
        "colab_type": "code",
        "colab": {
          "base_uri": "https://localhost:8080/",
          "height": 34
        },
        "outputId": "1613c7df-9136-4853-af72-014e6029bf3c"
      },
      "source": [
        "# using NLTK for stemming\n",
        "import nltk\n",
        "from nltk.stem.porter import PorterStemmer\n",
        "stemmer = PorterStemmer()\n",
        "' '.join([stemmer.stem(w).strip(\"'\") for w in \"dish washer's washed dishes\".split()])"
      ],
      "execution_count": 13,
      "outputs": [
        {
          "output_type": "execute_result",
          "data": {
            "text/plain": [
              "'dish washer wash dish'"
            ]
          },
          "metadata": {
            "tags": []
          },
          "execution_count": 13
        }
      ]
    },
    {
      "cell_type": "markdown",
      "metadata": {
        "id": "Is1N-e7bvo_g",
        "colab_type": "text"
      },
      "source": [
        "# Lemmatization\n",
        "\n",
        "Lemmatization usually refers to doing things properly with the use of a vocabulary and morphological analysis of words, normally aiming to remove inflectional endings only and to return the base or dictionary form of a word, which is known as the lemma .\n",
        "\n",
        "NLTK provides functions for this using the WordNet in the back ground. "
      ]
    },
    {
      "cell_type": "code",
      "metadata": {
        "id": "RR1PDIdj0VD3",
        "colab_type": "code",
        "colab": {
          "base_uri": "https://localhost:8080/",
          "height": 68
        },
        "outputId": "131e0c4d-af5f-4cfc-beba-62b718ec993e"
      },
      "source": [
        "# importing libraries\n",
        "import nltk\n",
        "nltk.download('wordnet')\n",
        "from nltk.stem import WordNetLemmatizer\n",
        "lemmatizer = WordNetLemmatizer()\n",
        "lemmatizer.lemmatize(\"better\")\n"
      ],
      "execution_count": 14,
      "outputs": [
        {
          "output_type": "stream",
          "text": [
            "[nltk_data] Downloading package wordnet to /root/nltk_data...\n",
            "[nltk_data]   Unzipping corpora/wordnet.zip.\n"
          ],
          "name": "stdout"
        },
        {
          "output_type": "execute_result",
          "data": {
            "text/plain": [
              "'better'"
            ]
          },
          "metadata": {
            "tags": []
          },
          "execution_count": 14
        }
      ]
    },
    {
      "cell_type": "markdown",
      "metadata": {
        "id": "_0afsa0q0-9Y",
        "colab_type": "text"
      },
      "source": [
        "**NLTK preserves the meaning of the word based on the parts of speech of the word, below are the few examples**"
      ]
    },
    {
      "cell_type": "code",
      "metadata": {
        "id": "foqdRYKs0rpI",
        "colab_type": "code",
        "colab": {
          "base_uri": "https://localhost:8080/",
          "height": 34
        },
        "outputId": "ec453e39-0325-4fde-e8ba-e349272d10d7"
      },
      "source": [
        "# a denotes the adjective part of the speech\n",
        "lemmatizer.lemmatize(\"better\", pos=\"a\")  "
      ],
      "execution_count": 15,
      "outputs": [
        {
          "output_type": "execute_result",
          "data": {
            "text/plain": [
              "'good'"
            ]
          },
          "metadata": {
            "tags": []
          },
          "execution_count": 15
        }
      ]
    },
    {
      "cell_type": "code",
      "metadata": {
        "id": "yDyAKLlG0vvd",
        "colab_type": "code",
        "colab": {
          "base_uri": "https://localhost:8080/",
          "height": 34
        },
        "outputId": "7e1c32bf-c19b-421c-a956-9be9bb4da436"
      },
      "source": [
        "# a denotes the adjective part of the speech\n",
        "lemmatizer.lemmatize(\"good\", pos=\"a\")"
      ],
      "execution_count": 16,
      "outputs": [
        {
          "output_type": "execute_result",
          "data": {
            "text/plain": [
              "'good'"
            ]
          },
          "metadata": {
            "tags": []
          },
          "execution_count": 16
        }
      ]
    },
    {
      "cell_type": "code",
      "metadata": {
        "id": "EL54GUlQ0z9j",
        "colab_type": "code",
        "colab": {
          "base_uri": "https://localhost:8080/",
          "height": 34
        },
        "outputId": "87c239b7-2c9e-44df-e88b-9f11c8ea3388"
      },
      "source": [
        "# a denotes the adjective part of the speech\n",
        "lemmatizer.lemmatize(\"goods\", pos=\"a\")"
      ],
      "execution_count": 17,
      "outputs": [
        {
          "output_type": "execute_result",
          "data": {
            "text/plain": [
              "'goods'"
            ]
          },
          "metadata": {
            "tags": []
          },
          "execution_count": 17
        }
      ]
    },
    {
      "cell_type": "code",
      "metadata": {
        "id": "HVHS4ArO026h",
        "colab_type": "code",
        "colab": {
          "base_uri": "https://localhost:8080/",
          "height": 34
        },
        "outputId": "6a56dd06-6810-4ee0-ebbf-d5d6d81c8d4e"
      },
      "source": [
        "# n denotes the noun part of the speech\n",
        "lemmatizer.lemmatize(\"goods\", pos=\"n\")"
      ],
      "execution_count": 18,
      "outputs": [
        {
          "output_type": "execute_result",
          "data": {
            "text/plain": [
              "'good'"
            ]
          },
          "metadata": {
            "tags": []
          },
          "execution_count": 18
        }
      ]
    },
    {
      "cell_type": "code",
      "metadata": {
        "id": "VFudVKZ805XZ",
        "colab_type": "code",
        "colab": {
          "base_uri": "https://localhost:8080/",
          "height": 34
        },
        "outputId": "bed91150-2317-48ef-afb0-2548bbab7aaf"
      },
      "source": [
        "# n denotes the noun part of the speech\n",
        "lemmatizer.lemmatize(\"goodness\", pos=\"n\")"
      ],
      "execution_count": 19,
      "outputs": [
        {
          "output_type": "execute_result",
          "data": {
            "text/plain": [
              "'goodness'"
            ]
          },
          "metadata": {
            "tags": []
          },
          "execution_count": 19
        }
      ]
    },
    {
      "cell_type": "code",
      "metadata": {
        "id": "4sUB2RB707uL",
        "colab_type": "code",
        "colab": {
          "base_uri": "https://localhost:8080/",
          "height": 34
        },
        "outputId": "a646ce2a-0ad3-4c00-e963-17c200fe7c19"
      },
      "source": [
        "# a denotes the adjective part of the speech\n",
        "lemmatizer.lemmatize(\"best\", pos=\"a\")"
      ],
      "execution_count": 20,
      "outputs": [
        {
          "output_type": "execute_result",
          "data": {
            "text/plain": [
              "'best'"
            ]
          },
          "metadata": {
            "tags": []
          },
          "execution_count": 20
        }
      ]
    },
    {
      "cell_type": "markdown",
      "metadata": {
        "id": "I2AVTxAj1iY8",
        "colab_type": "text"
      },
      "source": [
        "**If we are building a search based appliaction stemming and lemma will improve the recall of the documents**\n",
        "\n",
        "\n",
        "**If we are developing a search based chatbot, accuracy is more important, chatbot should use the un-normalized text for the closeness to the match.**"
      ]
    },
    {
      "cell_type": "code",
      "metadata": {
        "id": "-4tf_Yme0-Bx",
        "colab_type": "code",
        "colab": {}
      },
      "source": [
        ""
      ],
      "execution_count": 0,
      "outputs": []
    }
  ]
}