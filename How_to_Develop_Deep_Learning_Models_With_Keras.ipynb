{
  "nbformat": 4,
  "nbformat_minor": 0,
  "metadata": {
    "kernelspec": {
      "display_name": "Python 3",
      "language": "python",
      "name": "python3"
    },
    "language_info": {
      "codemirror_mode": {
        "name": "ipython",
        "version": 3
      },
      "file_extension": ".py",
      "mimetype": "text/x-python",
      "name": "python",
      "nbconvert_exporter": "python",
      "pygments_lexer": "ipython3",
      "version": "3.7.1"
    },
    "colab": {
      "name": "How to Develop Deep Learning Models With Keras.ipynb",
      "version": "0.3.2",
      "provenance": []
    }
  },
  "cells": [
    {
      "cell_type": "markdown",
      "metadata": {
        "id": "hy1wTXcKIv_F",
        "colab_type": "text"
      },
      "source": [
        "# How to Develop Deep Learning Models With Keras"
      ]
    },
    {
      "cell_type": "markdown",
      "metadata": {
        "id": "8V_tdA1hIv_G",
        "colab_type": "text"
      },
      "source": [
        "Keras is a powerful and easy-to-use free open source Python library for developing and evaluating deep learning models. It wraps the efficient numerical computation libraries Theano and TensorFlow and allows you to define and train neural network models in just a few lines of code."
      ]
    },
    {
      "cell_type": "markdown",
      "metadata": {
        "id": "NT7A6BrIIv_H",
        "colab_type": "text"
      },
      "source": [
        "# 4.1 Keras Model Life - Cycle"
      ]
    },
    {
      "cell_type": "markdown",
      "metadata": {
        "id": "e8ogXG7pIv_H",
        "colab_type": "text"
      },
      "source": [
        "Below is an overview of the steps in the neural network model life-cycle in Keras\n",
        "\n",
        "Load Data.\n",
        "\n",
        "Define Keras Model.\n",
        "\n",
        "Compile Keras Model.\n",
        "\n",
        "Fit Keras Model.\n",
        "\n",
        "Evaluate Keras Model.\n",
        "\n",
        "Tie It All Together.\n",
        "\n",
        "Make Predictions"
      ]
    },
    {
      "cell_type": "markdown",
      "metadata": {
        "id": "2yEDpCfYIv_I",
        "colab_type": "text"
      },
      "source": [
        "# 4.1.1 Load Data"
      ]
    },
    {
      "cell_type": "markdown",
      "metadata": {
        "id": "Gd3Ors3uIv_J",
        "colab_type": "text"
      },
      "source": [
        "The first step is to define the functions and classes we intend to use in this tutorial. We will use the NumPy library to load our dataset and we will use two classes from the Keras library to define our model.\n",
        "\n",
        "The imports required are listed below"
      ]
    },
    {
      "cell_type": "code",
      "metadata": {
        "id": "w6HWDcFNIv_J",
        "colab_type": "code",
        "colab": {}
      },
      "source": [
        "# first neural network with keras tutorial\n",
        "from numpy import loadtxt\n",
        "from keras.models import Sequential\n",
        "from keras.layers import Dense\n",
        "..."
      ],
      "execution_count": 0,
      "outputs": []
    },
    {
      "cell_type": "markdown",
      "metadata": {
        "id": "REAHzkhqIv_N",
        "colab_type": "text"
      },
      "source": [
        "We can now load our dataset. In this Keras tutorial, we are going to use the Pima Indians onset of diabetes dataset. This is a standard machine learning dataset from the UCI Machine Learning repository. It describes patient medical record data for Pima Indians and whether they had an onset of diabetes within five years.\n",
        "\n",
        "As such, it is a binary classification problem (onset of diabetes as 1 or not as 0). All of the input variables that describe each patient are numerical. This makes it easy to use directly with neural networks that expect numerical input and output values, and ideal for our first neural network in Keras."
      ]
    },
    {
      "cell_type": "markdown",
      "metadata": {
        "id": "H0YEG3-CIv_O",
        "colab_type": "text"
      },
      "source": [
        "There are eight input variables and one output variable (the last column). We will be learning a model to map rows of input variables (X) to an output variable (y), which we often summarize as y = f(X).\n",
        "\n",
        "The variables can be summarized as follows:\n",
        "\n",
        "Input Variables (X):\n",
        "\n",
        "Number of times pregnant\n",
        "\n",
        "Plasma glucose concentration a 2 hours in an oral glucose tolerance test\n",
        "\n",
        "Diastolic blood pressure (mm Hg)\n",
        "\n",
        "Triceps skin fold thickness (mm)\n",
        "\n",
        "2-Hour serum insulin (mu U/ml)\n",
        "\n",
        "Body mass index (weight in kg/(height in m)^2)\n",
        "\n",
        "Diabetes pedigree function\n",
        "\n",
        "Age (years)\n",
        "\n",
        "Output Variables (y):\n",
        "\n",
        "1.Class variable (0 or 1)\n",
        "Once the CSV file is loaded into memory, we can split the columns of data into input and output variables.\n",
        "\n",
        "The data will be stored in a 2D array where the first dimension is rows and the second dimension is columns We can split the array into two arrays by selecting subsets of columns using the standard NumPy slice operator or “:” We can select the first 8 columns from index 0 to index 7 via the slice 0:8. We can then select the output column (the 9th variable) via index 8."
      ]
    },
    {
      "cell_type": "code",
      "metadata": {
        "id": "V1fyctNiIv_P",
        "colab_type": "code",
        "colab": {}
      },
      "source": [
        "# load the dataset\n",
        "dataset = loadtxt('pima-indians-diabetes.csv', delimiter=',')\n",
        "# split into input (X) and output (y) variables\n",
        "X = dataset[:,0:8]\n",
        "y = dataset[:,8]"
      ],
      "execution_count": 0,
      "outputs": []
    },
    {
      "cell_type": "markdown",
      "metadata": {
        "id": "JjhtKKSlIv_S",
        "colab_type": "text"
      },
      "source": [
        "# 4.1.2 Define Keras Model"
      ]
    },
    {
      "cell_type": "markdown",
      "metadata": {
        "id": "Dty17y4eIv_S",
        "colab_type": "text"
      },
      "source": [
        "Models in Keras are defined as a sequence of layers. We create a Sequential model and add layers one at a time until we are happy with our network architecture.The first thing to get right is to ensure the input layer has the right number of input features. This can be specified when creating the first layer with the input_dim argument and setting it to 8 for the 8 input variables. How do we know the number of layers and their types? This is a very hard question. There are heuristics that we can use and often the best network structure is found through a process of trial and error experimentation (I explain more about this here). Generally, you need a network large enough to capture the structure of the problem. In this example, we will use a fully-connected network structure with three layers. Fully connected layers are defined using the Dense class. We can specify the number of neurons or nodes in the layer as the first argument, and specify the activation function using the activation argument. We will use the rectified linear unit activation function referred to as ReLU on the first two layers and the Sigmoid function in the output layer.\n",
        "\n",
        "It used to be the case that Sigmoid and Tanh activation functions were preferred for all layers. These days, better performance is achieved using the ReLU activation function. We use a sigmoid on the output layer to ensure our network output is between 0 and 1 and easy to map to either a probability of class 1 or snap to a hard classification of either class with a default threshold of 0.5.\n",
        "\n",
        "We can piece it all together by adding each layer:\n",
        "\n",
        "The model expects rows of data with 8 variables (the input_dim=8 argument)\n",
        "\n",
        "The first hidden layer has 12 nodes and uses the relu activation function.\n",
        "\n",
        "The second hidden layer has 8 nodes and uses the relu activation function.\n",
        "\n",
        "The output layer has one node and uses the sigmoid activation function."
      ]
    },
    {
      "cell_type": "code",
      "metadata": {
        "id": "fQ0-s8OEIv_T",
        "colab_type": "code",
        "colab": {}
      },
      "source": [
        "# define the keras model\n",
        "model = Sequential()\n",
        "model.add(Dense(12, input_dim=8, activation='relu'))\n",
        "model.add(Dense(8, activation='relu'))\n",
        "model.add(Dense(1, activation='sigmoid'))"
      ],
      "execution_count": 0,
      "outputs": []
    },
    {
      "cell_type": "markdown",
      "metadata": {
        "id": "nuTDK8iRIv_Y",
        "colab_type": "text"
      },
      "source": [
        "# 4.1.3 Compile Keras Model"
      ]
    },
    {
      "cell_type": "markdown",
      "metadata": {
        "id": "Vl6dPKL5Iv_Y",
        "colab_type": "text"
      },
      "source": [
        "Now that the model is defined, we can compile it. Compiling the model uses the efficient numerical libraries under the covers (the so-called backend) such as Theano or TensorFlow. The backend automatically chooses the best way to represent the network for training and making predictions to run on your hardware, such as CPU or GPU or even distributed. When compiling, we must specify some additional properties required when training the network. Remember training a network means finding the best set of weights to map inputs to outputs in our dataset. We must specify the loss function to use to evaluate a set of weights, the optimizer is used to search through different weights for the network and any optional metrics we would like to collect and report during training.\n",
        "\n",
        "\n",
        "In this case, we will use cross entropy as the loss argument. This loss is for a binary classification problems and is defined in Keras as “binary_crossentropy“. You can learn more about choosing loss functions based on your problem here\n",
        "\n",
        "Finally, because it is a classification problem, we will collect and report the classification accuracy, defined via the metrics argument."
      ]
    },
    {
      "cell_type": "code",
      "metadata": {
        "id": "Z6A21QegIv_Z",
        "colab_type": "code",
        "colab": {}
      },
      "source": [
        "# compile the keras model\n",
        "model.compile(loss='binary_crossentropy', optimizer='adam', metrics=['accuracy'])"
      ],
      "execution_count": 0,
      "outputs": []
    },
    {
      "cell_type": "markdown",
      "metadata": {
        "id": "616rt4LhIv_c",
        "colab_type": "text"
      },
      "source": [
        "# 4.1.4 Fit Keras"
      ]
    },
    {
      "cell_type": "markdown",
      "metadata": {
        "id": "O-FCLSeQIv_c",
        "colab_type": "text"
      },
      "source": [
        "We have defined our model and compiled it ready for efficient computation. Now it is time to execute the model on some data.We can train or fit our model on our loaded data by calling the fit() function on the model.Training occurs over epochs and each epoch is split into batches.\n",
        "\n",
        "Epoch: One pass through all of the rows in the training dataset.\n",
        "\n",
        "Batch: One or more samples considered by the model within an epoch before weights are updated.\n",
        "\n",
        "One epoch is comprised of one or more batches, based on the chosen batch size and the model is fit for many epochs.\n",
        "The training process will run for a fixed number of iterations through the dataset called epochs, that we must specify using the epochs argument. We must also set the number of dataset rows that are considered before the model weights are updated within each epoch, called the batch size and set using the batch_size argument. For this problem, we will run for a small number of epochs (150) and use a relatively small batch size of 10. This means that each epoch will involve (150/10) 15 updates to the model weights. These configurations can be chosen experimentally by trial and error. We want to train the model enough so that it learns a good (or good enough) mapping of rows of input data to the output classification. The model will always have some error, but the amount of error will level out after some point for a given model configuration. This is called model convergence."
      ]
    },
    {
      "cell_type": "code",
      "metadata": {
        "id": "7gi5iTDuIv_d",
        "colab_type": "code",
        "colab": {}
      },
      "source": [
        "# fit the keras model on the dataset\n",
        "model.fit(X, y, epochs=150, batch_size=10)"
      ],
      "execution_count": 0,
      "outputs": []
    },
    {
      "cell_type": "markdown",
      "metadata": {
        "id": "IpTRA1w8Iv_g",
        "colab_type": "text"
      },
      "source": [
        "This is where the work happens on your CPU or GPU. No GPU is required for this example, but if you’re interested in how to run large models on GPU hardware cheaply in the cloud."
      ]
    },
    {
      "cell_type": "markdown",
      "metadata": {
        "id": "KBT75gsFIv_h",
        "colab_type": "text"
      },
      "source": [
        "# 4.1.5 Evaluate Keras Model"
      ]
    },
    {
      "cell_type": "markdown",
      "metadata": {
        "id": "gyFRXLx4Iv_i",
        "colab_type": "text"
      },
      "source": [
        "Neural network on the entire dataset and we can evaluate the performance of the network on the same dataset. This will only give us an idea of how well we have modeled the dataset (e.g. train accuracy), but no idea of how well the algorithm might perform on new data. We have done this for simplicity, but ideally, you could separate your data into train and test datasets for training and evaluation of your model. You can evaluate your model on your training dataset using the evaluate() function on your model and pass it the same input and output used to train the model. This will generate a prediction for each input and output pair and collect scores, including the average loss and any metrics you have configured, such as accuracy.\n",
        "\n",
        "The evaluate() function will return a list with two values. The first will be the loss of the model on the dataset and the second will be the accuracy of the model on the dataset. We are only interested in reporting the accuracy, so we will ignore the loss value."
      ]
    },
    {
      "cell_type": "code",
      "metadata": {
        "id": "plt2qExuIv_i",
        "colab_type": "code",
        "colab": {}
      },
      "source": [
        "# evaluate the keras model\n",
        "_, accuracy = model.evaluate(X, y)\n",
        "print('Accuracy: %.2f' % (accuracy*100))"
      ],
      "execution_count": 0,
      "outputs": []
    },
    {
      "cell_type": "markdown",
      "metadata": {
        "id": "PHOM3TgjIv_l",
        "colab_type": "text"
      },
      "source": [
        "# Tie It All Together"
      ]
    },
    {
      "cell_type": "markdown",
      "metadata": {
        "id": "E2KqOlP1Iv_m",
        "colab_type": "text"
      },
      "source": [
        "Let’s tie it all together into a complete code example"
      ]
    },
    {
      "cell_type": "code",
      "metadata": {
        "id": "RDXt7mo7Iv_n",
        "colab_type": "code",
        "colab": {}
      },
      "source": [
        "# first neural network with keras tutorial\n",
        "from numpy import loadtxt\n",
        "from keras.models import Sequential\n",
        "from keras.layers import Dense\n",
        "# load the dataset\n",
        "dataset = loadtxt('pima-indians-diabetes.csv', delimiter=',')\n",
        "# split into input (X) and output (y) variables\n",
        "X = dataset[:,0:8]\n",
        "y = dataset[:,8]\n",
        "# define the keras model\n",
        "model = Sequential()\n",
        "model.add(Dense(12, input_dim=8, activation='relu'))\n",
        "model.add(Dense(8, activation='relu'))\n",
        "model.add(Dense(1, activation='sigmoid'))\n",
        "# compile the keras model\n",
        "model.compile(loss='binary_crossentropy', optimizer='adam', metrics=['accuracy'])\n",
        "# fit the keras model on the dataset\n",
        "model.fit(X, y, epochs=150, batch_size=10)\n",
        "# evaluate the keras model\n",
        "_, accuracy = model.evaluate(X, y)\n",
        "print('Accuracy: %.2f' % (accuracy*100))"
      ],
      "execution_count": 0,
      "outputs": []
    },
    {
      "cell_type": "markdown",
      "metadata": {
        "id": "EXldo6h8Iv_q",
        "colab_type": "text"
      },
      "source": [
        "Running this example, you should see a message for each of the 150 epochs printing the loss and accuracy, followed by the final evaluation of the trained model on the training dataset. It takes about 10 seconds to execute on my workstation running on the CPU.\n",
        "\n",
        "Ideally, we would like the loss to go to zero and accuracy to go to 1.0 (e.g. 100%). This is not possible for any but the most trivial machine learning problems. Instead, we will always have some error in our model. The goal is to choose a model configuration and training configuration that achieve the lowest loss and highest accuracy possible for a given dataset."
      ]
    },
    {
      "cell_type": "code",
      "metadata": {
        "id": "8Bwtkm7HIv_r",
        "colab_type": "code",
        "colab": {}
      },
      "source": [
        "768/768 [==============================] - 0s 63us/step - loss: 0.4817 - acc: 0.7708\n",
        "Epoch 147/150\n",
        "768/768 [==============================] - 0s 63us/step - loss: 0.4764 - acc: 0.7747\n",
        "Epoch 148/150\n",
        "768/768 [==============================] - 0s 63us/step - loss: 0.4737 - acc: 0.7682\n",
        "Epoch 149/150\n",
        "768/768 [==============================] - 0s 64us/step - loss: 0.4730 - acc: 0.7747\n",
        "Epoch 150/150\n",
        "768/768 [==============================] - 0s 63us/step - loss: 0.4754 - acc: 0.7799\n",
        "768/768 [==============================] - 0s 38us/step\n",
        "Accuracy: 76.56"
      ],
      "execution_count": 0,
      "outputs": []
    },
    {
      "cell_type": "markdown",
      "metadata": {
        "id": "C9cKD0eKIv_v",
        "colab_type": "text"
      },
      "source": [
        "Neural networks are a stochastic algorithm, meaning that the same algorithm on the same data can train a different model with different skill each time the code is run. This is a feature, not a bug"
      ]
    },
    {
      "cell_type": "markdown",
      "metadata": {
        "id": "4S1oscjwIv_v",
        "colab_type": "text"
      },
      "source": [
        "The variance in the performance of the model means that to get a reasonable approximation of how well your model is performing, you may need to fit it many times and calculate the average of the accuracy scores."
      ]
    },
    {
      "cell_type": "markdown",
      "metadata": {
        "id": "zE1j4g7pIv_w",
        "colab_type": "text"
      },
      "source": [
        "# 4.1.7 Make Predictions"
      ]
    },
    {
      "cell_type": "markdown",
      "metadata": {
        "id": "SPlf07-WIv_x",
        "colab_type": "text"
      },
      "source": [
        "Making predictions is as easy as calling the predict() function on the model. We are using a sigmoid activation function on the output layer, so the predictions will be a probability in the range between 0 and 1. We can easily convert them into a crisp binary prediction for this classification task by rounding them"
      ]
    },
    {
      "cell_type": "code",
      "metadata": {
        "id": "oQOY7gFcIv_x",
        "colab_type": "code",
        "colab": {}
      },
      "source": [
        "# make probability predictions with the model\n",
        "predictions = model.predict(X)\n",
        "# round predictions \n",
        "rounded = [round(x[0]) for x in predictions]"
      ],
      "execution_count": 0,
      "outputs": []
    },
    {
      "cell_type": "code",
      "metadata": {
        "id": "xL5MmEb3Iv_0",
        "colab_type": "code",
        "colab": {}
      },
      "source": [
        "# make class predictions with the model\n",
        "predictions = model.predict_classes(X)"
      ],
      "execution_count": 0,
      "outputs": []
    },
    {
      "cell_type": "code",
      "metadata": {
        "id": "Mh6JoQxgIv_4",
        "colab_type": "code",
        "colab": {}
      },
      "source": [
        "# first neural network with keras make predictions\n",
        "from numpy import loadtxt\n",
        "from keras.models import Sequential\n",
        "from keras.layers import Dense\n",
        "# load the dataset\n",
        "dataset = loadtxt('pima-indians-diabetes.csv', delimiter=',')\n",
        "# split into input (X) and output (y) variables\n",
        "X = dataset[:,0:8]\n",
        "y = dataset[:,8]\n",
        "# define the keras model\n",
        "model = Sequential()\n",
        "model.add(Dense(12, input_dim=8, activation='relu'))\n",
        "model.add(Dense(8, activation='relu'))\n",
        "model.add(Dense(1, activation='sigmoid'))\n",
        "# compile the keras model\n",
        "model.compile(loss='binary_crossentropy', optimizer='adam', metrics=['accuracy'])\n",
        "# fit the keras model on the dataset\n",
        "model.fit(X, y, epochs=150, batch_size=10, verbose=0)\n",
        "# make class predictions with the model\n",
        "predictions = model.predict_classes(X)\n",
        "# summarize the first 5 cases\n",
        "for i in range(5):\n",
        "\tprint('%s => %d (expected %d)' % (X[i].tolist(), predictions[i], y[i]))"
      ],
      "execution_count": 0,
      "outputs": []
    },
    {
      "cell_type": "markdown",
      "metadata": {
        "id": "avi6SEgPIv_7",
        "colab_type": "text"
      },
      "source": [
        "Running the example does not show the progress bar as before as we have set the verbose argument to 0. After the model is fit, predictions are made for all examples in the dataset, and the input rows and predicted class value for the first 5 examples is printed and compared to the expected class value. We can see that most rows are correctly predicted. In fact, we would expect about 76.9% of the rows to be correctly predicted based on our estimated performance of the model in the previous section."
      ]
    },
    {
      "cell_type": "code",
      "metadata": {
        "id": "--Rb2vnhIv_8",
        "colab_type": "code",
        "colab": {}
      },
      "source": [
        "[6.0, 148.0, 72.0, 35.0, 0.0, 33.6, 0.627, 50.0] => 0 (expected 1)\n",
        "[1.0, 85.0, 66.0, 29.0, 0.0, 26.6, 0.351, 31.0] => 0 (expected 0)\n",
        "[8.0, 183.0, 64.0, 0.0, 0.0, 23.3, 0.672, 32.0] => 1 (expected 1)\n",
        "[1.0, 89.0, 66.0, 23.0, 94.0, 28.1, 0.167, 21.0] => 0 (expected 0)\n",
        "[0.0, 137.0, 40.0, 35.0, 168.0, 43.1, 2.288, 33.0] => 1 (expected 1)"
      ],
      "execution_count": 0,
      "outputs": []
    }
  ]
}