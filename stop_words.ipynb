{
  "nbformat": 4,
  "nbformat_minor": 0,
  "metadata": {
    "colab": {
      "name": "stop_words.ipynb",
      "version": "0.3.2",
      "provenance": []
    },
    "kernelspec": {
      "name": "python3",
      "display_name": "Python 3"
    }
  },
  "cells": [
    {
      "cell_type": "markdown",
      "metadata": {
        "id": "SuJMychkcRfz",
        "colab_type": "text"
      },
      "source": [
        "# Removing Stop Words\n",
        "Stop words are  common words that carry no meaning or less meaning compared to other keywords."
      ]
    },
    {
      "cell_type": "code",
      "metadata": {
        "id": "N0d-6cSMnyNH",
        "colab_type": "code",
        "outputId": "ec76c944-3ba5-4392-98e7-3a6618c35d9a",
        "colab": {
          "base_uri": "https://localhost:8080/",
          "height": 136
        }
      },
      "source": [
        "text=['This is introduction to NLP & NLU', 'It is likely to be useful to students',\n",
        "     'Deep learning is the new electrcity' , 'python is the best language!' , \n",
        "     'I like this note-book', 'I want to learn more from these note-books']\n",
        "#convert list to data frame\n",
        "import pandas as pd\n",
        "df = pd.DataFrame({'tweet':text})\n",
        "print(df)"
      ],
      "execution_count": 0,
      "outputs": [
        {
          "output_type": "stream",
          "text": [
            "                                        tweet\n",
            "0           This is introduction to NLP & NLU\n",
            "1       It is likely to be useful to students\n",
            "2         Deep learning is the new electrcity\n",
            "3                python is the best language!\n",
            "4                       I like this note-book\n",
            "5  I want to learn more from these note-books\n"
          ],
          "name": "stdout"
        }
      ]
    },
    {
      "cell_type": "code",
      "metadata": {
        "id": "I8f3c9PNn1Bp",
        "colab_type": "code",
        "outputId": "0a1c2da9-c86b-4942-92c2-0c7b9afcf50d",
        "colab": {
          "base_uri": "https://localhost:8080/",
          "height": 105
        }
      },
      "source": [
        "# import nltk\n",
        "import nltk\n",
        "nltk.download()\n",
        "from nltk.corpus import stopwords"
      ],
      "execution_count": 0,
      "outputs": [
        {
          "output_type": "stream",
          "text": [
            "NLTK Downloader\n",
            "---------------------------------------------------------------------------\n",
            "    d) Download   l) List    u) Update   c) Config   h) Help   q) Quit\n",
            "---------------------------------------------------------------------------\n"
          ],
          "name": "stdout"
        }
      ]
    },
    {
      "cell_type": "code",
      "metadata": {
        "id": "vyL82FHWn5ij",
        "colab_type": "code",
        "colab": {}
      },
      "source": [
        "# removing stop words\n",
        "stop = stopwords.words('english')\n",
        "df['tweet'] = df['tweet'].apply(lambda x: \"\n",
        "\".join(x for x in x.split() if x not in stop))"
      ],
      "execution_count": 0,
      "outputs": []
    },
    {
      "cell_type": "code",
      "metadata": {
        "id": "XnhNZaR-oPHe",
        "colab_type": "code",
        "colab": {}
      },
      "source": [
        "# using spaCy\n",
        "import spacy\n",
        "print('spaCy Version: %s' % (spacy.__version__))\n",
        "spacy_nlp = spacy.load('en_core_web_sm')"
      ],
      "execution_count": 0,
      "outputs": []
    },
    {
      "cell_type": "code",
      "metadata": {
        "id": "p_Nm8XwcoUZY",
        "colab_type": "code",
        "colab": {}
      },
      "source": [
        "doc = spacy_nlp(tweet)\n",
        "tokens = [token.text for token in doc if not token.is_stop]\n",
        "print('Original Article: %s' % (article))\n",
        "print()\n",
        "print(tokens)"
      ],
      "execution_count": 0,
      "outputs": []
    },
    {
      "cell_type": "markdown",
      "metadata": {
        "id": "B3Gr3t2Sooxl",
        "colab_type": "text"
      },
      "source": [
        "**One advantage of using spaCy over NLTK is we  can add stop words on a fly**"
      ]
    },
    {
      "cell_type": "code",
      "metadata": {
        "id": "IZfjhyuDoyF-",
        "colab_type": "code",
        "colab": {}
      },
      "source": [
        "customize_stop_words = [\n",
        "    'computing', 'filtered'\n",
        "]\n",
        "for w in customize_stop_words:\n",
        "    spacy_nlp.vocab[w].is_stop = True\n",
        "doc = spacy_nlp(article)\n",
        "tokens = [token.text for token in doc if not token.is_stop]\n",
        "print('Original Tweet: %s' % (tweet))\n",
        "print()\n",
        "print(tokens)"
      ],
      "execution_count": 0,
      "outputs": []
    },
    {
      "cell_type": "markdown",
      "metadata": {
        "id": "xLBmo5OHpA4z",
        "colab_type": "text"
      },
      "source": [
        "*We can see the top-list of stop words in spaCy or NLTK in the following manner*"
      ]
    },
    {
      "cell_type": "code",
      "metadata": {
        "id": "29dw4PMao_qR",
        "colab_type": "code",
        "colab": {}
      },
      "source": [
        "spacy_stopwords = spacy.lang.en.stop_words.STOP_WORDS\n",
        "print('Number of stop words: %d' % len(spacy_stopwords))\n",
        "print('First ten stop words: %s' % list(spacy_stopwords)[:10])"
      ],
      "execution_count": 0,
      "outputs": []
    },
    {
      "cell_type": "code",
      "metadata": {
        "id": "QAURMCTRpJN2",
        "colab_type": "code",
        "colab": {}
      },
      "source": [
        ""
      ],
      "execution_count": 0,
      "outputs": []
    }
  ]
}