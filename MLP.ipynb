{
  "nbformat": 4,
  "nbformat_minor": 0,
  "metadata": {
    "colab": {
      "name": "MLP.ipynb",
      "version": "0.3.2",
      "provenance": []
    },
    "kernelspec": {
      "name": "python3",
      "display_name": "Python 3"
    }
  },
  "cells": [
    {
      "cell_type": "code",
      "metadata": {
        "id": "f8YTLH2Iq9J3",
        "colab_type": "code",
        "colab": {}
      },
      "source": [
        "# Implemetation of MLP\n",
        "import torch \n",
        "import torch.nn as nn\n",
        "import torch.nn.functional as F\n"
      ],
      "execution_count": 0,
      "outputs": []
    },
    {
      "cell_type": "code",
      "metadata": {
        "id": "xMdIkrUrrK6U",
        "colab_type": "code",
        "colab": {}
      },
      "source": [
        "class MultilayerPerceptron(nn.Module):\n",
        "    def __init__(self, input_dim, hidden_dim, output_dim):\n",
        "        \"\"\"\n",
        "        Args:\n",
        "            input_dim (int): the size of the input vectors\n",
        "            hidden_dim (int): the output size of the first Linear layer\n",
        "            output_dim (int): the output size of the second Linear layer\n",
        "        \"\"\"\n",
        "        super(MultilayerPerceptron, self).__init__()\n",
        "        self.fc1 = nn.Linear(input_dim, hidden_dim)\n",
        "        self.fc2 = nn.Linear(hidden_dim, output_dim)\n",
        "\n",
        "    def forward(self, x_in, apply_softmax=False):\n",
        "        \"\"\"The forward pass of the MLP\n",
        "        \n",
        "        Args:\n",
        "            x_in (torch.Tensor): an input data tensor. \n",
        "                x_in.shape should be (batch, input_dim)\n",
        "            apply_softmax (bool): a flag for the softmax activation\n",
        "                should be false if used with the Cross Entropy losses\n",
        "        Returns:\n",
        "            the resulting tensor. tensor.shape should be (batch, output_dim)\n",
        "        \"\"\"\n",
        "        intermediate = F.relu(self.fc1(x_in))\n",
        "        output = self.fc2(intermediate)\n",
        "        \n",
        "        if apply_softmax:\n",
        "            output = F.softmax(output, dim=1)\n",
        "        return output\n"
      ],
      "execution_count": 0,
      "outputs": []
    },
    {
      "cell_type": "code",
      "metadata": {
        "id": "eoqIg-iArsx6",
        "colab_type": "code",
        "colab": {
          "base_uri": "https://localhost:8080/",
          "height": 85
        },
        "outputId": "dd1406e6-8a56-4c5a-825c-205a5c007a67"
      },
      "source": [
        "batch_size = 2 # number of samples input at once\n",
        "input_dim = 3\n",
        "hidden_dim = 100\n",
        "output_dim = 4\n",
        "\n",
        "# Initialize model\n",
        "mlp = MultilayerPerceptron(input_dim, hidden_dim, output_dim)\n",
        "print(mlp)"
      ],
      "execution_count": 6,
      "outputs": [
        {
          "output_type": "stream",
          "text": [
            "MultilayerPerceptron(\n",
            "  (fc1): Linear(in_features=3, out_features=100, bias=True)\n",
            "  (fc2): Linear(in_features=100, out_features=4, bias=True)\n",
            ")\n"
          ],
          "name": "stdout"
        }
      ]
    },
    {
      "cell_type": "code",
      "metadata": {
        "id": "JCOMm1X2sC7I",
        "colab_type": "code",
        "colab": {}
      },
      "source": [
        "def describe(x):\n",
        "    print(\"Type: {}\".format(x.type()))\n",
        "    print(\"Shape/size: {}\".format(x.shape))\n",
        "    print(\"Values: \\n{}\".format(x))"
      ],
      "execution_count": 0,
      "outputs": []
    },
    {
      "cell_type": "code",
      "metadata": {
        "id": "XueldjzCsFaO",
        "colab_type": "code",
        "colab": {
          "base_uri": "https://localhost:8080/",
          "height": 102
        },
        "outputId": "dfa2d78c-fcc2-4388-a70d-9371e0249f8e"
      },
      "source": [
        "# Inputs\n",
        "x_input = torch.rand(batch_size, input_dim)\n",
        "describe(x_input)"
      ],
      "execution_count": 8,
      "outputs": [
        {
          "output_type": "stream",
          "text": [
            "Type: torch.FloatTensor\n",
            "Shape/size: torch.Size([2, 3])\n",
            "Values: \n",
            "tensor([[0.9306, 0.6729, 0.5635],\n",
            "        [0.4303, 0.6484, 0.6657]])\n"
          ],
          "name": "stdout"
        }
      ]
    },
    {
      "cell_type": "code",
      "metadata": {
        "id": "z9P84DIfsHuC",
        "colab_type": "code",
        "colab": {
          "base_uri": "https://localhost:8080/",
          "height": 102
        },
        "outputId": "33b3f0ca-4375-4029-bd25-a88f8cc5dcce"
      },
      "source": [
        "y_output = mlp(x_input, apply_softmax=False)\n",
        "describe(y_output)"
      ],
      "execution_count": 9,
      "outputs": [
        {
          "output_type": "stream",
          "text": [
            "Type: torch.FloatTensor\n",
            "Shape/size: torch.Size([2, 4])\n",
            "Values: \n",
            "tensor([[ 0.0692, -0.2544,  0.1580, -0.0177],\n",
            "        [ 0.0321, -0.2138,  0.0640, -0.0506]], grad_fn=<AddmmBackward>)\n"
          ],
          "name": "stdout"
        }
      ]
    },
    {
      "cell_type": "code",
      "metadata": {
        "id": "2Q5Axc1_sJt_",
        "colab_type": "code",
        "colab": {
          "base_uri": "https://localhost:8080/",
          "height": 102
        },
        "outputId": "79439e15-3780-42ca-ca24-e74bff892555"
      },
      "source": [
        "y_output = mlp(x_input, apply_softmax=True)\n",
        "describe(y_output)"
      ],
      "execution_count": 10,
      "outputs": [
        {
          "output_type": "stream",
          "text": [
            "Type: torch.FloatTensor\n",
            "Shape/size: torch.Size([2, 4])\n",
            "Values: \n",
            "tensor([[0.2679, 0.1938, 0.2927, 0.2456],\n",
            "        [0.2677, 0.2094, 0.2764, 0.2465]], grad_fn=<SoftmaxBackward>)\n"
          ],
          "name": "stdout"
        }
      ]
    },
    {
      "cell_type": "code",
      "metadata": {
        "id": "2ymjod5GsL-1",
        "colab_type": "code",
        "colab": {
          "base_uri": "https://localhost:8080/",
          "height": 170
        },
        "outputId": "44956bb9-68ad-411b-aad6-41ae6e970473"
      },
      "source": [
        "class MultilayerPerceptron(nn.Module):\n",
        "    def __init__(self, input_dim, hidden_dim, output_dim):\n",
        "        \"\"\"\n",
        "        Args:\n",
        "            input_dim (int): the size of the input vectors\n",
        "            hidden_dim (int): the output size of the first Linear layer\n",
        "            output_dim (int): the output size of the second Linear layer\n",
        "        \"\"\"\n",
        "        super(MultilayerPerceptron, self).__init__()\n",
        "        self.fc1 = nn.Linear(input_dim, hidden_dim)\n",
        "        self.fc2 = nn.Linear(hidden_dim, output_dim)\n",
        "\n",
        "    def forward(self, x_in, apply_softmax=False):\n",
        "        \"\"\"The forward pass of the MLP\n",
        "        \n",
        "        Args:\n",
        "            x_in (torch.Tensor): an input data tensor. \n",
        "                x_in.shape should be (batch, input_dim)\n",
        "            apply_softmax (bool): a flag for the softmax activation\n",
        "                should be false if used with the Cross Entropy losses\n",
        "        Returns:\n",
        "            the resulting tensor. tensor.shape should be (batch, output_dim)\n",
        "        \"\"\"\n",
        "        intermediate = F.relu(self.fc1(x_in))\n",
        "        output = self.fc2(F.dropout(intermediate, p=0.5))\n",
        "        \n",
        "        if apply_softmax:\n",
        "            output = F.softmax(output, dim=1)\n",
        "        return output\n",
        "\n",
        "batch_size = 2 # number of samples input at once\n",
        "input_dim = 3\n",
        "hidden_dim = 100\n",
        "output_dim = 4\n",
        "\n",
        "# Initialize model\n",
        "mlp = MultilayerPerceptron(input_dim, hidden_dim, output_dim)\n",
        "print(mlp)\n",
        "\n",
        "y_output = mlp(x_input, apply_softmax=False)\n",
        "describe(y_output)"
      ],
      "execution_count": 11,
      "outputs": [
        {
          "output_type": "stream",
          "text": [
            "MultilayerPerceptron(\n",
            "  (fc1): Linear(in_features=3, out_features=100, bias=True)\n",
            "  (fc2): Linear(in_features=100, out_features=4, bias=True)\n",
            ")\n",
            "Type: torch.FloatTensor\n",
            "Shape/size: torch.Size([2, 4])\n",
            "Values: \n",
            "tensor([[-0.0432, -0.4461, -0.1067,  0.0958],\n",
            "        [-0.3605,  0.0295, -0.5094, -0.1962]], grad_fn=<AddmmBackward>)\n"
          ],
          "name": "stdout"
        }
      ]
    },
    {
      "cell_type": "code",
      "metadata": {
        "id": "R5ooTT6nsOiH",
        "colab_type": "code",
        "colab": {
          "base_uri": "https://localhost:8080/",
          "height": 51
        },
        "outputId": "bbf73cfe-677c-439c-ee1d-7cf7ab6b1aa3"
      },
      "source": [
        "batch_size = 2\n",
        "one_hot_size = 10\n",
        "sequence_width = 7\n",
        "data = torch.randn(batch_size, one_hot_size, sequence_width)\n",
        "conv1 = nn.Conv1d(in_channels=one_hot_size, out_channels=16, kernel_size=3)\n",
        "intermediate1 = conv1(data)\n",
        "print(data.size())\n",
        "print(intermediate1.size())"
      ],
      "execution_count": 12,
      "outputs": [
        {
          "output_type": "stream",
          "text": [
            "torch.Size([2, 10, 7])\n",
            "torch.Size([2, 16, 5])\n"
          ],
          "name": "stdout"
        }
      ]
    },
    {
      "cell_type": "code",
      "metadata": {
        "id": "gw3p1ZAFsRFa",
        "colab_type": "code",
        "colab": {
          "base_uri": "https://localhost:8080/",
          "height": 51
        },
        "outputId": "3b9a1e4e-a6c9-47c8-88dc-2bcb64c21218"
      },
      "source": [
        "conv2 = nn.Conv1d(in_channels=16, out_channels=32, kernel_size=3)\n",
        "conv3 = nn.Conv1d(in_channels=32, out_channels=64, kernel_size=3)\n",
        "\n",
        "intermediate2 = conv2(intermediate1)\n",
        "intermediate3 = conv3(intermediate2)\n",
        "\n",
        "print(intermediate2.size())\n",
        "print(intermediate3.size())\n"
      ],
      "execution_count": 13,
      "outputs": [
        {
          "output_type": "stream",
          "text": [
            "torch.Size([2, 32, 3])\n",
            "torch.Size([2, 64, 1])\n"
          ],
          "name": "stdout"
        }
      ]
    },
    {
      "cell_type": "code",
      "metadata": {
        "id": "BVRG-lHbsTXJ",
        "colab_type": "code",
        "colab": {
          "base_uri": "https://localhost:8080/",
          "height": 34
        },
        "outputId": "5821bda6-c185-4da3-fa77-a7329c8decdf"
      },
      "source": [
        "y_output = intermediate3.squeeze()\n",
        "print(y_output.size())"
      ],
      "execution_count": 14,
      "outputs": [
        {
          "output_type": "stream",
          "text": [
            "torch.Size([2, 64])\n"
          ],
          "name": "stdout"
        }
      ]
    },
    {
      "cell_type": "code",
      "metadata": {
        "id": "P98HRcmosVdB",
        "colab_type": "code",
        "colab": {
          "base_uri": "https://localhost:8080/",
          "height": 34
        },
        "outputId": "bb8549fb-45df-4b51-86e3-8a01d28ee2ba"
      },
      "source": [
        "intermediate2.mean(dim=0).mean(dim=1).sum()"
      ],
      "execution_count": 15,
      "outputs": [
        {
          "output_type": "execute_result",
          "data": {
            "text/plain": [
              "tensor(1.0443, grad_fn=<SumBackward0>)"
            ]
          },
          "metadata": {
            "tags": []
          },
          "execution_count": 15
        }
      ]
    },
    {
      "cell_type": "code",
      "metadata": {
        "id": "0iXTo_PNsXkd",
        "colab_type": "code",
        "colab": {
          "base_uri": "https://localhost:8080/",
          "height": 51
        },
        "outputId": "fcb0f0c2-b700-47a4-c868-56ce6c998695"
      },
      "source": [
        "# Method 2 of reducing to feature vectors\n",
        "print(intermediate1.view(batch_size, -1).size())\n",
        "\n",
        "# Method 3 of reducing to feature vectors\n",
        "print(torch.mean(intermediate1, dim=2).size())\n",
        "# print(torch.max(intermediate1, dim=2).size())\n",
        "# print(torch.sum(intermediate1, dim=2).size())"
      ],
      "execution_count": 16,
      "outputs": [
        {
          "output_type": "stream",
          "text": [
            "torch.Size([2, 80])\n",
            "torch.Size([2, 16])\n"
          ],
          "name": "stdout"
        }
      ]
    },
    {
      "cell_type": "code",
      "metadata": {
        "id": "VxiB5m1RsZ1n",
        "colab_type": "code",
        "colab": {
          "base_uri": "https://localhost:8080/",
          "height": 68
        },
        "outputId": "2eb3672c-a225-4772-b0fb-b8b250cdb7b6"
      },
      "source": [
        "# The full model will not be reproduced here. Instead, we will just show batch norm being used.\n",
        "\n",
        "conv1 = nn.Conv1d(in_channels=one_hot_size, out_channels=16, kernel_size=3)\n",
        "conv2 = nn.Conv1d(in_channels=16, out_channels=32, kernel_size=3)\n",
        "conv3 = nn.Conv1d(in_channels=32, out_channels=64, kernel_size=3)\n",
        "\n",
        "conv1_bn = nn.BatchNorm1d(num_features=16)\n",
        "conv2_bn = nn.BatchNorm1d(num_features=32)\n",
        "    \n",
        "intermediate1 = conv1_bn(F.relu(conv1(data)))\n",
        "intermediate2 = conv2_bn(F.relu(conv2(intermediate1)))\n",
        "intermediate3 = conv3(intermediate2)\n",
        "\n",
        "print(intermediate1.size())\n",
        "print(intermediate2.size())\n",
        "print(intermediate3.size())\n"
      ],
      "execution_count": 17,
      "outputs": [
        {
          "output_type": "stream",
          "text": [
            "torch.Size([2, 16, 5])\n",
            "torch.Size([2, 32, 3])\n",
            "torch.Size([2, 64, 1])\n"
          ],
          "name": "stdout"
        }
      ]
    },
    {
      "cell_type": "markdown",
      "metadata": {
        "id": "RRxYHJZUsg25",
        "colab_type": "text"
      },
      "source": [
        "BatchNorm computes its statistics over the batch and sequence dimensions. In other words, the input to each batchnorm1d is a tensor of size (B, C, L) (where b=batch, c=channels, and l=length). Each (B, L) slice should have 0-mean. This reduces covariate shift."
      ]
    },
    {
      "cell_type": "code",
      "metadata": {
        "id": "7sg22cT8sfuK",
        "colab_type": "code",
        "colab": {
          "base_uri": "https://localhost:8080/",
          "height": 136
        },
        "outputId": "ed857a2b-1067-44ad-8862-a5a3904befbb"
      },
      "source": [
        "intermediate2.mean(dim=(0, 2))"
      ],
      "execution_count": 18,
      "outputs": [
        {
          "output_type": "execute_result",
          "data": {
            "text/plain": [
              "tensor([ 1.8626e-09,  1.9868e-08,  1.9868e-08,  9.9341e-09, -2.9802e-08,\n",
              "         0.0000e+00, -4.9671e-09, -1.9868e-08,  0.0000e+00,  3.1044e-10,\n",
              "        -1.9868e-08, -2.4835e-09, -4.9671e-09, -2.9802e-08,  0.0000e+00,\n",
              "         0.0000e+00,  4.9671e-08, -9.9341e-09,  6.2088e-10,  1.3039e-08,\n",
              "         9.9341e-09, -1.4901e-08,  9.9341e-09,  0.0000e+00, -2.2352e-08,\n",
              "        -1.2418e-09, -3.9736e-08,  1.2418e-09, -2.4835e-08,  0.0000e+00,\n",
              "        -4.9671e-09,  0.0000e+00], grad_fn=<MeanBackward2>)"
            ]
          },
          "metadata": {
            "tags": []
          },
          "execution_count": 18
        }
      ]
    },
    {
      "cell_type": "markdown",
      "metadata": {
        "id": "eruMAtqHsn6V",
        "colab_type": "text"
      },
      "source": [
        "we cover convolutions. Below are code examples which instantiate the convolutions with various hyper parameter settings."
      ]
    },
    {
      "cell_type": "code",
      "metadata": {
        "id": "XBHVLP8NskeK",
        "colab_type": "code",
        "colab": {
          "base_uri": "https://localhost:8080/",
          "height": 425
        },
        "outputId": "ad287655-c74b-4481-edd8-76630ee7daa3"
      },
      "source": [
        "x = torch.randn(1, 2, 3, 3)\n",
        "describe(x)\n",
        "\n",
        "conv1 = nn.Conv2d(in_channels=2, out_channels=1, kernel_size=2)\n",
        "describe(conv1.weight)\n",
        "describe(conv1(x))"
      ],
      "execution_count": 19,
      "outputs": [
        {
          "output_type": "stream",
          "text": [
            "Type: torch.FloatTensor\n",
            "Shape/size: torch.Size([1, 2, 3, 3])\n",
            "Values: \n",
            "tensor([[[[-0.8042, -0.9000,  0.2477],\n",
            "          [ 0.5261, -0.3568, -0.1614],\n",
            "          [-0.0298,  1.6860,  0.0725]],\n",
            "\n",
            "         [[-2.1104, -1.1963,  1.0102],\n",
            "          [-0.9370, -0.8230,  0.8714],\n",
            "          [ 0.8653, -0.0199,  1.8770]]]])\n",
            "Type: torch.FloatTensor\n",
            "Shape/size: torch.Size([1, 2, 2, 2])\n",
            "Values: \n",
            "Parameter containing:\n",
            "tensor([[[[ 0.1364, -0.3066],\n",
            "          [-0.2983,  0.2009]],\n",
            "\n",
            "         [[ 0.1763,  0.2498],\n",
            "          [-0.3288, -0.2711]]]], requires_grad=True)\n",
            "Type: torch.FloatTensor\n",
            "Shape/size: torch.Size([1, 1, 2, 2])\n",
            "Values: \n",
            "tensor([[[[-0.2970, -0.1439],\n",
            "          [-0.2160, -1.0124]]]], grad_fn=<MkldnnConvolutionBackward>)\n"
          ],
          "name": "stdout"
        }
      ]
    },
    {
      "cell_type": "code",
      "metadata": {
        "id": "c_y8fg2Gsqva",
        "colab_type": "code",
        "colab": {
          "base_uri": "https://localhost:8080/",
          "height": 425
        },
        "outputId": "f4dd8bfb-d40f-48f2-8346-a2494a27f303"
      },
      "source": [
        "x = torch.randn(1, 1, 3, 3)\n",
        "describe(x)\n",
        "\n",
        "conv1 = nn.Conv2d(in_channels=1, out_channels=2, kernel_size=2)\n",
        "describe(conv1.weight)\n",
        "describe(conv1(x))"
      ],
      "execution_count": 20,
      "outputs": [
        {
          "output_type": "stream",
          "text": [
            "Type: torch.FloatTensor\n",
            "Shape/size: torch.Size([1, 1, 3, 3])\n",
            "Values: \n",
            "tensor([[[[-0.8242, -0.2874, -0.5634],\n",
            "          [-1.0233,  0.8660, -0.6022],\n",
            "          [ 0.6489, -1.1430, -1.0285]]]])\n",
            "Type: torch.FloatTensor\n",
            "Shape/size: torch.Size([2, 1, 2, 2])\n",
            "Values: \n",
            "Parameter containing:\n",
            "tensor([[[[-0.4151,  0.4286],\n",
            "          [-0.4139,  0.3740]]],\n",
            "\n",
            "\n",
            "        [[[ 0.0969,  0.3149],\n",
            "          [ 0.3956,  0.4101]]]], requires_grad=True)\n",
            "Type: torch.FloatTensor\n",
            "Shape/size: torch.Size([1, 2, 2, 2])\n",
            "Values: \n",
            "tensor([[[[ 1.0425, -0.6297],\n",
            "          [ 0.1759, -0.4529]],\n",
            "\n",
            "         [[ 0.1066,  0.2170],\n",
            "          [ 0.2881, -0.6530]]]], grad_fn=<MkldnnConvolutionBackward>)\n"
          ],
          "name": "stdout"
        }
      ]
    },
    {
      "cell_type": "code",
      "metadata": {
        "id": "TnClCmq9sss4",
        "colab_type": "code",
        "colab": {}
      },
      "source": [
        ""
      ],
      "execution_count": 0,
      "outputs": []
    }
  ]
}