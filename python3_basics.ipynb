{
  "nbformat": 4,
  "nbformat_minor": 0,
  "metadata": {
    "colab": {
      "name": "python3_basics.ipynb",
      "version": "0.3.2",
      "provenance": [],
      "collapsed_sections": []
    },
    "kernelspec": {
      "name": "python3",
      "display_name": "Python 3"
    }
  },
  "cells": [
    {
      "cell_type": "markdown",
      "metadata": {
        "id": "a7MvOjFbFLgK",
        "colab_type": "text"
      },
      "source": [
        "# Python Langugae Basics\n",
        "\n",
        "*   Basics for Python.\n",
        "*   Introduction to computational framework Numpy.\n",
        "*   Effective Python.\n",
        "*   References for further reading.\n",
        "\n",
        "\n",
        "---\n",
        "\n",
        "**References**\n",
        "\n",
        "[Numpy Tutorials](http://cs231n.github.io/python-numpy-tutorial/)\n",
        "\n",
        "[Read more about Python](https://wiki.python.org/moin/Why%20is%20Python%20a%20dynamic%20language%20and%20also%20a%20strongly%20typed%20language)\n"
      ]
    },
    {
      "cell_type": "markdown",
      "metadata": {
        "id": "ZP34ytrBFpvx",
        "colab_type": "text"
      },
      "source": [
        "**Python or R is the language of choice for many developers many deep-learning solutions.**\n",
        "\n",
        "**Major deep learning frameworks like PyTorch or Tensorflow uses Python**"
      ]
    },
    {
      "cell_type": "code",
      "metadata": {
        "id": "_w-i-kH4GGQn",
        "colab_type": "code",
        "colab": {}
      },
      "source": [
        "# how to write a function in python\n",
        "def QuickSort(arr):\n",
        "  if len(arr) <= 1:\n",
        "    return arr\n",
        "    pivot = arr[len(arr) // 2 ]\n",
        "    left = [x for x in arr if x < pivot] \n",
        "    middle = [x for x in arr if x == pivot]\n",
        "    right = [x for x in arr if x > pivot]\n",
        "    return QuickSort(left) + middle + QuickSort(right)"
      ],
      "execution_count": 0,
      "outputs": []
    },
    {
      "cell_type": "code",
      "metadata": {
        "id": "yma_IIcrG4Ou",
        "colab_type": "code",
        "outputId": "31ec71bd-68ca-41a6-9703-2c7b66ac60a7",
        "colab": {
          "base_uri": "https://localhost:8080/",
          "height": 164
        }
      },
      "source": [
        "print(anyFunction1([3,6,8,10,1,2,1]))"
      ],
      "execution_count": 5,
      "outputs": [
        {
          "output_type": "error",
          "ename": "NameError",
          "evalue": "ignored",
          "traceback": [
            "\u001b[0;31m---------------------------------------------------------------------------\u001b[0m",
            "\u001b[0;31mNameError\u001b[0m                                 Traceback (most recent call last)",
            "\u001b[0;32m<ipython-input-5-6855c11e46ad>\u001b[0m in \u001b[0;36m<module>\u001b[0;34m()\u001b[0m\n\u001b[0;32m----> 1\u001b[0;31m \u001b[0mprint\u001b[0m\u001b[0;34m(\u001b[0m\u001b[0manyFunction1\u001b[0m\u001b[0;34m(\u001b[0m\u001b[0;34m[\u001b[0m\u001b[0;36m3\u001b[0m\u001b[0;34m,\u001b[0m\u001b[0;36m6\u001b[0m\u001b[0;34m,\u001b[0m\u001b[0;36m8\u001b[0m\u001b[0;34m,\u001b[0m\u001b[0;36m10\u001b[0m\u001b[0;34m,\u001b[0m\u001b[0;36m1\u001b[0m\u001b[0;34m,\u001b[0m\u001b[0;36m2\u001b[0m\u001b[0;34m,\u001b[0m\u001b[0;36m1\u001b[0m\u001b[0;34m]\u001b[0m\u001b[0;34m)\u001b[0m\u001b[0;34m)\u001b[0m\u001b[0;34m\u001b[0m\u001b[0;34m\u001b[0m\u001b[0m\n\u001b[0m",
            "\u001b[0;31mNameError\u001b[0m: name 'anyFunction1' is not defined"
          ]
        }
      ]
    },
    {
      "cell_type": "code",
      "metadata": {
        "id": "z_bKZCt_HA4V",
        "colab_type": "code",
        "colab": {}
      },
      "source": [
        "# common arthematic operations\n",
        "a =12\n",
        "b = 8\n"
      ],
      "execution_count": 0,
      "outputs": []
    },
    {
      "cell_type": "code",
      "metadata": {
        "id": "hwecTALwHqEQ",
        "colab_type": "code",
        "outputId": "31569e8c-d035-4efe-da88-872c4df3940e",
        "colab": {
          "base_uri": "https://localhost:8080/",
          "height": 34
        }
      },
      "source": [
        "#addition\n",
        "a+b\n"
      ],
      "execution_count": 7,
      "outputs": [
        {
          "output_type": "execute_result",
          "data": {
            "text/plain": [
              "20"
            ]
          },
          "metadata": {
            "tags": []
          },
          "execution_count": 7
        }
      ]
    },
    {
      "cell_type": "code",
      "metadata": {
        "id": "mLPGYaTkHtQl",
        "colab_type": "code",
        "outputId": "9c4462f9-4526-4977-84d6-adb3c3af4f2d",
        "colab": {
          "base_uri": "https://localhost:8080/",
          "height": 34
        }
      },
      "source": [
        "#subtract\n",
        "a-b"
      ],
      "execution_count": 8,
      "outputs": [
        {
          "output_type": "execute_result",
          "data": {
            "text/plain": [
              "4"
            ]
          },
          "metadata": {
            "tags": []
          },
          "execution_count": 8
        }
      ]
    },
    {
      "cell_type": "code",
      "metadata": {
        "id": "31cdEWX_HuAo",
        "colab_type": "code",
        "outputId": "bb537584-53a8-437a-de24-ad1fb483720a",
        "colab": {
          "base_uri": "https://localhost:8080/",
          "height": 34
        }
      },
      "source": [
        "#exponentiation\n",
        "a**b"
      ],
      "execution_count": 9,
      "outputs": [
        {
          "output_type": "execute_result",
          "data": {
            "text/plain": [
              "429981696"
            ]
          },
          "metadata": {
            "tags": []
          },
          "execution_count": 9
        }
      ]
    },
    {
      "cell_type": "code",
      "metadata": {
        "id": "rDLhb84wHvrh",
        "colab_type": "code",
        "outputId": "ebcce833-56a7-4282-edae-f7c63bc365b1",
        "colab": {
          "base_uri": "https://localhost:8080/",
          "height": 34
        }
      },
      "source": [
        "#divison\n",
        "a /b"
      ],
      "execution_count": 10,
      "outputs": [
        {
          "output_type": "execute_result",
          "data": {
            "text/plain": [
              "1.5"
            ]
          },
          "metadata": {
            "tags": []
          },
          "execution_count": 10
        }
      ]
    },
    {
      "cell_type": "code",
      "metadata": {
        "id": "FDJ1Ylj_H0gF",
        "colab_type": "code",
        "outputId": "1341a043-7a70-4209-ae65-49e965664731",
        "colab": {
          "base_uri": "https://localhost:8080/",
          "height": 34
        }
      },
      "source": [
        "#type casting for float divison\n",
        "a/ float(b)"
      ],
      "execution_count": 11,
      "outputs": [
        {
          "output_type": "execute_result",
          "data": {
            "text/plain": [
              "1.5"
            ]
          },
          "metadata": {
            "tags": []
          },
          "execution_count": 11
        }
      ]
    },
    {
      "cell_type": "code",
      "metadata": {
        "id": "M7N6Tf8bH3nf",
        "colab_type": "code",
        "outputId": "89bf59a0-3181-4bb9-9b11-86c09cf8790c",
        "colab": {
          "base_uri": "https://localhost:8080/",
          "height": 34
        }
      },
      "source": [
        "# type casting and string concat\n",
        "str (a) + \" + \" + str(b)"
      ],
      "execution_count": 12,
      "outputs": [
        {
          "output_type": "execute_result",
          "data": {
            "text/plain": [
              "'12 + 8'"
            ]
          },
          "metadata": {
            "tags": []
          },
          "execution_count": 12
        }
      ]
    },
    {
      "cell_type": "code",
      "metadata": {
        "id": "hTJlBb7LITbP",
        "colab_type": "code",
        "outputId": "3c94ce0f-2c75-48b7-b8c3-62c06fa21daa",
        "colab": {
          "base_uri": "https://localhost:8080/",
          "height": 34
        }
      },
      "source": [
        "# built -in values\n",
        "# True, False --> true/false values\n",
        "# None --> . represents the absence of something\n",
        "x= None #variables can be declared as None\n",
        "array = [1,2, None]\n",
        "def func():\n",
        "  return None # functions can be built to return None\n",
        "\n",
        "if [1,2] != [3,4]: # Can caheck for equality\n",
        "  print (\"Error!\")"
      ],
      "execution_count": 13,
      "outputs": [
        {
          "output_type": "stream",
          "text": [
            "Error!\n"
          ],
          "name": "stdout"
        }
      ]
    },
    {
      "cell_type": "code",
      "metadata": {
        "id": "x6Gv28HKI0v4",
        "colab_type": "code",
        "outputId": "043399d8-2fd7-4dc2-cd8d-9d64bb8db8c4",
        "colab": {
          "base_uri": "https://localhost:8080/",
          "height": 34
        }
      },
      "source": [
        "# Indents\n",
        "# code blocks are created using indents, should be consistent\n",
        "\n",
        "#Fibonnaci series\n",
        "def fib(n):\n",
        "  # Indent level 1: function body\n",
        "  if n <=1:\n",
        "    # Indent level 2 : if statement body\n",
        "    return 1\n",
        "  else:\n",
        "    #Indent level 2: else statement body\n",
        "    return fib(n-1)+fib(n-2)\n",
        "  \n",
        " \n",
        "fib(32)"
      ],
      "execution_count": 14,
      "outputs": [
        {
          "output_type": "execute_result",
          "data": {
            "text/plain": [
              "3524578"
            ]
          },
          "metadata": {
            "tags": []
          },
          "execution_count": 14
        }
      ]
    },
    {
      "cell_type": "markdown",
      "metadata": {
        "id": "HPgN2syhLZA-",
        "colab_type": "text"
      },
      "source": [
        "# Collections: List\n",
        "\n",
        "\n",
        "Lists are mutable arrays"
      ]
    },
    {
      "cell_type": "code",
      "metadata": {
        "id": "zjUy22RgKdqj",
        "colab_type": "code",
        "outputId": "60f2960e-8c23-4ca6-9956-56cc6b9bf11d",
        "colab": {
          "base_uri": "https://localhost:8080/",
          "height": 34
        }
      },
      "source": [
        "places = ['America','Africa']\n",
        "places[0]\n",
        "places.append('Australia')\n",
        "len(places)\n"
      ],
      "execution_count": 15,
      "outputs": [
        {
          "output_type": "execute_result",
          "data": {
            "text/plain": [
              "3"
            ]
          },
          "metadata": {
            "tags": []
          },
          "execution_count": 15
        }
      ]
    },
    {
      "cell_type": "code",
      "metadata": {
        "id": "XPjJxTy0Lt5x",
        "colab_type": "code",
        "outputId": "87475f22-53a5-491b-829a-d16a24d69f18",
        "colab": {
          "base_uri": "https://localhost:8080/",
          "height": 34
        }
      },
      "source": [
        "print(places)"
      ],
      "execution_count": 16,
      "outputs": [
        {
          "output_type": "stream",
          "text": [
            "['America', 'Africa', 'Australia']\n"
          ],
          "name": "stdout"
        }
      ]
    },
    {
      "cell_type": "code",
      "metadata": {
        "id": "jTPHSCIZMMGg",
        "colab_type": "code",
        "colab": {}
      },
      "source": [
        "# extending the list\n",
        "places.extend(['Austria','Germany'])"
      ],
      "execution_count": 0,
      "outputs": []
    },
    {
      "cell_type": "code",
      "metadata": {
        "id": "9SXpQVpBZJiL",
        "colab_type": "code",
        "colab": {
          "base_uri": "https://localhost:8080/",
          "height": 34
        },
        "outputId": "3f9d4b82-6f43-4679-86dc-9646a6ecdb6c"
      },
      "source": [
        "print(places)"
      ],
      "execution_count": 18,
      "outputs": [
        {
          "output_type": "stream",
          "text": [
            "['America', 'Africa', 'Australia', 'Austria', 'Germany']\n"
          ],
          "name": "stdout"
        }
      ]
    },
    {
      "cell_type": "code",
      "metadata": {
        "id": "LUWe6q2QZgTK",
        "colab_type": "code",
        "colab": {}
      },
      "source": [
        "# Creating a empty list\n",
        "cities = []"
      ],
      "execution_count": 0,
      "outputs": []
    },
    {
      "cell_type": "code",
      "metadata": {
        "id": "c5AGCS0TaP5B",
        "colab_type": "code",
        "colab": {}
      },
      "source": [
        "# Another way of creating a  list\n",
        "cities = list()"
      ],
      "execution_count": 0,
      "outputs": []
    },
    {
      "cell_type": "code",
      "metadata": {
        "id": "MQTnzsroaWaT",
        "colab_type": "code",
        "colab": {
          "base_uri": "https://localhost:8080/",
          "height": 34
        },
        "outputId": "415b0d65-fb9c-4bdb-883f-d17a287aa078"
      },
      "source": [
        "# We can store mixed data types using this datastructure\n",
        "random = [1,['hello','pyhton'], -0.12, None]\n",
        "print(random)"
      ],
      "execution_count": 22,
      "outputs": [
        {
          "output_type": "stream",
          "text": [
            "[1, ['hello', 'pyhton'], -0.12, None]\n"
          ],
          "name": "stdout"
        }
      ]
    },
    {
      "cell_type": "code",
      "metadata": {
        "id": "56Y-NrR6ancS",
        "colab_type": "code",
        "colab": {}
      },
      "source": [
        "# List manipulation\n",
        "# 1. Slicing\n",
        "num = [1,2,3,4,5,6,7]\n",
        "\n"
      ],
      "execution_count": 0,
      "outputs": []
    },
    {
      "cell_type": "code",
      "metadata": {
        "id": "rbICwGcbbACF",
        "colab_type": "code",
        "colab": {
          "base_uri": "https://localhost:8080/",
          "height": 34
        },
        "outputId": "762b2da0-27d3-439e-d960-f7a58d551d7c"
      },
      "source": [
        "# Acessing 1-3 in the list\n",
        "num[0:3]"
      ],
      "execution_count": 24,
      "outputs": [
        {
          "output_type": "execute_result",
          "data": {
            "text/plain": [
              "[1, 2, 3]"
            ]
          },
          "metadata": {
            "tags": []
          },
          "execution_count": 24
        }
      ]
    },
    {
      "cell_type": "code",
      "metadata": {
        "id": "1SxjTGf3bFQW",
        "colab_type": "code",
        "colab": {
          "base_uri": "https://localhost:8080/",
          "height": 34
        },
        "outputId": "0ce5da3d-dea0-45b6-d1c4-3b27c3b7ede5"
      },
      "source": [
        "# anither wawy of acessing the list\n",
        "num[:3]"
      ],
      "execution_count": 25,
      "outputs": [
        {
          "output_type": "execute_result",
          "data": {
            "text/plain": [
              "[1, 2, 3]"
            ]
          },
          "metadata": {
            "tags": []
          },
          "execution_count": 25
        }
      ]
    },
    {
      "cell_type": "code",
      "metadata": {
        "id": "0gbTJAPRbVgs",
        "colab_type": "code",
        "colab": {
          "base_uri": "https://localhost:8080/",
          "height": 34
        },
        "outputId": "e2b1a7e3-2672-485f-e180-fcda720b8016"
      },
      "source": [
        "# Checking equality\n",
        "num[0:3] == num[:3]"
      ],
      "execution_count": 26,
      "outputs": [
        {
          "output_type": "execute_result",
          "data": {
            "text/plain": [
              "True"
            ]
          },
          "metadata": {
            "tags": []
          },
          "execution_count": 26
        }
      ]
    },
    {
      "cell_type": "code",
      "metadata": {
        "id": "jtmgCr84bcGP",
        "colab_type": "code",
        "colab": {
          "base_uri": "https://localhost:8080/",
          "height": 34
        },
        "outputId": "f8e3a38c-bc00-447d-9cd0-ea0b9db18c4f"
      },
      "source": [
        "# To print the list\n",
        "print(num)"
      ],
      "execution_count": 27,
      "outputs": [
        {
          "output_type": "stream",
          "text": [
            "[1, 2, 3, 4, 5, 6, 7]\n"
          ],
          "name": "stdout"
        }
      ]
    },
    {
      "cell_type": "code",
      "metadata": {
        "id": "xvYdtumKbp-2",
        "colab_type": "code",
        "colab": {
          "base_uri": "https://localhost:8080/",
          "height": 34
        },
        "outputId": "f27f590c-4e3b-4982-c9df-40bec6fa586e"
      },
      "source": [
        "num[:]"
      ],
      "execution_count": 29,
      "outputs": [
        {
          "output_type": "execute_result",
          "data": {
            "text/plain": [
              "[1, 2, 3, 4, 5, 6, 7]"
            ]
          },
          "metadata": {
            "tags": []
          },
          "execution_count": 29
        }
      ]
    },
    {
      "cell_type": "code",
      "metadata": {
        "id": "eiu1iOG4bvnc",
        "colab_type": "code",
        "colab": {
          "base_uri": "https://localhost:8080/",
          "height": 34
        },
        "outputId": "9461bd97-78a0-497b-a72e-a04c3637453e"
      },
      "source": [
        "# Negetive index wraps around\n",
        "num[-1]"
      ],
      "execution_count": 30,
      "outputs": [
        {
          "output_type": "execute_result",
          "data": {
            "text/plain": [
              "7"
            ]
          },
          "metadata": {
            "tags": []
          },
          "execution_count": 30
        }
      ]
    },
    {
      "cell_type": "code",
      "metadata": {
        "id": "u6kLZEt2coI6",
        "colab_type": "code",
        "colab": {
          "base_uri": "https://localhost:8080/",
          "height": 34
        },
        "outputId": "50a4a6b4-5623-4a49-e8c0-62c98a170540"
      },
      "source": [
        "# To access the list in reverse order\n",
        "num [-3:]"
      ],
      "execution_count": 31,
      "outputs": [
        {
          "output_type": "execute_result",
          "data": {
            "text/plain": [
              "[5, 6, 7]"
            ]
          },
          "metadata": {
            "tags": []
          },
          "execution_count": 31
        }
      ]
    },
    {
      "cell_type": "code",
      "metadata": {
        "id": "EjLiLDkHcuzh",
        "colab_type": "code",
        "colab": {}
      },
      "source": [
        ""
      ],
      "execution_count": 0,
      "outputs": []
    },
    {
      "cell_type": "markdown",
      "metadata": {
        "id": "8sYn3sikdEBl",
        "colab_type": "text"
      },
      "source": [
        "**Tuple** these are immutable arrays."
      ]
    },
    {
      "cell_type": "code",
      "metadata": {
        "id": "-XKKVKlvdRjW",
        "colab_type": "code",
        "colab": {}
      },
      "source": [
        "# Note the parentheses\n",
        "countries =('America','Africa')"
      ],
      "execution_count": 0,
      "outputs": []
    },
    {
      "cell_type": "code",
      "metadata": {
        "id": "7ERF6ju6dXa4",
        "colab_type": "code",
        "colab": {
          "base_uri": "https://localhost:8080/",
          "height": 34
        },
        "outputId": "3e2b3e06-ef31-4f8c-9f35-29d079f7baa0"
      },
      "source": [
        "print(countries)"
      ],
      "execution_count": 35,
      "outputs": [
        {
          "output_type": "stream",
          "text": [
            "('America', 'Africa')\n"
          ],
          "name": "stdout"
        }
      ]
    },
    {
      "cell_type": "code",
      "metadata": {
        "id": "4OtcCC2Idx54",
        "colab_type": "code",
        "colab": {
          "base_uri": "https://localhost:8080/",
          "height": 164
        },
        "outputId": "fe45d1f3-d0e7-431d-9f2a-6ded6830f691"
      },
      "source": [
        "# If we try to append the list\n",
        "countries[0] = 'Austria'"
      ],
      "execution_count": 36,
      "outputs": [
        {
          "output_type": "error",
          "ename": "TypeError",
          "evalue": "ignored",
          "traceback": [
            "\u001b[0;31m---------------------------------------------------------------------------\u001b[0m",
            "\u001b[0;31mTypeError\u001b[0m                                 Traceback (most recent call last)",
            "\u001b[0;32m<ipython-input-36-19d587e4bbc1>\u001b[0m in \u001b[0;36m<module>\u001b[0;34m()\u001b[0m\n\u001b[0;32m----> 1\u001b[0;31m \u001b[0mcountries\u001b[0m\u001b[0;34m[\u001b[0m\u001b[0;36m0\u001b[0m\u001b[0;34m]\u001b[0m \u001b[0;34m=\u001b[0m \u001b[0;34m'Austria'\u001b[0m\u001b[0;34m\u001b[0m\u001b[0;34m\u001b[0m\u001b[0m\n\u001b[0m",
            "\u001b[0;31mTypeError\u001b[0m: 'tuple' object does not support item assignment"
          ]
        }
      ]
    },
    {
      "cell_type": "code",
      "metadata": {
        "id": "3nSaXCsmfLS7",
        "colab_type": "code",
        "colab": {}
      },
      "source": [
        ""
      ],
      "execution_count": 0,
      "outputs": []
    },
    {
      "cell_type": "markdown",
      "metadata": {
        "id": "xqZddE1ZfORF",
        "colab_type": "text"
      },
      "source": [
        "Other important type to review is Collections: Dictionary\n",
        "Dictionaries are hash maps"
      ]
    },
    {
      "cell_type": "code",
      "metadata": {
        "id": "xpkhOolOfWIV",
        "colab_type": "code",
        "colab": {}
      },
      "source": [
        "# Empty dictionary\n",
        "phonebook = dict()"
      ],
      "execution_count": 0,
      "outputs": []
    },
    {
      "cell_type": "code",
      "metadata": {
        "id": "0jRGcBpTfimb",
        "colab_type": "code",
        "colab": {}
      },
      "source": [
        "# Dictionary with one item\n",
        " \n",
        "phonebook = { \"Amy\" : \"123-3127\"}"
      ],
      "execution_count": 0,
      "outputs": []
    },
    {
      "cell_type": "code",
      "metadata": {
        "id": "yZWxJvq9f3kd",
        "colab_type": "code",
        "colab": {}
      },
      "source": [
        " # Add to the dictionary\n",
        "  phonebook[\"Jay\"] = \"334-2123\""
      ],
      "execution_count": 0,
      "outputs": []
    },
    {
      "cell_type": "code",
      "metadata": {
        "id": "uE2NnYbcf-FC",
        "colab_type": "code",
        "colab": {
          "base_uri": "https://localhost:8080/",
          "height": 34
        },
        "outputId": "ea3bf5ce-05ff-4d1e-bd11-f406fa3acbcf"
      },
      "source": [
        "# Check for a value\n",
        "print(\"Kevin\" in phonebook)"
      ],
      "execution_count": 47,
      "outputs": [
        {
          "output_type": "stream",
          "text": [
            "False\n"
          ],
          "name": "stdout"
        }
      ]
    },
    {
      "cell_type": "code",
      "metadata": {
        "id": "nCOjRytJgWGm",
        "colab_type": "code",
        "colab": {
          "base_uri": "https://localhost:8080/",
          "height": 34
        },
        "outputId": "adce4423-0ee8-406e-d4e3-262407d96bcb"
      },
      "source": [
        "print(\"Jay\" in phonebook)"
      ],
      "execution_count": 48,
      "outputs": [
        {
          "output_type": "stream",
          "text": [
            "True\n"
          ],
          "name": "stdout"
        }
      ]
    },
    {
      "cell_type": "code",
      "metadata": {
        "id": "LbIsPrK0gboH",
        "colab_type": "code",
        "colab": {
          "base_uri": "https://localhost:8080/",
          "height": 34
        },
        "outputId": "3f3eb739-98fb-4b6a-f743-d0cda50b4b3c"
      },
      "source": [
        "# To get the value\n",
        "print(phonebook[\"Jay\"])"
      ],
      "execution_count": 50,
      "outputs": [
        {
          "output_type": "stream",
          "text": [
            "334-2123\n"
          ],
          "name": "stdout"
        }
      ]
    },
    {
      "cell_type": "code",
      "metadata": {
        "id": "CS1TQ0mignV_",
        "colab_type": "code",
        "colab": {}
      },
      "source": [
        "# Delete an item\n",
        "del phonebook[\"Jay\"]"
      ],
      "execution_count": 0,
      "outputs": []
    },
    {
      "cell_type": "markdown",
      "metadata": {
        "id": "vATVjjYkhliL",
        "colab_type": "text"
      },
      "source": [
        "**Loops**"
      ]
    },
    {
      "cell_type": "code",
      "metadata": {
        "id": "fkqqZkFQhtgO",
        "colab_type": "code",
        "colab": {
          "base_uri": "https://localhost:8080/",
          "height": 68
        },
        "outputId": "18b058da-7260-4ae9-b5a9-8ceb03e52f4a"
      },
      "source": [
        "for name in [\"Amy\", \"Jai\", \"Rose\"]:\n",
        "  print ( \"Hi \" + name + \"!\")"
      ],
      "execution_count": 57,
      "outputs": [
        {
          "output_type": "stream",
          "text": [
            "HiAmy!\n",
            "HiJai!\n",
            "HiRose!\n"
          ],
          "name": "stdout"
        }
      ]
    },
    {
      "cell_type": "code",
      "metadata": {
        "id": "5uozoMRah2d1",
        "colab_type": "code",
        "colab": {}
      },
      "source": [
        "while True:\n",
        "  print (\"We’re stuck in a loop... \")\n",
        "# break"
      ],
      "execution_count": 0,
      "outputs": []
    },
    {
      "cell_type": "code",
      "metadata": {
        "id": "V3f9jJX0iPtn",
        "colab_type": "code",
        "colab": {
          "base_uri": "https://localhost:8080/",
          "height": 187
        },
        "outputId": "9666f416-ace1-4415-ef83-ac3bb7918a7f"
      },
      "source": [
        "# Want an index also?\n",
        "\n",
        "for i in range(10):\n",
        "  print (\"Line \" + str(i))"
      ],
      "execution_count": 60,
      "outputs": [
        {
          "output_type": "stream",
          "text": [
            "Line 0\n",
            "Line 1\n",
            "Line 2\n",
            "Line 3\n",
            "Line 4\n",
            "Line 5\n",
            "Line 6\n",
            "Line 7\n",
            "Line 8\n",
            "Line 9\n"
          ],
          "name": "stdout"
        }
      ]
    },
    {
      "cell_type": "code",
      "metadata": {
        "id": "7H-tX7-JiRoT",
        "colab_type": "code",
        "colab": {
          "base_uri": "https://localhost:8080/",
          "height": 68
        },
        "outputId": "e94fabda-7578-468e-e8ca-128946c7c050"
      },
      "source": [
        "\n",
        "for x, y in [(1,10), (2,20), (3,30)]:\n",
        "  print (x, y)"
      ],
      "execution_count": 61,
      "outputs": [
        {
          "output_type": "stream",
          "text": [
            "1 10\n",
            "2 20\n",
            "3 30\n"
          ],
          "name": "stdout"
        }
      ]
    },
    {
      "cell_type": "markdown",
      "metadata": {
        "id": "4gTN9Q-7i51O",
        "colab_type": "text"
      },
      "source": [
        "**Classes**"
      ]
    },
    {
      "cell_type": "code",
      "metadata": {
        "id": "FmRbJblTi-iU",
        "colab_type": "code",
        "colab": {}
      },
      "source": [
        "class Animal(object):\n",
        "  def __init__(self, species, age):\n",
        "    self.species = species\n",
        "    self.age = age \n",
        "  \n",
        " # Constructor `a = Animal(‘bird’, 10)`\n",
        " # Refer to instance with `self`\n",
        " # All instance variables are public"
      ],
      "execution_count": 0,
      "outputs": []
    },
    {
      "cell_type": "code",
      "metadata": {
        "id": "cxdDkGKtjllQ",
        "colab_type": "code",
        "colab": {}
      },
      "source": [
        "# invoked with a.isPerson()\n",
        "def isPerson(self):\n",
        "  return self.species == 'Homo Sapiens'"
      ],
      "execution_count": 0,
      "outputs": []
    },
    {
      "cell_type": "code",
      "metadata": {
        "id": "qzrjCdPDj0Es",
        "colab_type": "code",
        "colab": {}
      },
      "source": [
        "\n",
        "def ageOneYear(self):\n",
        "  self.age += 1\n",
        "  "
      ],
      "execution_count": 0,
      "outputs": []
    },
    {
      "cell_type": "code",
      "metadata": {
        "id": "9dPDT1Ohj6NA",
        "colab_type": "code",
        "colab": {}
      },
      "source": [
        "# Inherits Animals methods\n",
        "# Override for dog years\n",
        "class Dog(Animal):\n",
        "  def ageOneYear(self):\n",
        "    self.age += 7"
      ],
      "execution_count": 0,
      "outputs": []
    },
    {
      "cell_type": "code",
      "metadata": {
        "id": "wQHFAFVnkBsb",
        "colab_type": "code",
        "colab": {}
      },
      "source": [
        ""
      ],
      "execution_count": 0,
      "outputs": []
    }
  ]
}