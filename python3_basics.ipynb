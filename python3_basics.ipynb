{
  "nbformat": 4,
  "nbformat_minor": 0,
  "metadata": {
    "colab": {
      "name": "python3_basics.ipynb",
      "version": "0.3.2",
      "provenance": [],
      "collapsed_sections": []
    },
    "kernelspec": {
      "name": "python3",
      "display_name": "Python 3"
    }
  },
  "cells": [
    {
      "cell_type": "markdown",
      "metadata": {
        "id": "a7MvOjFbFLgK",
        "colab_type": "text"
      },
      "source": [
        "# Python Langugae Basics\n",
        "\n",
        "*   Basics for Python.\n",
        "*   Introduction to computational framework Numpy.\n",
        "*   Effective Python.\n",
        "*   References for further reading.\n",
        "\n"
      ]
    },
    {
      "cell_type": "markdown",
      "metadata": {
        "id": "ZP34ytrBFpvx",
        "colab_type": "text"
      },
      "source": [
        "**Python or R is the language of choice for many developers many deep-learning solutions.**\n",
        "\n",
        "**Major deep learning frameworks like PyTorch or Tensorflow uses Python**"
      ]
    },
    {
      "cell_type": "code",
      "metadata": {
        "id": "_w-i-kH4GGQn",
        "colab_type": "code",
        "colab": {}
      },
      "source": [
        "# how to write a function in python\n",
        "def QuickSort(arr):\n",
        "  if len(arr) <= 1:\n",
        "    return arr\n",
        "    pivot = arr[len(arr) // 2 ]\n",
        "    left = [x for x in arr if x < pivot] \n",
        "    middle = [x for x in arr if x == pivot]\n",
        "    right = [x for x in arr if x > pivot]\n",
        "    return QuickSort(left) + middle + QuickSort(right)"
      ],
      "execution_count": 0,
      "outputs": []
    },
    {
      "cell_type": "code",
      "metadata": {
        "id": "yma_IIcrG4Ou",
        "colab_type": "code",
        "colab": {
          "base_uri": "https://localhost:8080/",
          "height": 34
        },
        "outputId": "d3bb24e6-97f2-4573-85fe-44a410c6a0c3"
      },
      "source": [
        "print(anyFunction1([3,6,8,10,1,2,1]))"
      ],
      "execution_count": 7,
      "outputs": [
        {
          "output_type": "stream",
          "text": [
            "None\n"
          ],
          "name": "stdout"
        }
      ]
    },
    {
      "cell_type": "code",
      "metadata": {
        "id": "z_bKZCt_HA4V",
        "colab_type": "code",
        "colab": {}
      },
      "source": [
        "# common arthematic operations\n",
        "a =12\n",
        "b = 8\n"
      ],
      "execution_count": 0,
      "outputs": []
    },
    {
      "cell_type": "code",
      "metadata": {
        "id": "hwecTALwHqEQ",
        "colab_type": "code",
        "colab": {
          "base_uri": "https://localhost:8080/",
          "height": 34
        },
        "outputId": "ebc22743-036f-43be-f1d0-9038dbff1596"
      },
      "source": [
        "#addition\n",
        "a+b\n"
      ],
      "execution_count": 9,
      "outputs": [
        {
          "output_type": "execute_result",
          "data": {
            "text/plain": [
              "20"
            ]
          },
          "metadata": {
            "tags": []
          },
          "execution_count": 9
        }
      ]
    },
    {
      "cell_type": "code",
      "metadata": {
        "id": "mLPGYaTkHtQl",
        "colab_type": "code",
        "colab": {
          "base_uri": "https://localhost:8080/",
          "height": 34
        },
        "outputId": "e9d3976c-adda-4fae-e50e-23d1cfc960a3"
      },
      "source": [
        "#subtract\n",
        "a-b"
      ],
      "execution_count": 10,
      "outputs": [
        {
          "output_type": "execute_result",
          "data": {
            "text/plain": [
              "4"
            ]
          },
          "metadata": {
            "tags": []
          },
          "execution_count": 10
        }
      ]
    },
    {
      "cell_type": "code",
      "metadata": {
        "id": "31cdEWX_HuAo",
        "colab_type": "code",
        "colab": {
          "base_uri": "https://localhost:8080/",
          "height": 34
        },
        "outputId": "f8a5f952-0b5c-4cb3-f963-dd34c217cfaf"
      },
      "source": [
        "#exponentiation\n",
        "a**b"
      ],
      "execution_count": 12,
      "outputs": [
        {
          "output_type": "execute_result",
          "data": {
            "text/plain": [
              "429981696"
            ]
          },
          "metadata": {
            "tags": []
          },
          "execution_count": 12
        }
      ]
    },
    {
      "cell_type": "code",
      "metadata": {
        "id": "rDLhb84wHvrh",
        "colab_type": "code",
        "colab": {
          "base_uri": "https://localhost:8080/",
          "height": 34
        },
        "outputId": "cce8c305-69cc-48d9-9980-85ef5a077e2d"
      },
      "source": [
        "#divison\n",
        "a /b"
      ],
      "execution_count": 13,
      "outputs": [
        {
          "output_type": "execute_result",
          "data": {
            "text/plain": [
              "1.5"
            ]
          },
          "metadata": {
            "tags": []
          },
          "execution_count": 13
        }
      ]
    },
    {
      "cell_type": "code",
      "metadata": {
        "id": "FDJ1Ylj_H0gF",
        "colab_type": "code",
        "colab": {
          "base_uri": "https://localhost:8080/",
          "height": 34
        },
        "outputId": "80a50829-b275-4852-ea80-95a210b7b944"
      },
      "source": [
        "#type casting for float divison\n",
        "a/ float(b)"
      ],
      "execution_count": 14,
      "outputs": [
        {
          "output_type": "execute_result",
          "data": {
            "text/plain": [
              "1.5"
            ]
          },
          "metadata": {
            "tags": []
          },
          "execution_count": 14
        }
      ]
    },
    {
      "cell_type": "code",
      "metadata": {
        "id": "M7N6Tf8bH3nf",
        "colab_type": "code",
        "colab": {
          "base_uri": "https://localhost:8080/",
          "height": 34
        },
        "outputId": "b9704af1-1052-4a08-841e-946092a61485"
      },
      "source": [
        "# type casting and string concat\n",
        "str (a) + \" + \" + str(b)"
      ],
      "execution_count": 16,
      "outputs": [
        {
          "output_type": "execute_result",
          "data": {
            "text/plain": [
              "'12 + 8'"
            ]
          },
          "metadata": {
            "tags": []
          },
          "execution_count": 16
        }
      ]
    },
    {
      "cell_type": "code",
      "metadata": {
        "id": "hTJlBb7LITbP",
        "colab_type": "code",
        "colab": {
          "base_uri": "https://localhost:8080/",
          "height": 34
        },
        "outputId": "1fffe4ea-6e63-4002-a307-f744b90ce47f"
      },
      "source": [
        "# built -in values\n",
        "# True, False --> true/false values\n",
        "# None --> . represents the absence of something\n",
        "x= None #variables can be declared as None\n",
        "array = [1,2, None]\n",
        "def func():\n",
        "  return None # functions can be built to return None\n",
        "\n",
        "if [1,2] != [3,4]: # Can caheck for equality\n",
        "  print (\"Error!\")"
      ],
      "execution_count": 22,
      "outputs": [
        {
          "output_type": "stream",
          "text": [
            "Error!\n"
          ],
          "name": "stdout"
        }
      ]
    },
    {
      "cell_type": "code",
      "metadata": {
        "id": "x6Gv28HKI0v4",
        "colab_type": "code",
        "colab": {}
      },
      "source": [
        "# Indents\n",
        "# code blocks are created using indents"
      ],
      "execution_count": 0,
      "outputs": []
    }
  ]
}