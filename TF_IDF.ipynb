{
  "nbformat": 4,
  "nbformat_minor": 0,
  "metadata": {
    "colab": {
      "name": "TF-IDF.ipynb",
      "version": "0.3.2",
      "provenance": []
    },
    "kernelspec": {
      "name": "python3",
      "display_name": "Python 3"
    }
  },
  "cells": [
    {
      "cell_type": "markdown",
      "metadata": {
        "id": "2D0uerSH8YJI",
        "colab_type": "text"
      },
      "source": [
        "# Text to Features using TF-IDF\n",
        "\n",
        "**Term frequency (TF)**: Term frequency is simply the ratio of the count of a word present in a sentence, to the length of the sentence.\n",
        "TF is basically capturing the importance of the word irrespective of the length of the document. For example, a word with the frequency of 3 with the length of sentence being 10 is not the same as when the word length of sentence is 100 words. It should get more importance in the first scenario; that is what TF does.\n",
        "\n",
        "**Inverse Document Frequency (IDF)**: IDF of each word is the log of the ratio of the total number of rows to the number of rows in a particular document in which that word is present.\n",
        "*IDF = log(N/n*), where N is the total number of rows and n is the number of rows in which the word was present.\n",
        "IDF will measure the rareness of a term. Words like “a,” and “the” show up in all the documents of the corpus, but rare words will not be there\n",
        "in all the documents. So, if a word is appearing in almost all documents, then that word is of no use to us since it is not helping to classify or in information retrieval. IDF will nullify this problem.\n",
        "TF-IDF is the simple product of TF and IDF so that both of the drawbacks are addressed, which makes predictions and information retrieval relevant."
      ]
    },
    {
      "cell_type": "code",
      "metadata": {
        "id": "U41KTS70-shS",
        "colab_type": "code",
        "colab": {}
      },
      "source": [
        "Text = [\"The quick brown cheetah jumped over the lazy horse.\", \"The horse.\",\n",
        "\"The cheetah\"]"
      ],
      "execution_count": 0,
      "outputs": []
    },
    {
      "cell_type": "code",
      "metadata": {
        "id": "gldQFMfU_Gzr",
        "colab_type": "code",
        "colab": {
          "base_uri": "https://localhost:8080/",
          "height": 156
        },
        "outputId": "e30578bc-22cc-424e-bf29-b31a01a2eee7"
      },
      "source": [
        "# importing required libraries\n",
        "from sklearn.feature_extraction.text import TfidfVectorizer\n",
        "vectorizer = TfidfVectorizer()\n",
        "# tokenize\n",
        "vectorizer.fit(Text)\n"
      ],
      "execution_count": 3,
      "outputs": [
        {
          "output_type": "execute_result",
          "data": {
            "text/plain": [
              "TfidfVectorizer(analyzer='word', binary=False, decode_error='strict',\n",
              "                dtype=<class 'numpy.float64'>, encoding='utf-8',\n",
              "                input='content', lowercase=True, max_df=1.0, max_features=None,\n",
              "                min_df=1, ngram_range=(1, 1), norm='l2', preprocessor=None,\n",
              "                smooth_idf=True, stop_words=None, strip_accents=None,\n",
              "                sublinear_tf=False, token_pattern='(?u)\\\\b\\\\w\\\\w+\\\\b',\n",
              "                tokenizer=None, use_idf=True, vocabulary=None)"
            ]
          },
          "metadata": {
            "tags": []
          },
          "execution_count": 3
        }
      ]
    },
    {
      "cell_type": "code",
      "metadata": {
        "id": "BinrbmZR_VgW",
        "colab_type": "code",
        "colab": {
          "base_uri": "https://localhost:8080/",
          "height": 88
        },
        "outputId": "7a91e5ec-d2c2-44fe-d9a5-3f6c0db98034"
      },
      "source": [
        "print(vectorizer.vocabulary_)\n",
        "print(vectorizer.idf_)"
      ],
      "execution_count": 4,
      "outputs": [
        {
          "output_type": "stream",
          "text": [
            "{'the': 7, 'quick': 6, 'brown': 0, 'cheetah': 1, 'jumped': 4, 'cver': 2, 'lazy': 5, 'horse': 3}\n",
            "[1.69314718 1.28768207 1.69314718 1.28768207 1.69314718 1.69314718\n",
            " 1.69314718 1.        ]\n"
          ],
          "name": "stdout"
        }
      ]
    },
    {
      "cell_type": "markdown",
      "metadata": {
        "id": "2dJDzRgy_sJq",
        "colab_type": "text"
      },
      "source": [
        "'The; is repeated and it does not add much value."
      ]
    },
    {
      "cell_type": "code",
      "metadata": {
        "id": "e1VSADdC_fs6",
        "colab_type": "code",
        "colab": {}
      },
      "source": [
        ""
      ],
      "execution_count": 0,
      "outputs": []
    }
  ]
}