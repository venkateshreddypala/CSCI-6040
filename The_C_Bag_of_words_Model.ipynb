{
  "nbformat": 4,
  "nbformat_minor": 0,
  "metadata": {
    "colab": {
      "name": "The- C- Bag-of-words Model.ipynb",
      "version": "0.3.2",
      "provenance": []
    },
    "kernelspec": {
      "name": "python3",
      "display_name": "Python 3"
    }
  },
  "cells": [
    {
      "cell_type": "markdown",
      "metadata": {
        "id": "xmvQ6BjgzD7Q",
        "colab_type": "text"
      },
      "source": [
        "# Word Embeddings\n",
        "We previously learned bag of words using the Traditional NLP and NLTK but we also discussed some shortcomings of that model and we are now trying to see if we can improve the performance of the mmodel by using the Neural Network technologies.\n"
      ]
    }
  ]
}