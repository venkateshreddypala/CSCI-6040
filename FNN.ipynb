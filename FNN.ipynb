{
  "nbformat": 4,
  "nbformat_minor": 0,
  "metadata": {
    "colab": {
      "name": "FNN.ipynb",
      "version": "0.3.2",
      "provenance": []
    },
    "kernelspec": {
      "name": "python3",
      "display_name": "Python 3"
    }
  },
  "cells": [
    {
      "cell_type": "markdown",
      "metadata": {
        "id": "126vm3Cc2AH2",
        "colab_type": "text"
      },
      "source": [
        "# Natural Language Processing for Neural Networks\n",
        "\n",
        "In the previous Notebooks we observed how to implement a preceptron, but preceptrons are incapable learning from any nontrivial patterns present in data, so for complex solutions in the area of NLP&NLU  **Feed Forward Neural Networks** are adapted.\n",
        "\n",
        "Feed Forward Neural Networks is a "
      ]
    }
  ]
}