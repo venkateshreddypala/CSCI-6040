{
  "nbformat": 4,
  "nbformat_minor": 0,
  "metadata": {
    "colab": {
      "name": "FNN.ipynb",
      "version": "0.3.2",
      "provenance": []
    },
    "kernelspec": {
      "name": "python3",
      "display_name": "Python 3"
    }
  },
  "cells": [
    {
      "cell_type": "markdown",
      "metadata": {
        "id": "126vm3Cc2AH2",
        "colab_type": "text"
      },
      "source": [
        "# Natural Language Processing for Neural Networks\n",
        "\n",
        "In the previous Notebooks we observed how to implement a preceptron, but preceptrons are incapable learning from any nontrivial patterns present in data, so for complex solutions in the area of NLP&NLU  **Feed Forward Neural Networks** are adapted.\n",
        "\n",
        "Feed Forward Neural Networks is a gneric term, to classify in this note book we are going to see about the two important types, one is a **Multi-layer preceptron(MLP)**  which is simply an extension for single layer precpetron.\n",
        "\n",
        "Other type of Neural Network that we would look into is a **Convolutional Neural Network(CNN).**"
      ]
    },
    {
      "cell_type": "markdown",
      "metadata": {
        "id": "jfG1ys28-EV2",
        "colab_type": "text"
      },
      "source": [
        "**MLP's** are composed of three stages of representation and two Linear layers.\n",
        "\n",
        "The first stage is input vector, it is one-hot representation.\n",
        "Then passed to a Linear layer the vector computes the hidden vector, this layer is compressed between the input and the output layer. \n",
        "\n",
        "One advantage of PyTorch is it automatically figures out how to do the backward pass and gradient updates based on the definition of the model and also the implementation of the forward pass. In this examplewe only implement the forward pass of the backpropagation and leaves the rest of computation to PyTorch."
      ]
    },
    {
      "cell_type": "code",
      "metadata": {
        "id": "-E_JvLdCHQ-l",
        "colab_type": "code",
        "colab": {}
      },
      "source": [
        "# Implementation of MLP\n"
      ],
      "execution_count": 0,
      "outputs": []
    }
  ]
}