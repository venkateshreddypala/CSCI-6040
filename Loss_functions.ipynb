{
  "nbformat": 4,
  "nbformat_minor": 0,
  "metadata": {
    "colab": {
      "name": "Loss_functions.ipynb",
      "version": "0.3.2",
      "provenance": []
    },
    "kernelspec": {
      "name": "python3",
      "display_name": "Python 3"
    }
  },
  "cells": [
    {
      "cell_type": "markdown",
      "metadata": {
        "id": "Ea1gcT2-JpHU",
        "colab_type": "text"
      },
      "source": [
        "# Loss Functions\n",
        "\n",
        "**Mean Squared Error Loss**\n",
        "\n",
        "$L _ { M S E } ( y , \\hat { y } ) = \\frac { 1 } { n } \\sum _ { i = 1 } ^ { n } ( y - \\hat { y } ) ^ { 2 }$\n",
        "\n",
        "Used for regression problems, where $( \\hat { y } )$ represents the networks output and the target (y)"
      ]
    },
    {
      "cell_type": "code",
      "metadata": {
        "id": "9PKCQvBEKTw5",
        "colab_type": "code",
        "colab": {
          "base_uri": "https://localhost:8080/",
          "height": 34
        },
        "outputId": "4e180824-90dd-4eec-e69b-43139154c7ec"
      },
      "source": [
        "# Implementation\n",
        "import torch\n",
        "import torch.nn as nn\n",
        "\n",
        "mse_loss = nn.MSELoss()\n",
        "outputs = torch.randn(3,5, requires_grad = True)\n",
        "targets = torch.randn(3,5)\n",
        "loss = mse_loss(outputs, targets)\n",
        "print(loss)"
      ],
      "execution_count": 2,
      "outputs": [
        {
          "output_type": "stream",
          "text": [
            "tensor(1.8790, grad_fn=<MseLossBackward>)\n"
          ],
          "name": "stdout"
        }
      ]
    },
    {
      "cell_type": "markdown",
      "metadata": {
        "id": "_-lfChfNK3Kq",
        "colab_type": "text"
      },
      "source": [
        "**Binary Cross Entropy Loss**\n",
        "It is mainly used for classification problem involving only two classes"
      ]
    },
    {
      "cell_type": "code",
      "metadata": {
        "id": "FfjRUaZoLF4d",
        "colab_type": "code",
        "colab": {
          "base_uri": "https://localhost:8080/",
          "height": 102
        },
        "outputId": "dff00434-5e73-4623-e898-eff0f471207d"
      },
      "source": [
        "# implemetation of Binary cross-entropy loss\n",
        "bce_loss = nn.BCELoss()\n",
        "sigmoid  = nn.Sigmoid()\n",
        "probabilities = sigmoid(torch.randn(4, 1, requires_grad=True))\n",
        "targets = torch.tensor([1, 0, 1, 0],  dtype=torch.float32).view(4, 1)\n",
        "loss = bce_loss(probabilities, targets)\n",
        "print(probabilities)\n",
        "print(loss)"
      ],
      "execution_count": 3,
      "outputs": [
        {
          "output_type": "stream",
          "text": [
            "tensor([[0.7226],\n",
            "        [0.4608],\n",
            "        [0.6349],\n",
            "        [0.4512]], grad_fn=<SigmoidBackward>)\n",
            "tensor(0.4992, grad_fn=<BinaryCrossEntropyBackward>)\n"
          ],
          "name": "stdout"
        }
      ]
    },
    {
      "cell_type": "markdown",
      "metadata": {
        "id": "KvdviXofLWTX",
        "colab_type": "text"
      },
      "source": [
        "**Categorical Class Entropy Loss**\n",
        "\n",
        "\n",
        "$L$\n",
        "$\\quad$cross$_ { - }$entropy$( y , \\hat { y } ) = - \\sum _ { i } y _ { i } \\log \\left( \\hat { y } _ { i } \\right)$\n",
        "\n",
        "Used mainly for classes that has multiple classes of classification\n",
        "\n"
      ]
    },
    {
      "cell_type": "code",
      "metadata": {
        "id": "64KPgUu4Lwn6",
        "colab_type": "code",
        "colab": {
          "base_uri": "https://localhost:8080/",
          "height": 34
        },
        "outputId": "1ec4f9d3-5509-45ef-b5f0-ccab0e0beacf"
      },
      "source": [
        "# implementation\n",
        "import torch\n",
        "import torch.nn as nn\n",
        "\n",
        "ce_loss = nn.CrossEntropyLoss()\n",
        "outputs = torch.randn(3, 5, requires_grad=True)\n",
        "targets = torch.tensor([1, 0, 3], dtype=torch.int64)\n",
        "loss = ce_loss(outputs, targets)\n",
        "print(loss)"
      ],
      "execution_count": 4,
      "outputs": [
        {
          "output_type": "stream",
          "text": [
            "tensor(2.3903, grad_fn=<NllLossBackward>)\n"
          ],
          "name": "stdout"
        }
      ]
    },
    {
      "cell_type": "code",
      "metadata": {
        "id": "YI9GzVLdL2iy",
        "colab_type": "code",
        "colab": {}
      },
      "source": [
        ""
      ],
      "execution_count": 0,
      "outputs": []
    }
  ]
}