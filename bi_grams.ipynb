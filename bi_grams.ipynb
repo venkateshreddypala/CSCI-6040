{
  "nbformat": 4,
  "nbformat_minor": 0,
  "metadata": {
    "colab": {
      "name": "bi-grams.ipynb",
      "version": "0.3.2",
      "provenance": []
    },
    "kernelspec": {
      "name": "python3",
      "display_name": "Python 3"
    }
  },
  "cells": [
    {
      "cell_type": "markdown",
      "metadata": {
        "id": "YFm87d7j3JUt",
        "colab_type": "text"
      },
      "source": [
        "# Bi-grams\n",
        "## One main application of the Bi-grams is to generate a co-occurance matrix.\n",
        "\n",
        "A co-occurance matrix is like a count vectorizer where it counts the occuracne of the words together."
      ]
    },
    {
      "cell_type": "code",
      "metadata": {
        "id": "6Paciguv38-g",
        "colab_type": "code",
        "colab": {}
      },
      "source": [
        "import numpy as np\n",
        "import nltk\n",
        "from nltk import bigrams\n",
        "import itertools"
      ],
      "execution_count": 0,
      "outputs": []
    },
    {
      "cell_type": "code",
      "metadata": {
        "id": "ss0gxhg84HjO",
        "colab_type": "code",
        "colab": {}
      },
      "source": [
        "# writing a function for co-occurance \n",
        "def co_occurrence_matrix(corpus):\n",
        "  vocab = set(corpus)\n",
        "  vocab = list(vocab)\n",
        "  vocab_to_index = { word:i for i, word in enumerate(vocab)}\n",
        "  # Creating bigrams for the words in corpus\n",
        "  bi_grams = list(bigrams(corpus))\n",
        "  # Frequency distribution of bigrams\n",
        "  bigram_freq = nltk.FreqDist(bi_grams).most_common(len(bi_grams))\n",
        "  # initialize the co-occurance matrix\n",
        "  # co_occurrence_matrix[current][previous]\n",
        "  co_occurance_matrix = np.zeros((len(vocab), len(vocab)))\n",
        "  # loop through the bigrams taking the current and previous words\n",
        "  for bigram in bigram_freq:\n",
        "    current = bigram[0][1]\n",
        "    previous = bigram [0][0]\n",
        "    count = bigram [1]\n",
        "    pos_current = vocab_to_index[current]\n",
        "    pos_previous = vocab_to_index[previous]\n",
        "    co_occurrence_matrix[pos_current][pos_previous] = count\n",
        "  co_occurrence_matrix = np.matrix(co_occurrence_matrix)\n",
        "    \n",
        "  # return the matrix and the index\n",
        "  return co_occurrence_matrix,vocab_to_index"
      ],
      "execution_count": 0,
      "outputs": []
    },
    {
      "cell_type": "code",
      "metadata": {
        "id": "YSedUBKr57i6",
        "colab_type": "code",
        "colab": {}
      },
      "source": [
        "senten1 = [['This' , 'is', 'a', 'intro', 'to', 'nlp', 'nlu'], \n",
        "           ['I', 'love', 'to', 'learn', 'using', 'notebooks']]"
      ],
      "execution_count": 0,
      "outputs": []
    },
    {
      "cell_type": "code",
      "metadata": {
        "id": "VvranAvR6r3U",
        "colab_type": "code",
        "colab": {}
      },
      "source": [
        "# merge the two . or more lists to one single list\n",
        "merged = list(itertools.chain.from_iterable(senten1))\n",
        "matrix = co_occurrence_matrix(merged)"
      ],
      "execution_count": 0,
      "outputs": []
    },
    {
      "cell_type": "code",
      "metadata": {
        "id": "o9TK1gRz67nz",
        "colab_type": "code",
        "colab": {}
      },
      "source": [
        "# generation of matrix\n",
        "import pandas as pd\n",
        "CoMatrixFinal = pd.DataFrame(matrix[0], index=vocab_to_index,\n",
        "columns=vocab_to_index)\n",
        "print(CoMatrixFinal)"
      ],
      "execution_count": 0,
      "outputs": []
    },
    {
      "cell_type": "code",
      "metadata": {
        "id": "LEVF6odl74WL",
        "colab_type": "code",
        "colab": {}
      },
      "source": [
        ""
      ],
      "execution_count": 0,
      "outputs": []
    }
  ]
}