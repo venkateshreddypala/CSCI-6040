{
  "nbformat": 4,
  "nbformat_minor": 0,
  "metadata": {
    "colab": {
      "name": "n-grams.ipynb",
      "version": "0.3.2",
      "provenance": []
    },
    "kernelspec": {
      "name": "python3",
      "display_name": "Python 3"
    }
  },
  "cells": [
    {
      "cell_type": "markdown",
      "metadata": {
        "id": "e3U_f0dV-16o",
        "colab_type": "text"
      },
      "source": [
        "# N-Grams\n",
        "\n",
        "An n-gram is a sequence containing up to n elements that have been extracted from a sequence of those elements, usually a string.\n",
        "\n",
        "In general the “elements” of an n-gram can be characters, syllables, words, or even symbols like “A,” “T,” “G,” and “C” used to represent a DNA sequence.\n",
        "\n"
      ]
    },
    {
      "cell_type": "code",
      "metadata": {
        "id": "Fl2L_9RtF7nh",
        "colab_type": "code",
        "colab": {}
      },
      "source": [
        "senten1= \"\"\"One Mistake Led This Entrepreneur To Build A $3.5 Billion Business\"\"\""
      ],
      "execution_count": 0,
      "outputs": []
    },
    {
      "cell_type": "code",
      "metadata": {
        "id": "4GoJISYSGRGo",
        "colab_type": "code",
        "colab": {
          "base_uri": "https://localhost:8080/",
          "height": 221
        },
        "outputId": "c3305530-682c-4fb8-a340-fc85c2e152c7"
      },
      "source": [
        "# using regular expression\n",
        "import re\n",
        "pattern = re.compile(r\"([-\\s.,;!?])+\")\n",
        "tokens = pattern.split(senten1)\n",
        "tokens = [x for x in tokens if x and x not in '- \\t\\n.,;!?']\n",
        "tokens"
      ],
      "execution_count": 7,
      "outputs": [
        {
          "output_type": "execute_result",
          "data": {
            "text/plain": [
              "['One',\n",
              " 'Mistake',\n",
              " 'Led',\n",
              " 'This',\n",
              " 'Entrepreneur',\n",
              " 'To',\n",
              " 'Build',\n",
              " 'A',\n",
              " '$3',\n",
              " '5',\n",
              " 'Billion',\n",
              " 'Business']"
            ]
          },
          "metadata": {
            "tags": []
          },
          "execution_count": 7
        }
      ]
    },
    {
      "cell_type": "code",
      "metadata": {
        "id": "gisQ0DcpGTcz",
        "colab_type": "code",
        "colab": {
          "base_uri": "https://localhost:8080/",
          "height": 204
        },
        "outputId": "1c75e55c-e336-42fe-e438-ce8b7ed647ce"
      },
      "source": [
        "# using nltk for bi-grams.\n",
        "import nltk\n",
        "from nltk.util import ngrams\n",
        "list(ngrams(tokens, 2))"
      ],
      "execution_count": 12,
      "outputs": [
        {
          "output_type": "execute_result",
          "data": {
            "text/plain": [
              "[('One', 'Mistake'),\n",
              " ('Mistake', 'Led'),\n",
              " ('Led', 'This'),\n",
              " ('This', 'Entrepreneur'),\n",
              " ('Entrepreneur', 'To'),\n",
              " ('To', 'Build'),\n",
              " ('Build', 'A'),\n",
              " ('A', '$3'),\n",
              " ('$3', '5'),\n",
              " ('5', 'Billion'),\n",
              " ('Billion', 'Business')]"
            ]
          },
          "metadata": {
            "tags": []
          },
          "execution_count": 12
        }
      ]
    },
    {
      "cell_type": "code",
      "metadata": {
        "id": "C_y0AKOqG4gf",
        "colab_type": "code",
        "colab": {
          "base_uri": "https://localhost:8080/",
          "height": 187
        },
        "outputId": "fd1a9992-37ce-429c-89b3-edadfd87281a"
      },
      "source": [
        "# using NLTK for tri-grams.\n",
        "list(ngrams(tokens, 3))"
      ],
      "execution_count": 11,
      "outputs": [
        {
          "output_type": "execute_result",
          "data": {
            "text/plain": [
              "[('One', 'Mistake', 'Led'),\n",
              " ('Mistake', 'Led', 'This'),\n",
              " ('Led', 'This', 'Entrepreneur'),\n",
              " ('This', 'Entrepreneur', 'To'),\n",
              " ('Entrepreneur', 'To', 'Build'),\n",
              " ('To', 'Build', 'A'),\n",
              " ('Build', 'A', '$3'),\n",
              " ('A', '$3', '5'),\n",
              " ('$3', '5', 'Billion'),\n",
              " ('5', 'Billion', 'Business')]"
            ]
          },
          "metadata": {
            "tags": []
          },
          "execution_count": 11
        }
      ]
    },
    {
      "cell_type": "code",
      "metadata": {
        "id": "Tr8VX9MYHKV8",
        "colab_type": "code",
        "colab": {}
      },
      "source": [
        ""
      ],
      "execution_count": 0,
      "outputs": []
    }
  ]
}