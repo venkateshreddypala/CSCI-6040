{
  "nbformat": 4,
  "nbformat_minor": 0,
  "metadata": {
    "colab": {
      "name": "implementation_with_mlp1.ipynb",
      "version": "0.3.2",
      "provenance": []
    },
    "kernelspec": {
      "name": "python3",
      "display_name": "Python 3"
    }
  },
  "cells": [
    {
      "cell_type": "code",
      "metadata": {
        "id": "-viP17IaCACs",
        "colab_type": "code",
        "colab": {}
      },
      "source": [
        ""
      ],
      "execution_count": 0,
      "outputs": []
    },
    {
      "cell_type": "markdown",
      "metadata": {
        "id": "mNWn5qzBCHsl",
        "colab_type": "text"
      },
      "source": [
        "**In this example we are going to look at a surname dataset to make predictions based on MLP we learned early**\n",
        "\n",
        "In order to get started we need to mainpulate the dataset and make changes according to the requirement."
      ]
    },
    {
      "cell_type": "code",
      "metadata": {
        "id": "gh6VcuErCUip",
        "colab_type": "code",
        "colab": {}
      },
      "source": [
        "# Importing required libraries\n",
        "import collections\n",
        "import numpy as np\n",
        "import pandas as p\n",
        "import re\n",
        "\n",
        "from argparse import Namespace\n"
      ],
      "execution_count": 0,
      "outputs": []
    },
    {
      "cell_type": "code",
      "metadata": {
        "id": "9KGNipvACxgM",
        "colab_type": "code",
        "colab": {}
      },
      "source": [
        "# Split the dataset to train and test data\n",
        "# The path to the data should be named according to the one on your machine\n",
        "args = Namespace(\n",
        "    args = Namespace(\n",
        "    raw_dataset_csv=\"data/surnames/surnames.csv\",\n",
        "    train_proportion=0.7,\n",
        "    val_proportion=0.15,\n",
        "    test_proportion=0.15,\n",
        "    output_munged_csv=\"data/surnames/surnames_with_splits.csv\",\n",
        "    seed=1337\n",
        "      \n",
        ")"
      ],
      "execution_count": 0,
      "outputs": []
    },
    {
      "cell_type": "code",
      "metadata": {
        "id": "j3qXECPAC9LJ",
        "colab_type": "code",
        "colab": {}
      },
      "source": [
        "# Reading the data using pandas\n",
        "\n",
        "surnames = pd.read_csv(args.raw_dataset_csv, header=0)"
      ],
      "execution_count": 0,
      "outputs": []
    },
    {
      "cell_type": "code",
      "metadata": {
        "id": "HuHMrRbpDUcc",
        "colab_type": "code",
        "colab": {}
      },
      "source": [
        "# Check if the dataset is loaded by printing the top\n",
        "surnames.head()"
      ],
      "execution_count": 0,
      "outputs": []
    },
    {
      "cell_type": "code",
      "metadata": {
        "id": "JJv1snheDcGS",
        "colab_type": "code",
        "colab": {}
      },
      "source": [
        "# If you want to explore the how many unique classes the data is,\n",
        "# In our case it is the number of Nationalites\n",
        "set(surnames.nationality)"
      ],
      "execution_count": 0,
      "outputs": []
    },
    {
      "cell_type": "code",
      "metadata": {
        "id": "Rnn6OiyBDsMI",
        "colab_type": "code",
        "colab": {}
      },
      "source": [
        "# Split dataset according to the classes\n",
        "# We created a dictionary\n",
        "by_nationality = collections.defaultdict(list)\n",
        "for _, row in surnames.iterrows():\n",
        "    by_nationality[row.nationality].append(row.to_dict())"
      ],
      "execution_count": 0,
      "outputs": []
    },
    {
      "cell_type": "code",
      "metadata": {
        "id": "2Ar1zHiPD4Ot",
        "colab_type": "code",
        "colab": {}
      },
      "source": [
        "# Create split data\n",
        "final_list = []\n",
        "np.random.seed(args.seed)\n",
        "for _, item_list in sorted(by_nationality.items()):\n",
        "    np.random.shuffle(item_list)\n",
        "    n = len(item_list)\n",
        "    n_train = int(args.train_proportion*n)\n",
        "    n_val = int(args.val_proportion*n)\n",
        "    n_test = int(args.test_proportion*n)\n",
        "    \n",
        "    # Give data point a split attribute\n",
        "    for item in item_list[:n_train]:\n",
        "        item['split'] = 'train'\n",
        "    for item in item_list[n_train:n_train+n_val]:\n",
        "        item['split'] = 'val'\n",
        "    for item in item_list[n_train+n_val:]:\n",
        "        item['split'] = 'test'  \n",
        "    \n",
        "    # Add to final list\n",
        "    final_list.extend(item_list)"
      ],
      "execution_count": 0,
      "outputs": []
    },
    {
      "cell_type": "code",
      "metadata": {
        "id": "XcQ9oKhRD-cN",
        "colab_type": "code",
        "colab": {}
      },
      "source": [
        "# Saving the Split data on a file\n",
        "final_surnames = pd.DataFrame(final_list)"
      ],
      "execution_count": 0,
      "outputs": []
    },
    {
      "cell_type": "code",
      "metadata": {
        "id": "NneiE9Q2EFwi",
        "colab_type": "code",
        "colab": {}
      },
      "source": [
        "final_surnames.split.value_counts()"
      ],
      "execution_count": 0,
      "outputs": []
    },
    {
      "cell_type": "code",
      "metadata": {
        "id": "ITSMXi9dEJSi",
        "colab_type": "code",
        "colab": {}
      },
      "source": [
        "final_surnames.head()"
      ],
      "execution_count": 0,
      "outputs": []
    },
    {
      "cell_type": "code",
      "metadata": {
        "id": "FaVu15guELvq",
        "colab_type": "code",
        "colab": {}
      },
      "source": [
        "# Write manipulated data to CSV\n",
        "final_surnames.to_csv(args.output_munged_csv, index=False)"
      ],
      "execution_count": 0,
      "outputs": []
    }
  ]
}