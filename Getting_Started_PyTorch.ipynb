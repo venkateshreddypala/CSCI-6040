{
  "nbformat": 4,
  "nbformat_minor": 0,
  "metadata": {
    "colab": {
      "name": "Getting_Started_PyTorch.ipynb",
      "version": "0.3.2",
      "provenance": [],
      "collapsed_sections": [],
      "include_colab_link": true
    },
    "kernelspec": {
      "name": "python3",
      "display_name": "Python 3"
    }
  },
  "cells": [
    {
      "cell_type": "markdown",
      "metadata": {
        "id": "view-in-github",
        "colab_type": "text"
      },
      "source": [
        "<a href=\"https://colab.research.google.com/github/venkateshreddypala/CSCI-6040/blob/Getting-Started-with-Pytorch/Getting_Started_PyTorch.ipynb\" target=\"_parent\"><img src=\"https://colab.research.google.com/assets/colab-badge.svg\" alt=\"Open In Colab\"/></a>"
      ]
    },
    {
      "cell_type": "code",
      "metadata": {
        "id": "wd0P3dOu5Q9i",
        "colab_type": "code",
        "outputId": "9cd6da45-0d61-44ff-da27-9f150a859117",
        "colab": {
          "base_uri": "https://localhost:8080/",
          "height": 34
        }
      },
      "source": [
        "#Importing required libraries\n",
        "import torch\n",
        "import numpy as np\n",
        "# It will set the seed of the random number generator to a fixed value,\n",
        "# so that when you call for example torch.rand(2), the results will be reproducible.\n",
        "# Else it produces results which are random and you'll see that it changes over time.\n",
        "torch.manual_seed(1234)\n",
        "\n"
      ],
      "execution_count": 0,
      "outputs": [
        {
          "output_type": "execute_result",
          "data": {
            "text/plain": [
              "<torch._C.Generator at 0x7fe3996f85d0>"
            ]
          },
          "metadata": {
            "tags": []
          },
          "execution_count": 3
        }
      ]
    },
    {
      "cell_type": "markdown",
      "metadata": {
        "colab_type": "text",
        "id": "hjhq0CWGBL42"
      },
      "source": [
        "# Getting Started with PyTorch, for more documentation and support, visit the official [page](https://pytorch.org/tutorials/)\n",
        "\n",
        "---\n",
        "For math operations refer to the following [page](https://pytorch.org/docs/stable/torch.html#math-operations)\n",
        "\n",
        "\n",
        "---\n",
        "\n",
        "Reference for Vectors for Word Representation [Glove](https://nlp.stanford.edu/pubs/glove.pdf)\n",
        "\n"
      ]
    },
    {
      "cell_type": "markdown",
      "metadata": {
        "colab_type": "text",
        "id": "drQbbcE6BL42"
      },
      "source": [
        "**Tensors**\n",
        "\n",
        "*Tensors are similar to a matrix in Mathematical representation except they are N-Dimensional arrays of numbers.*\n",
        "\n",
        "*FloatTensor is the default type of Tensor*\n",
        "\n",
        "*The other type for Tensor is a Long Tensor, Long Tensors are used for indexing operations and mirror the int64 numpy type*\n",
        "\n",
        "\n",
        "* We will create Tensors, the shape of the Tensor is determined by the arguments.*\n",
        "\n",
        "\n",
        "\n"
      ]
    },
    {
      "cell_type": "code",
      "metadata": {
        "id": "rY8y_Uf9yxh6",
        "colab_type": "code",
        "colab": {}
      },
      "source": [
        ""
      ],
      "execution_count": 0,
      "outputs": []
    },
    {
      "cell_type": "code",
      "metadata": {
        "colab_type": "code",
        "id": "ULdDLqDjBL40",
        "colab": {}
      },
      "source": [
        "# Sample Tensor  Creation using describe function in Python3\n",
        "# Here 'y' is a Tensor with 8 rows and 5 columns\n",
        "def describe(y):\n",
        "    print(\"Type: {}\".format(y.type()))\n",
        "    print(\"Shape/size: {}\".format(y.shape))\n",
        "    print(\"Values: \\n{}\".format(y))"
      ],
      "execution_count": 0,
      "outputs": []
    },
    {
      "cell_type": "code",
      "metadata": {
        "colab_type": "code",
        "outputId": "06acbb86-fd19-4965-b34c-428e235a40a1",
        "id": "4tfMHzZZBL4y",
        "colab": {
          "base_uri": "https://localhost:8080/",
          "height": 204
        }
      },
      "source": [
        "describe(torch.Tensor(8,5))"
      ],
      "execution_count": 0,
      "outputs": [
        {
          "output_type": "stream",
          "text": [
            "Type: torch.FloatTensor\n",
            "Shape/size: torch.Size([8, 5])\n",
            "Values: \n",
            "tensor([[1.1933e-36, 0.0000e+00, 1.9898e-43, 0.0000e+00, 0.0000e+00],\n",
            "        [0.0000e+00, 0.0000e+00, 0.0000e+00, 0.0000e+00, 0.0000e+00],\n",
            "        [7.0295e+28, 6.1949e-04, 2.9390e+29, 2.0705e-19, 4.4721e+21],\n",
            "        [1.8010e+25, 4.7426e+30, 3.0186e+32, 2.1128e-19, 1.2414e+28],\n",
            "        [3.2304e-18, 1.8371e+25, 7.5551e+31, 2.6543e+20, 3.2607e-12],\n",
            "        [7.1856e+22, 2.8405e+20, 1.0395e+21, 3.2986e-18, 3.1457e-12],\n",
            "        [7.5654e+28, 4.2198e+24, 7.5654e+28, 6.1979e-04, 7.2443e+22],\n",
            "        [1.9421e+31, 6.5950e+22, 7.1555e+22, 7.2250e+28, 6.1970e-04]])\n"
          ],
          "name": "stdout"
        }
      ]
    },
    {
      "cell_type": "code",
      "metadata": {
        "colab_type": "code",
        "outputId": "b018c90b-1d12-49e4-c058-1a8a359f89d9",
        "id": "xROMxst1BL4v",
        "colab": {
          "base_uri": "https://localhost:8080/",
          "height": 204
        }
      },
      "source": [
        "#using rand\n",
        "describe(torch.randn(8,5))"
      ],
      "execution_count": 0,
      "outputs": [
        {
          "output_type": "stream",
          "text": [
            "Type: torch.FloatTensor\n",
            "Shape/size: torch.Size([8, 5])\n",
            "Values: \n",
            "tensor([[-1.3892, -0.6208, -0.0242, -1.0402,  0.7988],\n",
            "        [-0.0923, -0.7049, -1.6024, -1.0257,  1.7473],\n",
            "        [ 0.8090, -1.0989, -0.1706, -1.4594,  0.2207],\n",
            "        [ 0.2463,  0.9717, -0.5150,  1.4255,  0.7987],\n",
            "        [-1.4949,  0.8810, -1.1786, -0.9340, -1.5173],\n",
            "        [ 0.3877, -1.1849,  0.6897, -0.2833, -0.5660],\n",
            "        [ 0.3566, -0.4535,  0.0323, -1.6593, -1.8773],\n",
            "        [ 0.7372,  0.3910,  0.5158, -1.0042,  0.9860]])\n"
          ],
          "name": "stdout"
        }
      ]
    },
    {
      "cell_type": "markdown",
      "metadata": {
        "colab_type": "text",
        "id": "zDn7E1prBL4u"
      },
      "source": [
        "It is a common practice to generate random numbers for prototypes"
      ]
    },
    {
      "cell_type": "code",
      "metadata": {
        "colab_type": "code",
        "outputId": "d3993f92-e1ed-4c9b-de6a-919c2ef794cd",
        "id": "5xmGksu5BL4q",
        "colab": {
          "base_uri": "https://localhost:8080/",
          "height": 102
        }
      },
      "source": [
        "y = torch.rand(2,3)\n",
        "describe(y)"
      ],
      "execution_count": 0,
      "outputs": [
        {
          "output_type": "stream",
          "text": [
            "Type: torch.FloatTensor\n",
            "Shape/size: torch.Size([2, 3])\n",
            "Values: \n",
            "tensor([[0.2908, 0.4196, 0.3728],\n",
            "        [0.3769, 0.0108, 0.9455]])\n"
          ],
          "name": "stdout"
        }
      ]
    },
    {
      "cell_type": "markdown",
      "metadata": {
        "colab_type": "text",
        "id": "2CJaQD4MBL4p"
      },
      "source": [
        "We can generate Tensors with Zeros and One "
      ]
    },
    {
      "cell_type": "code",
      "metadata": {
        "colab_type": "code",
        "outputId": "8bd56289-80eb-4030-a76a-82e64494e78e",
        "id": "tp-ifh_GBL4j",
        "colab": {
          "base_uri": "https://localhost:8080/",
          "height": 578
        }
      },
      "source": [
        "describe(torch.zeros(8, 5))\n",
        "y = torch.ones(8, 5)\n",
        "describe(y)\n",
        "y.fill_(5)\n",
        "describe(y)"
      ],
      "execution_count": 0,
      "outputs": [
        {
          "output_type": "stream",
          "text": [
            "Type: torch.FloatTensor\n",
            "Shape/size: torch.Size([8, 5])\n",
            "Values: \n",
            "tensor([[0., 0., 0., 0., 0.],\n",
            "        [0., 0., 0., 0., 0.],\n",
            "        [0., 0., 0., 0., 0.],\n",
            "        [0., 0., 0., 0., 0.],\n",
            "        [0., 0., 0., 0., 0.],\n",
            "        [0., 0., 0., 0., 0.],\n",
            "        [0., 0., 0., 0., 0.],\n",
            "        [0., 0., 0., 0., 0.]])\n",
            "Type: torch.FloatTensor\n",
            "Shape/size: torch.Size([8, 5])\n",
            "Values: \n",
            "tensor([[1., 1., 1., 1., 1.],\n",
            "        [1., 1., 1., 1., 1.],\n",
            "        [1., 1., 1., 1., 1.],\n",
            "        [1., 1., 1., 1., 1.],\n",
            "        [1., 1., 1., 1., 1.],\n",
            "        [1., 1., 1., 1., 1.],\n",
            "        [1., 1., 1., 1., 1.],\n",
            "        [1., 1., 1., 1., 1.]])\n",
            "Type: torch.FloatTensor\n",
            "Shape/size: torch.Size([8, 5])\n",
            "Values: \n",
            "tensor([[5., 5., 5., 5., 5.],\n",
            "        [5., 5., 5., 5., 5.],\n",
            "        [5., 5., 5., 5., 5.],\n",
            "        [5., 5., 5., 5., 5.],\n",
            "        [5., 5., 5., 5., 5.],\n",
            "        [5., 5., 5., 5., 5.],\n",
            "        [5., 5., 5., 5., 5.],\n",
            "        [5., 5., 5., 5., 5.]])\n"
          ],
          "name": "stdout"
        }
      ]
    },
    {
      "cell_type": "markdown",
      "metadata": {
        "colab_type": "text",
        "id": "G53mFI0XBL4h"
      },
      "source": [
        "We can fill the numbers after initilization and then fill in place, operation is denoted by (_)"
      ]
    },
    {
      "cell_type": "code",
      "metadata": {
        "id": "2CAxM9Z9reZi",
        "colab_type": "code",
        "colab": {
          "base_uri": "https://localhost:8080/",
          "height": 85
        },
        "outputId": "0cadc9a7-7876-4a9a-dc04-9a0dda33adfa"
      },
      "source": [
        "y = torch.Tensor(2,3).fill_(5)\n",
        "print(y.type())\n",
        "print(y.shape)\n",
        "print(y)"
      ],
      "execution_count": 12,
      "outputs": [
        {
          "output_type": "stream",
          "text": [
            "torch.FloatTensor\n",
            "torch.Size([2, 3])\n",
            "tensor([[5., 5., 5.],\n",
            "        [5., 5., 5.]])\n"
          ],
          "name": "stdout"
        }
      ]
    },
    {
      "cell_type": "code",
      "metadata": {
        "id": "o64EJgpTrrU6",
        "colab_type": "code",
        "colab": {
          "base_uri": "https://localhost:8080/",
          "height": 102
        },
        "outputId": "eb3708e3-1f2f-4854-96ed-d2f740a76277"
      },
      "source": [
        "y = torch.Tensor([[2, 3,],  \n",
        "                  [3, 4,]])\n",
        "describe(y)"
      ],
      "execution_count": 13,
      "outputs": [
        {
          "output_type": "stream",
          "text": [
            "Type: torch.FloatTensor\n",
            "Shape/size: torch.Size([2, 2])\n",
            "Values: \n",
            "tensor([[2., 3.],\n",
            "        [3., 4.]])\n"
          ],
          "name": "stdout"
        }
      ]
    },
    {
      "cell_type": "code",
      "metadata": {
        "id": "7VATp7XYuao_",
        "colab_type": "code",
        "colab": {
          "base_uri": "https://localhost:8080/",
          "height": 102
        },
        "outputId": "5aa3d92b-8daf-4a0b-b57f-0ced11a140cc"
      },
      "source": [
        "# LOngTensor\n",
        "import torch\n",
        "y = torch.arange(6).view(2, 3)\n",
        "describe(y)"
      ],
      "execution_count": 14,
      "outputs": [
        {
          "output_type": "stream",
          "text": [
            "Type: torch.LongTensor\n",
            "Shape/size: torch.Size([2, 3])\n",
            "Values: \n",
            "tensor([[0, 1, 2],\n",
            "        [3, 4, 5]])\n"
          ],
          "name": "stdout"
        }
      ]
    },
    {
      "cell_type": "code",
      "metadata": {
        "id": "yy9Jgo2vujYc",
        "colab_type": "code",
        "colab": {
          "base_uri": "https://localhost:8080/",
          "height": 357
        },
        "outputId": "8148813c-78a4-4d6c-9dcc-623e060c7f2b"
      },
      "source": [
        "y = torch.FloatTensor([[1, 2, 3],  \n",
        "                       [4, 5, 6]])\n",
        "describe(y)\n",
        "\n",
        "y = y.long()\n",
        "describe(y)\n",
        "\n",
        "y = torch.tensor([[1, 2, 3], \n",
        "                  [4, 5, 6]], dtype=torch.int64)\n",
        "describe(y)\n",
        "\n",
        "y = y.float() \n",
        "describe(y)"
      ],
      "execution_count": 16,
      "outputs": [
        {
          "output_type": "stream",
          "text": [
            "Type: torch.FloatTensor\n",
            "Shape/size: torch.Size([2, 3])\n",
            "Values: \n",
            "tensor([[1., 2., 3.],\n",
            "        [4., 5., 6.]])\n",
            "Type: torch.LongTensor\n",
            "Shape/size: torch.Size([2, 3])\n",
            "Values: \n",
            "tensor([[1, 2, 3],\n",
            "        [4, 5, 6]])\n",
            "Type: torch.LongTensor\n",
            "Shape/size: torch.Size([2, 3])\n",
            "Values: \n",
            "tensor([[1, 2, 3],\n",
            "        [4, 5, 6]])\n",
            "Type: torch.FloatTensor\n",
            "Shape/size: torch.Size([2, 3])\n",
            "Values: \n",
            "tensor([[1., 2., 3.],\n",
            "        [4., 5., 6.]])\n"
          ],
          "name": "stdout"
        }
      ]
    },
    {
      "cell_type": "code",
      "metadata": {
        "id": "ZW7MJBgbuwD5",
        "colab_type": "code",
        "colab": {
          "base_uri": "https://localhost:8080/",
          "height": 102
        },
        "outputId": "1b4ee1f3-039c-4159-b39f-4d2f7c270f52"
      },
      "source": [
        "y = torch.randn(2, 3)\n",
        "describe(y)"
      ],
      "execution_count": 17,
      "outputs": [
        {
          "output_type": "stream",
          "text": [
            "Type: torch.FloatTensor\n",
            "Shape/size: torch.Size([2, 3])\n",
            "Values: \n",
            "tensor([[ 0.8169,  0.8579, -0.2107],\n",
            "        [ 1.1399, -2.5122,  1.3823]])\n"
          ],
          "name": "stdout"
        }
      ]
    },
    {
      "cell_type": "code",
      "metadata": {
        "id": "ndjJNC0Mu0jx",
        "colab_type": "code",
        "colab": {
          "base_uri": "https://localhost:8080/",
          "height": 102
        },
        "outputId": "73d6315b-1b6f-474b-ca9d-cf404f8d85d6"
      },
      "source": [
        "describe(torch.add(y, y))"
      ],
      "execution_count": 18,
      "outputs": [
        {
          "output_type": "stream",
          "text": [
            "Type: torch.FloatTensor\n",
            "Shape/size: torch.Size([2, 3])\n",
            "Values: \n",
            "tensor([[ 1.6339,  1.7159, -0.4215],\n",
            "        [ 2.2799, -5.0244,  2.7646]])\n"
          ],
          "name": "stdout"
        }
      ]
    },
    {
      "cell_type": "code",
      "metadata": {
        "id": "tiJV5b9nu4Qk",
        "colab_type": "code",
        "colab": {
          "base_uri": "https://localhost:8080/",
          "height": 102
        },
        "outputId": "ce8d63c6-d35e-424c-ac09-bc242c248ca5"
      },
      "source": [
        "describe(y + y)"
      ],
      "execution_count": 19,
      "outputs": [
        {
          "output_type": "stream",
          "text": [
            "Type: torch.FloatTensor\n",
            "Shape/size: torch.Size([2, 3])\n",
            "Values: \n",
            "tensor([[ 1.6339,  1.7159, -0.4215],\n",
            "        [ 2.2799, -5.0244,  2.7646]])\n"
          ],
          "name": "stdout"
        }
      ]
    },
    {
      "cell_type": "code",
      "metadata": {
        "id": "z44CqkoAu9Zb",
        "colab_type": "code",
        "colab": {
          "base_uri": "https://localhost:8080/",
          "height": 85
        },
        "outputId": "5c772d50-9292-4e9c-a2dd-13984bb0a5c7"
      },
      "source": [
        "y = torch.arange(6)\n",
        "describe(y)"
      ],
      "execution_count": 20,
      "outputs": [
        {
          "output_type": "stream",
          "text": [
            "Type: torch.LongTensor\n",
            "Shape/size: torch.Size([6])\n",
            "Values: \n",
            "tensor([0, 1, 2, 3, 4, 5])\n"
          ],
          "name": "stdout"
        }
      ]
    },
    {
      "cell_type": "code",
      "metadata": {
        "id": "iZnu0EgbvClp",
        "colab_type": "code",
        "colab": {
          "base_uri": "https://localhost:8080/",
          "height": 102
        },
        "outputId": "334171e7-b26d-43ab-fcda-42f43b74c2ea"
      },
      "source": [
        "y = y.view(2, 3)\n",
        "describe(y)"
      ],
      "execution_count": 21,
      "outputs": [
        {
          "output_type": "stream",
          "text": [
            "Type: torch.LongTensor\n",
            "Shape/size: torch.Size([2, 3])\n",
            "Values: \n",
            "tensor([[0, 1, 2],\n",
            "        [3, 4, 5]])\n"
          ],
          "name": "stdout"
        }
      ]
    },
    {
      "cell_type": "code",
      "metadata": {
        "id": "HCB3ZmyNvGhh",
        "colab_type": "code",
        "colab": {
          "base_uri": "https://localhost:8080/",
          "height": 153
        },
        "outputId": "2aa8b4e3-9062-4d2b-e256-e86a983ccd96"
      },
      "source": [
        "describe(torch.sum(y, dim=0))\n",
        "describe(torch.sum(y, dim=1))"
      ],
      "execution_count": 22,
      "outputs": [
        {
          "output_type": "stream",
          "text": [
            "Type: torch.LongTensor\n",
            "Shape/size: torch.Size([3])\n",
            "Values: \n",
            "tensor([3, 5, 7])\n",
            "Type: torch.LongTensor\n",
            "Shape/size: torch.Size([2])\n",
            "Values: \n",
            "tensor([ 3, 12])\n"
          ],
          "name": "stdout"
        }
      ]
    },
    {
      "cell_type": "code",
      "metadata": {
        "id": "dNysDu7GvKEA",
        "colab_type": "code",
        "colab": {
          "base_uri": "https://localhost:8080/",
          "height": 119
        },
        "outputId": "1a4f4199-7cd0-4dd1-c348-6dc9a5518b75"
      },
      "source": [
        "describe(torch.transpose(y, 0, 1))"
      ],
      "execution_count": 23,
      "outputs": [
        {
          "output_type": "stream",
          "text": [
            "Type: torch.LongTensor\n",
            "Shape/size: torch.Size([3, 2])\n",
            "Values: \n",
            "tensor([[0, 3],\n",
            "        [1, 4],\n",
            "        [2, 5]])\n"
          ],
          "name": "stdout"
        }
      ]
    },
    {
      "cell_type": "code",
      "metadata": {
        "id": "SzCTrk4mvPA4",
        "colab_type": "code",
        "colab": {
          "base_uri": "https://localhost:8080/",
          "height": 238
        },
        "outputId": "96dd00d0-0ca5-42e9-8270-d075c62ca38e"
      },
      "source": [
        "import torch\n",
        "y = torch.arange(6).view(2, 3)\n",
        "describe(y)\n",
        "describe(y[:1, :2])\n",
        "describe(y[0, 1])"
      ],
      "execution_count": 24,
      "outputs": [
        {
          "output_type": "stream",
          "text": [
            "Type: torch.LongTensor\n",
            "Shape/size: torch.Size([2, 3])\n",
            "Values: \n",
            "tensor([[0, 1, 2],\n",
            "        [3, 4, 5]])\n",
            "Type: torch.LongTensor\n",
            "Shape/size: torch.Size([1, 2])\n",
            "Values: \n",
            "tensor([[0, 1]])\n",
            "Type: torch.LongTensor\n",
            "Shape/size: torch.Size([])\n",
            "Values: \n",
            "1\n"
          ],
          "name": "stdout"
        }
      ]
    },
    {
      "cell_type": "code",
      "metadata": {
        "id": "y2zK-uUWvTqI",
        "colab_type": "code",
        "colab": {
          "base_uri": "https://localhost:8080/",
          "height": 102
        },
        "outputId": "7c70a1fd-ee86-4d98-90d2-e47fd2c85b17"
      },
      "source": [
        "indices = torch.LongTensor([0, 2])\n",
        "describe(torch.index_select(y, dim=1, index=indices))"
      ],
      "execution_count": 25,
      "outputs": [
        {
          "output_type": "stream",
          "text": [
            "Type: torch.LongTensor\n",
            "Shape/size: torch.Size([2, 2])\n",
            "Values: \n",
            "tensor([[0, 2],\n",
            "        [3, 5]])\n"
          ],
          "name": "stdout"
        }
      ]
    },
    {
      "cell_type": "code",
      "metadata": {
        "id": "6y9xHBHFvYDF",
        "colab_type": "code",
        "colab": {
          "base_uri": "https://localhost:8080/",
          "height": 102
        },
        "outputId": "5205d9fd-dacc-445a-ddb6-7151cb3bf6c2"
      },
      "source": [
        "indices = torch.LongTensor([0, 0])\n",
        "describe(torch.index_select(y, dim=0, index=indices))"
      ],
      "execution_count": 26,
      "outputs": [
        {
          "output_type": "stream",
          "text": [
            "Type: torch.LongTensor\n",
            "Shape/size: torch.Size([2, 3])\n",
            "Values: \n",
            "tensor([[0, 1, 2],\n",
            "        [0, 1, 2]])\n"
          ],
          "name": "stdout"
        }
      ]
    },
    {
      "cell_type": "code",
      "metadata": {
        "id": "TuJPspWnveT5",
        "colab_type": "code",
        "colab": {
          "base_uri": "https://localhost:8080/",
          "height": 85
        },
        "outputId": "592072dd-9972-4683-a9cc-5e4fd4a204e4"
      },
      "source": [
        "row_indices = torch.arange(2).long()\n",
        "col_indices = torch.LongTensor([0, 1])\n",
        "describe(y[row_indices, col_indices])"
      ],
      "execution_count": 27,
      "outputs": [
        {
          "output_type": "stream",
          "text": [
            "Type: torch.LongTensor\n",
            "Shape/size: torch.Size([2])\n",
            "Values: \n",
            "tensor([0, 4])\n"
          ],
          "name": "stdout"
        }
      ]
    },
    {
      "cell_type": "code",
      "metadata": {
        "id": "ecayMdv9vinQ",
        "colab_type": "code",
        "colab": {
          "base_uri": "https://localhost:8080/",
          "height": 153
        },
        "outputId": "6a02d01d-44f0-46d1-b1fa-cb2d183c641d"
      },
      "source": [
        "y = torch.LongTensor([[1, 2, 3],  \n",
        "                      [4, 5, 6],\n",
        "                      [7, 8, 9]])\n",
        "describe(y)\n",
        "print(y.dtype)\n",
        "print(y.numpy().dtype)\n"
      ],
      "execution_count": 28,
      "outputs": [
        {
          "output_type": "stream",
          "text": [
            "Type: torch.LongTensor\n",
            "Shape/size: torch.Size([3, 3])\n",
            "Values: \n",
            "tensor([[1, 2, 3],\n",
            "        [4, 5, 6],\n",
            "        [7, 8, 9]])\n",
            "torch.int64\n",
            "int64\n"
          ],
          "name": "stdout"
        }
      ]
    },
    {
      "cell_type": "markdown",
      "metadata": {
        "id": "QSruXkjiv5i3",
        "colab_type": "text"
      },
      "source": [
        "You can Typecast from Tensor type to Long and Vice versa, you can also cast to String using DoubleTensor which is rare."
      ]
    },
    {
      "cell_type": "code",
      "metadata": {
        "id": "Q0yivMwgx5Xf",
        "colab_type": "code",
        "colab": {
          "base_uri": "https://localhost:8080/",
          "height": 119
        },
        "outputId": "3c753771-c087-4186-c5e0-f6a7734b8463"
      },
      "source": [
        "# Example \n",
        "y = torch.FloatTensor([[1, 2, 3],  \n",
        "                       [4, 5, 6],\n",
        "                       [7, 8, 9]])\n",
        "y = y.long()\n",
        "describe(y)"
      ],
      "execution_count": 29,
      "outputs": [
        {
          "output_type": "stream",
          "text": [
            "Type: torch.LongTensor\n",
            "Shape/size: torch.Size([3, 3])\n",
            "Values: \n",
            "tensor([[1, 2, 3],\n",
            "        [4, 5, 6],\n",
            "        [7, 8, 9]])\n"
          ],
          "name": "stdout"
        }
      ]
    },
    {
      "cell_type": "code",
      "metadata": {
        "id": "DbNW1utVzEfu",
        "colab_type": "code",
        "colab": {
          "base_uri": "https://localhost:8080/",
          "height": 34
        },
        "outputId": "8d2e750f-9e0f-4182-a25e-5d1973ac5d20"
      },
      "source": [
        "# Special Tensor Initializations\n",
        "\n",
        "y = torch.arange(0, 10)\n",
        "print(y)"
      ],
      "execution_count": 32,
      "outputs": [
        {
          "output_type": "stream",
          "text": [
            "tensor([0, 1, 2, 3, 4, 5, 6, 7, 8, 9])\n"
          ],
          "name": "stdout"
        }
      ]
    },
    {
      "cell_type": "code",
      "metadata": {
        "id": "4cpGPBhVzN72",
        "colab_type": "code",
        "colab": {
          "base_uri": "https://localhost:8080/",
          "height": 34
        },
        "outputId": "8e29166f-0a42-4b81-c692-de911f74948f"
      },
      "source": [
        "y = torch.arange(0, 10).long()\n",
        "print(y)"
      ],
      "execution_count": 34,
      "outputs": [
        {
          "output_type": "stream",
          "text": [
            "tensor([0, 1, 2, 3, 4, 5, 6, 7, 8, 9])\n"
          ],
          "name": "stdout"
        }
      ]
    },
    {
      "cell_type": "markdown",
      "metadata": {
        "id": "ZG7KxuXrzu9Q",
        "colab_type": "text"
      },
      "source": [
        "**Math Operations in PyTorch**\n",
        "\n",
        "\n",
        "The foundation for modern deep learning is applying the knowledge of linear algebra by using the Tensors\n",
        "\n",
        "---\n",
        "\n",
        "One importnat topic is 'view' which allows to reshape the tenosr as per the requirements.\n",
        "\n",
        "\n",
        "\n",
        "\n",
        "\n"
      ]
    },
    {
      "cell_type": "code",
      "metadata": {
        "id": "LfhMWDeO_EmF",
        "colab_type": "code",
        "colab": {
          "base_uri": "https://localhost:8080/",
          "height": 187
        },
        "outputId": "86169d0a-9a21-4d86-d4ec-7e316ddad891"
      },
      "source": [
        "# Transposing, allows you to switch the dimensions to be on different axis\n",
        "y = torch.arange(0, 12).view(3,4)\n",
        "print(\"y: \\n\", y) \n",
        "print(\"---\")\n",
        "print(\"y.tranpose(1, 0): \\n\", y.transpose(1, 0))"
      ],
      "execution_count": 52,
      "outputs": [
        {
          "output_type": "stream",
          "text": [
            "y: \n",
            " tensor([[ 0,  1,  2,  3],\n",
            "        [ 4,  5,  6,  7],\n",
            "        [ 8,  9, 10, 11]])\n",
            "---\n",
            "y.tranpose(1, 0): \n",
            " tensor([[ 0,  4,  8],\n",
            "        [ 1,  5,  9],\n",
            "        [ 2,  6, 10],\n",
            "        [ 3,  7, 11]])\n"
          ],
          "name": "stdout"
        }
      ]
    },
    {
      "cell_type": "markdown",
      "metadata": {
        "id": "6jwg_o99_Z5h",
        "colab_type": "text"
      },
      "source": [
        "\n",
        "\n",
        "> * A 3-D vector represents a group of sequences. *\n",
        "\n",
        "\n",
        "> * Each sequence consists of a feature vector, while transpose has a restriction of swapping only 2 axes, permute allows for multiple. *\n",
        "\n",
        "> \n",
        "\n",
        "\n",
        "\n"
      ]
    },
    {
      "cell_type": "code",
      "metadata": {
        "id": "gYqLvj7yBGHn",
        "colab_type": "code",
        "colab": {
          "base_uri": "https://localhost:8080/",
          "height": 629
        },
        "outputId": "c68034fd-d177-460d-9f28-c08bc4a72a0f"
      },
      "source": [
        "batch_size = 3\n",
        "seq_size = 4\n",
        "feature_size = 5\n",
        "\n",
        "z = torch.arange(batch_size * seq_size * feature_size).view(batch_size, seq_size, feature_size)\n",
        "\n",
        "print(\"z.shape: \\n\", z.shape)\n",
        "print(\"z: \\n\", z)\n",
        "print(\"-----\")\n",
        "\n",
        "print(\"z.transpose(1, 0).shape: \\n\", z.transpose(1, 0).shape)\n",
        "print(\"z.transpose(1, 0): \\n\", z.transpose(1, 0))"
      ],
      "execution_count": 53,
      "outputs": [
        {
          "output_type": "stream",
          "text": [
            "z.shape: \n",
            " torch.Size([3, 4, 5])\n",
            "z: \n",
            " tensor([[[ 0,  1,  2,  3,  4],\n",
            "         [ 5,  6,  7,  8,  9],\n",
            "         [10, 11, 12, 13, 14],\n",
            "         [15, 16, 17, 18, 19]],\n",
            "\n",
            "        [[20, 21, 22, 23, 24],\n",
            "         [25, 26, 27, 28, 29],\n",
            "         [30, 31, 32, 33, 34],\n",
            "         [35, 36, 37, 38, 39]],\n",
            "\n",
            "        [[40, 41, 42, 43, 44],\n",
            "         [45, 46, 47, 48, 49],\n",
            "         [50, 51, 52, 53, 54],\n",
            "         [55, 56, 57, 58, 59]]])\n",
            "-----\n",
            "z.transpose(1, 0).shape: \n",
            " torch.Size([4, 3, 5])\n",
            "z.transpose(1, 0): \n",
            " tensor([[[ 0,  1,  2,  3,  4],\n",
            "         [20, 21, 22, 23, 24],\n",
            "         [40, 41, 42, 43, 44]],\n",
            "\n",
            "        [[ 5,  6,  7,  8,  9],\n",
            "         [25, 26, 27, 28, 29],\n",
            "         [45, 46, 47, 48, 49]],\n",
            "\n",
            "        [[10, 11, 12, 13, 14],\n",
            "         [30, 31, 32, 33, 34],\n",
            "         [50, 51, 52, 53, 54]],\n",
            "\n",
            "        [[15, 16, 17, 18, 19],\n",
            "         [35, 36, 37, 38, 39],\n",
            "         [55, 56, 57, 58, 59]]])\n"
          ],
          "name": "stdout"
        }
      ]
    },
    {
      "cell_type": "code",
      "metadata": {
        "id": "N3k3DZTGBXrO",
        "colab_type": "code",
        "colab": {
          "base_uri": "https://localhost:8080/",
          "height": 51
        },
        "outputId": "6f2a5c64-cc83-490f-d695-77cfeb163144"
      },
      "source": [
        "# MAtrix multiplication is denoted by mm\n",
        "torch.randn(2, 3, requires_grad=True)"
      ],
      "execution_count": 54,
      "outputs": [
        {
          "output_type": "execute_result",
          "data": {
            "text/plain": [
              "tensor([[ 0.5236,  0.2712, -0.3281],\n",
              "        [-0.0684,  0.7300, -0.9683]], requires_grad=True)"
            ]
          },
          "metadata": {
            "tags": []
          },
          "execution_count": 54
        }
      ]
    },
    {
      "cell_type": "code",
      "metadata": {
        "id": "7wtETSgHBiiK",
        "colab_type": "code",
        "colab": {
          "base_uri": "https://localhost:8080/",
          "height": 289
        },
        "outputId": "90bd56f2-fd5c-462b-f8cf-ac0ea19ed3b6"
      },
      "source": [
        "y1 = torch.arange(6).view(2, 3).float()\n",
        "describe(y1)\n",
        "\n",
        "y2 = torch.ones(3, 2)\n",
        "y2[:, 1] += 1\n",
        "describe(y2)\n",
        "\n",
        "describe(torch.mm(y1, y2))"
      ],
      "execution_count": 56,
      "outputs": [
        {
          "output_type": "stream",
          "text": [
            "Type: torch.FloatTensor\n",
            "Shape/size: torch.Size([2, 3])\n",
            "Values: \n",
            "tensor([[0., 1., 2.],\n",
            "        [3., 4., 5.]])\n",
            "Type: torch.FloatTensor\n",
            "Shape/size: torch.Size([3, 2])\n",
            "Values: \n",
            "tensor([[1., 2.],\n",
            "        [1., 2.],\n",
            "        [1., 2.]])\n",
            "Type: torch.FloatTensor\n",
            "Shape/size: torch.Size([2, 2])\n",
            "Values: \n",
            "tensor([[ 3.,  6.],\n",
            "        [12., 24.]])\n"
          ],
          "name": "stdout"
        }
      ]
    },
    {
      "cell_type": "code",
      "metadata": {
        "id": "nRnxxdFZBvUs",
        "colab_type": "code",
        "colab": {
          "base_uri": "https://localhost:8080/",
          "height": 187
        },
        "outputId": "6be4c574-85b2-4207-f709-be0e3b6ed834"
      },
      "source": [
        "y = torch.arange(0, 12).view(3,4).float()\n",
        "print(y)\n",
        "\n",
        "y2 = torch.ones(4, 2)\n",
        "y2[:, 1] += 1\n",
        "print(y2)\n",
        "\n",
        "print(y.mm(y2))"
      ],
      "execution_count": 57,
      "outputs": [
        {
          "output_type": "stream",
          "text": [
            "tensor([[ 0.,  1.,  2.,  3.],\n",
            "        [ 4.,  5.,  6.,  7.],\n",
            "        [ 8.,  9., 10., 11.]])\n",
            "tensor([[1., 2.],\n",
            "        [1., 2.],\n",
            "        [1., 2.],\n",
            "        [1., 2.]])\n",
            "tensor([[ 6., 12.],\n",
            "        [22., 44.],\n",
            "        [38., 76.]])\n"
          ],
          "name": "stdout"
        }
      ]
    },
    {
      "cell_type": "code",
      "metadata": {
        "id": "fOdjIRpw1CJG",
        "colab_type": "code",
        "colab": {
          "base_uri": "https://localhost:8080/",
          "height": 748
        },
        "outputId": "8352e6be-0ccb-490b-c0bf-67ff13aad6c3"
      },
      "source": [
        "\n",
        "#After view the total should remain the same\n",
        "y = torch.arange(0,20)\n",
        "\n",
        "print (y.view(1,20))\n",
        "print (y.view(2,10))\n",
        "print (y.view(5,4))\n",
        "print (y.view(4,5))\n",
        "print (y.view(10,2))\n",
        "print (y.view(20,1))"
      ],
      "execution_count": 40,
      "outputs": [
        {
          "output_type": "stream",
          "text": [
            "tensor([[ 0,  1,  2,  3,  4,  5,  6,  7,  8,  9, 10, 11, 12, 13, 14, 15, 16, 17,\n",
            "         18, 19]])\n",
            "tensor([[ 0,  1,  2,  3,  4,  5,  6,  7,  8,  9],\n",
            "        [10, 11, 12, 13, 14, 15, 16, 17, 18, 19]])\n",
            "tensor([[ 0,  1,  2,  3],\n",
            "        [ 4,  5,  6,  7],\n",
            "        [ 8,  9, 10, 11],\n",
            "        [12, 13, 14, 15],\n",
            "        [16, 17, 18, 19]])\n",
            "tensor([[ 0,  1,  2,  3,  4],\n",
            "        [ 5,  6,  7,  8,  9],\n",
            "        [10, 11, 12, 13, 14],\n",
            "        [15, 16, 17, 18, 19]])\n",
            "tensor([[ 0,  1],\n",
            "        [ 2,  3],\n",
            "        [ 4,  5],\n",
            "        [ 6,  7],\n",
            "        [ 8,  9],\n",
            "        [10, 11],\n",
            "        [12, 13],\n",
            "        [14, 15],\n",
            "        [16, 17],\n",
            "        [18, 19]])\n",
            "tensor([[ 0],\n",
            "        [ 1],\n",
            "        [ 2],\n",
            "        [ 3],\n",
            "        [ 4],\n",
            "        [ 5],\n",
            "        [ 6],\n",
            "        [ 7],\n",
            "        [ 8],\n",
            "        [ 9],\n",
            "        [10],\n",
            "        [11],\n",
            "        [12],\n",
            "        [13],\n",
            "        [14],\n",
            "        [15],\n",
            "        [16],\n",
            "        [17],\n",
            "        [18],\n",
            "        [19]])\n"
          ],
          "name": "stdout"
        }
      ]
    },
    {
      "cell_type": "markdown",
      "metadata": {
        "id": "c1w-Lf5G2TRi",
        "colab_type": "text"
      },
      "source": [
        "**BraodCasting**\n",
        "\n",
        "\n",
        "*we can use view to ass size -1 dimmensions, which is useful for combining with other tensors*"
      ]
    },
    {
      "cell_type": "code",
      "metadata": {
        "id": "ilxiMdRA1law",
        "colab_type": "code",
        "colab": {
          "base_uri": "https://localhost:8080/",
          "height": 238
        },
        "outputId": "492efaf7-61f8-48dd-f52a-24850f4513ec"
      },
      "source": [
        "# Example\n",
        "x = torch.arange(12).view(3, 4)\n",
        "y = torch.arange(4).view(1, 4)\n",
        "z = torch.arange(3).view(3, 1)\n",
        "\n",
        "print(x)\n",
        "print(y)\n",
        "print(z)\n",
        "print(x + y)\n",
        "print(x + z)"
      ],
      "execution_count": 41,
      "outputs": [
        {
          "output_type": "stream",
          "text": [
            "tensor([[ 0,  1,  2,  3],\n",
            "        [ 4,  5,  6,  7],\n",
            "        [ 8,  9, 10, 11]])\n",
            "tensor([[0, 1, 2, 3]])\n",
            "tensor([[0],\n",
            "        [1],\n",
            "        [2]])\n",
            "tensor([[ 0,  2,  4,  6],\n",
            "        [ 4,  6,  8, 10],\n",
            "        [ 8, 10, 12, 14]])\n",
            "tensor([[ 0,  1,  2,  3],\n",
            "        [ 5,  6,  7,  8],\n",
            "        [10, 11, 12, 13]])\n"
          ],
          "name": "stdout"
        }
      ]
    },
    {
      "cell_type": "markdown",
      "metadata": {
        "id": "Nll3QF9g2x8i",
        "colab_type": "text"
      },
      "source": [
        "**Unsqueeze and squeeze will add and remove 1-dimensions.**\n",
        "\n",
        "*This might be confused with view but three's a significant difference 'view' cannot add additional dimension to the existing tensor where as Unsqueeze will add and dimension*\n",
        "\n",
        "\n"
      ]
    },
    {
      "cell_type": "code",
      "metadata": {
        "id": "kzT_CQ7075NW",
        "colab_type": "code",
        "colab": {
          "base_uri": "https://localhost:8080/",
          "height": 68
        },
        "outputId": "21c6c00e-fe1d-4883-98fd-338ca30efc61"
      },
      "source": [
        "# intitally we have a 3,4 Vector, we are adding one using Unsquueze function and\n",
        "# then using squeeze we are bringing it back to its regular position.\n",
        "z = torch.arange(12).view(3, 4)\n",
        "print(z.shape)\n",
        "\n",
        "z = z.unsqueeze(dim=1)\n",
        "print(z.shape)\n",
        "\n",
        "z = z.squeeze()\n",
        "print(z.shape)"
      ],
      "execution_count": 42,
      "outputs": [
        {
          "output_type": "stream",
          "text": [
            "torch.Size([3, 4])\n",
            "torch.Size([3, 1, 4])\n",
            "torch.Size([3, 4])\n"
          ],
          "name": "stdout"
        }
      ]
    },
    {
      "cell_type": "code",
      "metadata": {
        "id": "1OWjP2538de4",
        "colab_type": "code",
        "colab": {
          "base_uri": "https://localhost:8080/",
          "height": 255
        },
        "outputId": "a51f0e23-573d-4b80-94d5-71f7623644e3"
      },
      "source": [
        "# all of the standard mathematics operations apply (such as add below)\n",
        "x = torch.rand(3,4)\n",
        "print(\"x: \\n\", x)\n",
        "print(\"--\")\n",
        "print(\"torch.add(x, x): \\n\", torch.add(x, x))\n",
        "print(\"--\")\n",
        "print(\"x+x: \\n\", x + x)"
      ],
      "execution_count": 43,
      "outputs": [
        {
          "output_type": "stream",
          "text": [
            "x: \n",
            " tensor([[0.7695, 0.0378, 0.2239, 0.6772],\n",
            "        [0.5274, 0.6325, 0.0910, 0.2323],\n",
            "        [0.7269, 0.1187, 0.3951, 0.7199]])\n",
            "--\n",
            "torch.add(x, x): \n",
            " tensor([[1.5390, 0.0757, 0.4479, 1.3545],\n",
            "        [1.0548, 1.2650, 0.1819, 0.4646],\n",
            "        [1.4537, 0.2375, 0.7902, 1.4398]])\n",
            "--\n",
            "x+x: \n",
            " tensor([[1.5390, 0.0757, 0.4479, 1.3545],\n",
            "        [1.0548, 1.2650, 0.1819, 0.4646],\n",
            "        [1.4537, 0.2375, 0.7902, 1.4398]])\n"
          ],
          "name": "stdout"
        }
      ]
    },
    {
      "cell_type": "code",
      "metadata": {
        "id": "vyUNbOfR8iCu",
        "colab_type": "code",
        "colab": {
          "base_uri": "https://localhost:8080/",
          "height": 119
        },
        "outputId": "6cca04cb-dc9c-4890-d83a-da3e507acd1c"
      },
      "source": [
        "# the convention of _ indicating in-place operations continues:\n",
        "y = torch.arange(12).reshape(3, 4)\n",
        "print(y)\n",
        "print(y.add_(y))"
      ],
      "execution_count": 45,
      "outputs": [
        {
          "output_type": "stream",
          "text": [
            "tensor([[ 0,  1,  2,  3],\n",
            "        [ 4,  5,  6,  7],\n",
            "        [ 8,  9, 10, 11]])\n",
            "tensor([[ 0,  2,  4,  6],\n",
            "        [ 8, 10, 12, 14],\n",
            "        [16, 18, 20, 22]])\n"
          ],
          "name": "stdout"
        }
      ]
    },
    {
      "cell_type": "code",
      "metadata": {
        "id": "eAxi2OO58uiG",
        "colab_type": "code",
        "colab": {
          "base_uri": "https://localhost:8080/",
          "height": 187
        },
        "outputId": "a63ab5f3-2018-4c0e-f775-df3374effac9"
      },
      "source": [
        "# There are many operations for which reduce a dimension. Such as sum:\n",
        "\n",
        "y = torch.arange(12).reshape(3, 4)\n",
        "print(\"y: \\n\", y)\n",
        "print(\"---\")\n",
        "print(\"Summing across rows (dim=0): \\n\", y.sum(dim=0))\n",
        "print(\"---\")\n",
        "print(\"Summing across columns (dim=1): \\n\", y.sum(dim=1))"
      ],
      "execution_count": 46,
      "outputs": [
        {
          "output_type": "stream",
          "text": [
            "y: \n",
            " tensor([[ 0,  1,  2,  3],\n",
            "        [ 4,  5,  6,  7],\n",
            "        [ 8,  9, 10, 11]])\n",
            "---\n",
            "Summing across rows (dim=0): \n",
            " tensor([12, 15, 18, 21])\n",
            "---\n",
            "Summing across columns (dim=1): \n",
            " tensor([ 6, 22, 38])\n"
          ],
          "name": "stdout"
        }
      ]
    },
    {
      "cell_type": "markdown",
      "metadata": {
        "id": "a41OPSxt85tB",
        "colab_type": "text"
      },
      "source": [
        "**Join, Index, Slice functions in PyTorch**"
      ]
    },
    {
      "cell_type": "code",
      "metadata": {
        "id": "0cxlaPbN84Kc",
        "colab_type": "code",
        "colab": {
          "base_uri": "https://localhost:8080/",
          "height": 255
        },
        "outputId": "02aca918-4de1-41c0-c1d1-7d52bfda0a1d"
      },
      "source": [
        "y = torch.arange(6).view(2, 3)\n",
        "print(\"y: \\n\", y)\n",
        "print(\"---\")\n",
        "print(\"y[:2, :2]: \\n\", y[:2, :2])\n",
        "print(\"---\")\n",
        "print(\"y[0][1]: \\n\", y[0][1])\n",
        "print(\"---\")\n",
        "print(\"Setting [0][1] to be 8\")\n",
        "y[0][1] = 8\n",
        "print(y)"
      ],
      "execution_count": 47,
      "outputs": [
        {
          "output_type": "stream",
          "text": [
            "y: \n",
            " tensor([[0, 1, 2],\n",
            "        [3, 4, 5]])\n",
            "---\n",
            "y[:2, :2]: \n",
            " tensor([[0, 1],\n",
            "        [3, 4]])\n",
            "---\n",
            "y[0][1]: \n",
            " tensor(1)\n",
            "---\n",
            "Setting [0][1] to be 8\n",
            "tensor([[0, 8, 2],\n",
            "        [3, 4, 5]])\n"
          ],
          "name": "stdout"
        }
      ]
    },
    {
      "cell_type": "code",
      "metadata": {
        "id": "Ko6hGy3V9xw0",
        "colab_type": "code",
        "colab": {
          "base_uri": "https://localhost:8080/",
          "height": 187
        },
        "outputId": "03ef09b9-e773-4ea9-f6ed-76b53fdaa32a"
      },
      "source": [
        "# A subset of a tensor can be selected using index_select\n",
        "y = torch.arange(9).view(3,3)\n",
        "print(y)\n",
        "\n",
        "print(\"---\")\n",
        "indices = torch.LongTensor([0, 2])\n",
        "print(torch.index_select(y, dim=0, index=indices))\n",
        "\n",
        "print(\"---\")\n",
        "indices = torch.LongTensor([0, 2])\n",
        "print(torch.index_select(y, dim=1, index=indices))"
      ],
      "execution_count": 48,
      "outputs": [
        {
          "output_type": "stream",
          "text": [
            "tensor([[0, 1, 2],\n",
            "        [3, 4, 5],\n",
            "        [6, 7, 8]])\n",
            "---\n",
            "tensor([[0, 1, 2],\n",
            "        [6, 7, 8]])\n",
            "---\n",
            "tensor([[0, 2],\n",
            "        [3, 5],\n",
            "        [6, 8]])\n"
          ],
          "name": "stdout"
        }
      ]
    },
    {
      "cell_type": "code",
      "metadata": {
        "id": "Fd0RCJen-EUC",
        "colab_type": "code",
        "colab": {
          "base_uri": "https://localhost:8080/",
          "height": 289
        },
        "outputId": "349bdb03-747e-43f3-9e29-f23bf3615e1a"
      },
      "source": [
        "# Padding a Zero, popular in several Neural Networks\n",
        "y = torch.arange(9).view(3,3)\n",
        "print(y)\n",
        "print(\"---\")\n",
        "new_y = torch.stack([y, y, y])\n",
        "print(new_y.shape)\n",
        "print(new_y)"
      ],
      "execution_count": 49,
      "outputs": [
        {
          "output_type": "stream",
          "text": [
            "tensor([[0, 1, 2],\n",
            "        [3, 4, 5],\n",
            "        [6, 7, 8]])\n",
            "---\n",
            "torch.Size([3, 3, 3])\n",
            "tensor([[[0, 1, 2],\n",
            "         [3, 4, 5],\n",
            "         [6, 7, 8]],\n",
            "\n",
            "        [[0, 1, 2],\n",
            "         [3, 4, 5],\n",
            "         [6, 7, 8]],\n",
            "\n",
            "        [[0, 1, 2],\n",
            "         [3, 4, 5],\n",
            "         [6, 7, 8]]])\n"
          ],
          "name": "stdout"
        }
      ]
    },
    {
      "cell_type": "code",
      "metadata": {
        "id": "8J550d1b-T9u",
        "colab_type": "code",
        "colab": {
          "base_uri": "https://localhost:8080/",
          "height": 153
        },
        "outputId": "98cdc254-3c7c-4cb1-ec09-a623df25bd2b"
      },
      "source": [
        "#Concatination of columns\n",
        "\n",
        "y = torch.arange(9).view(3,3)\n",
        "\n",
        "print(y)\n",
        "print(\"---\")\n",
        "new_y = torch.cat([y, y, y], dim=1)\n",
        "print(new_y.shape)\n",
        "print(new_y)"
      ],
      "execution_count": 50,
      "outputs": [
        {
          "output_type": "stream",
          "text": [
            "tensor([[0, 1, 2],\n",
            "        [3, 4, 5],\n",
            "        [6, 7, 8]])\n",
            "---\n",
            "torch.Size([3, 9])\n",
            "tensor([[0, 1, 2, 0, 1, 2, 0, 1, 2],\n",
            "        [3, 4, 5, 3, 4, 5, 3, 4, 5],\n",
            "        [6, 7, 8, 6, 7, 8, 6, 7, 8]])\n"
          ],
          "name": "stdout"
        }
      ]
    },
    {
      "cell_type": "code",
      "metadata": {
        "id": "pTIulrKm-kYf",
        "colab_type": "code",
        "colab": {
          "base_uri": "https://localhost:8080/",
          "height": 442
        },
        "outputId": "087fbe9a-3324-4bf0-d304-fe67558d7ee0"
      },
      "source": [
        "# Concatinating row-wise\n",
        "y = torch.arange(6).view(2,3)\n",
        "describe(y)\n",
        "describe(torch.cat([y, y], dim=0))\n",
        "describe(torch.cat([y, y], dim=1))\n",
        "describe(torch.stack([y, y]))\n"
      ],
      "execution_count": 51,
      "outputs": [
        {
          "output_type": "stream",
          "text": [
            "Type: torch.LongTensor\n",
            "Shape/size: torch.Size([2, 3])\n",
            "Values: \n",
            "tensor([[0, 1, 2],\n",
            "        [3, 4, 5]])\n",
            "Type: torch.LongTensor\n",
            "Shape/size: torch.Size([4, 3])\n",
            "Values: \n",
            "tensor([[0, 1, 2],\n",
            "        [3, 4, 5],\n",
            "        [0, 1, 2],\n",
            "        [3, 4, 5]])\n",
            "Type: torch.LongTensor\n",
            "Shape/size: torch.Size([2, 6])\n",
            "Values: \n",
            "tensor([[0, 1, 2, 0, 1, 2],\n",
            "        [3, 4, 5, 3, 4, 5]])\n",
            "Type: torch.LongTensor\n",
            "Shape/size: torch.Size([2, 2, 3])\n",
            "Values: \n",
            "tensor([[[0, 1, 2],\n",
            "         [3, 4, 5]],\n",
            "\n",
            "        [[0, 1, 2],\n",
            "         [3, 4, 5]]])\n"
          ],
          "name": "stdout"
        }
      ]
    },
    {
      "cell_type": "markdown",
      "metadata": {
        "id": "rVA6SjWjB1hy",
        "colab_type": "text"
      },
      "source": [
        "# Computation of Gradients"
      ]
    },
    {
      "cell_type": "code",
      "metadata": {
        "id": "LGn37WUl-y7h",
        "colab_type": "code",
        "colab": {
          "base_uri": "https://localhost:8080/",
          "height": 34
        },
        "outputId": "29ad7da2-7055-4e42-8424-c32b59743071"
      },
      "source": [
        "x = torch.tensor([[2.0, 3.0]], requires_grad=True)\n",
        "z = 3 * x\n",
        "print(z)"
      ],
      "execution_count": 59,
      "outputs": [
        {
          "output_type": "stream",
          "text": [
            "tensor([[6., 9.]], grad_fn=<MulBackward0>)\n"
          ],
          "name": "stdout"
        }
      ]
    },
    {
      "cell_type": "code",
      "metadata": {
        "id": "SvFHXWq-CuxE",
        "colab_type": "code",
        "colab": {
          "base_uri": "https://localhost:8080/",
          "height": 204
        },
        "outputId": "349435e5-371d-46a3-8b07-0b9f76516918"
      },
      "source": [
        "x = torch.tensor([[2.0, 3.0]], requires_grad=True)\n",
        "print(\"x: \\n\", x)\n",
        "print(\"---\")\n",
        "z = 3 * x\n",
        "print(\"z = 3*x: \\n\", z)\n",
        "print(\"---\")\n",
        "\n",
        "loss = z.sum()\n",
        "print(\"loss = z.sum(): \\n\", loss)\n",
        "print(\"---\")\n",
        "\n",
        "loss.backward()\n",
        "\n",
        "print(\"after loss.backward(), x.grad: \\n\", x.grad)"
      ],
      "execution_count": 60,
      "outputs": [
        {
          "output_type": "stream",
          "text": [
            "x: \n",
            " tensor([[2., 3.]], requires_grad=True)\n",
            "---\n",
            "z = 3*x: \n",
            " tensor([[6., 9.]], grad_fn=<MulBackward0>)\n",
            "---\n",
            "loss = z.sum(): \n",
            " tensor(15., grad_fn=<SumBackward0>)\n",
            "---\n",
            "after loss.backward(), x.grad: \n",
            " tensor([[3., 3.]])\n"
          ],
          "name": "stdout"
        }
      ]
    },
    {
      "cell_type": "markdown",
      "metadata": {
        "id": "XpvYm53yCxV_",
        "colab_type": "text"
      },
      "source": [
        "*Output is formatted to a scalar to calculate the loss variable, Now after this we perform a backward propagation on the loss to determine the rate of change with respect to given inputs.*\n",
        "\n",
        "* The rate of change is the constant 3, which we multipled with the variable x. *"
      ]
    },
    {
      "cell_type": "code",
      "metadata": {
        "id": "SVKQblfeDwQP",
        "colab_type": "code",
        "colab": {}
      },
      "source": [
        "# Example for a conditional gradient. sin(x) for x>0 and cos(x) for x<0\n",
        "def f(x):\n",
        "  if (x.data > 0).all():\n",
        "    return torch.sin(x)\n",
        "  else: \n",
        "    return torch.cos(x)"
      ],
      "execution_count": 0,
      "outputs": []
    },
    {
      "cell_type": "code",
      "metadata": {
        "id": "MUyAq5a3ESqn",
        "colab_type": "code",
        "colab": {
          "base_uri": "https://localhost:8080/",
          "height": 34
        },
        "outputId": "f50164f0-3a41-42db-d9b0-91a5ce32123b"
      },
      "source": [
        "y = torch.tensor([1.0], requires_grad=True)\n",
        "z = f(y)\n",
        "z.backward()\n",
        "print(y.grad)"
      ],
      "execution_count": 62,
      "outputs": [
        {
          "output_type": "stream",
          "text": [
            "tensor([0.5403])\n"
          ],
          "name": "stdout"
        }
      ]
    },
    {
      "cell_type": "markdown",
      "metadata": {
        "id": "gBOG_S7bEfLm",
        "colab_type": "text"
      },
      "source": [
        "**We need to make sure the output is a scalar**\n",
        "\n",
        "*We use masking to make sure the computation is performed elementwise*"
      ]
    },
    {
      "cell_type": "code",
      "metadata": {
        "id": "r7V81cs3E7Ed",
        "colab_type": "code",
        "colab": {
          "base_uri": "https://localhost:8080/",
          "height": 34
        },
        "outputId": "99748164-a7a3-4439-e4c4-356e601ae9cf"
      },
      "source": [
        "def f2(x):\n",
        "    mask = torch.gt(x, 0).float()\n",
        "    return mask * torch.sin(x) + (1 - mask) * torch.cos(x)\n",
        "\n",
        "x = torch.tensor([1.0, -1], requires_grad=True)\n",
        "y = f2(x)\n",
        "y.sum().backward()\n",
        "print(x.grad)\n"
      ],
      "execution_count": 63,
      "outputs": [
        {
          "output_type": "stream",
          "text": [
            "tensor([0.5403, 0.8415])\n"
          ],
          "name": "stdout"
        }
      ]
    },
    {
      "cell_type": "code",
      "metadata": {
        "id": "hM1zKCgmFBla",
        "colab_type": "code",
        "colab": {}
      },
      "source": [
        "def describe_grad(x):\n",
        "    if x.grad is None:\n",
        "        print(\"No gradient information\")\n",
        "    else:\n",
        "        print(\"Gradient: \\n{}\".format(x.grad))\n",
        "        print(\"Gradient Function: {}\".format(x.grad_fn))"
      ],
      "execution_count": 0,
      "outputs": []
    },
    {
      "cell_type": "code",
      "metadata": {
        "id": "K_qV9RIZFF5s",
        "colab_type": "code",
        "colab": {
          "base_uri": "https://localhost:8080/",
          "height": 408
        },
        "outputId": "b562fa78-14f4-41cb-f055-97cd1189c459"
      },
      "source": [
        "import torch\n",
        "x = torch.ones(2, 2, requires_grad=True)\n",
        "describe(x)\n",
        "describe_grad(x)\n",
        "print(\"--------\")\n",
        "\n",
        "y = (x + 2) * (x + 5) + 3\n",
        "describe(y)\n",
        "z = y.mean()\n",
        "describe(z)\n",
        "describe_grad(x)\n",
        "print(\"--------\")\n",
        "z.backward(create_graph=True, retain_graph=True)\n",
        "describe_grad(x)\n",
        "print(\"--------\")"
      ],
      "execution_count": 66,
      "outputs": [
        {
          "output_type": "stream",
          "text": [
            "Type: torch.FloatTensor\n",
            "Shape/size: torch.Size([2, 2])\n",
            "Values: \n",
            "tensor([[1., 1.],\n",
            "        [1., 1.]], requires_grad=True)\n",
            "No gradient information\n",
            "--------\n",
            "Type: torch.FloatTensor\n",
            "Shape/size: torch.Size([2, 2])\n",
            "Values: \n",
            "tensor([[21., 21.],\n",
            "        [21., 21.]], grad_fn=<AddBackward0>)\n",
            "Type: torch.FloatTensor\n",
            "Shape/size: torch.Size([])\n",
            "Values: \n",
            "21.0\n",
            "No gradient information\n",
            "--------\n",
            "Gradient: \n",
            "tensor([[2.2500, 2.2500],\n",
            "        [2.2500, 2.2500]], grad_fn=<CloneBackward>)\n",
            "Gradient Function: None\n",
            "--------\n"
          ],
          "name": "stdout"
        }
      ]
    },
    {
      "cell_type": "code",
      "metadata": {
        "id": "SBd644D8FKcL",
        "colab_type": "code",
        "colab": {}
      },
      "source": [
        "x = torch.ones(2, 2, requires_grad=True)"
      ],
      "execution_count": 0,
      "outputs": []
    },
    {
      "cell_type": "code",
      "metadata": {
        "id": "B1qUHlkwFM9k",
        "colab_type": "code",
        "colab": {}
      },
      "source": [
        "y = x + 2"
      ],
      "execution_count": 0,
      "outputs": []
    },
    {
      "cell_type": "code",
      "metadata": {
        "id": "RTLJwGPFFPsk",
        "colab_type": "code",
        "colab": {
          "base_uri": "https://localhost:8080/",
          "height": 34
        },
        "outputId": "d07c8987-8ea7-4972-d4d6-2761a4cc5208"
      },
      "source": [
        "y.grad_fn"
      ],
      "execution_count": 69,
      "outputs": [
        {
          "output_type": "execute_result",
          "data": {
            "text/plain": [
              "<AddBackward0 at 0x7fe399101cc0>"
            ]
          },
          "metadata": {
            "tags": []
          },
          "execution_count": 69
        }
      ]
    }
  ]
}