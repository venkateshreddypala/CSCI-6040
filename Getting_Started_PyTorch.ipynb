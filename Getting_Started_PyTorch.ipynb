{
  "nbformat": 4,
  "nbformat_minor": 0,
  "metadata": {
    "colab": {
      "name": "Getting_Started_PyTorch.ipynb",
      "version": "0.3.2",
      "provenance": [],
      "include_colab_link": true
    },
    "kernelspec": {
      "name": "python3",
      "display_name": "Python 3"
    }
  },
  "cells": [
    {
      "cell_type": "markdown",
      "metadata": {
        "id": "view-in-github",
        "colab_type": "text"
      },
      "source": [
        "<a href=\"https://colab.research.google.com/github/venkateshreddypala/CSCI-6040/blob/Getting-Started-with-Pytorch/Getting_Started_PyTorch.ipynb\" target=\"_parent\"><img src=\"https://colab.research.google.com/assets/colab-badge.svg\" alt=\"Open In Colab\"/></a>"
      ]
    },
    {
      "cell_type": "code",
      "metadata": {
        "id": "wd0P3dOu5Q9i",
        "colab_type": "code",
        "outputId": "9cd6da45-0d61-44ff-da27-9f150a859117",
        "colab": {
          "base_uri": "https://localhost:8080/",
          "height": 34
        }
      },
      "source": [
        "#Importing required libraries\n",
        "import torch\n",
        "import numpy as np\n",
        "# It will set the seed of the random number generator to a fixed value,\n",
        "# so that when you call for example torch.rand(2), the results will be reproducible.\n",
        "# Else it produces results which are random and you'll see that it changes over time.\n",
        "torch.manual_seed(1234)\n",
        "\n"
      ],
      "execution_count": 0,
      "outputs": [
        {
          "output_type": "execute_result",
          "data": {
            "text/plain": [
              "<torch._C.Generator at 0x7fe3996f85d0>"
            ]
          },
          "metadata": {
            "tags": []
          },
          "execution_count": 3
        }
      ]
    },
    {
      "cell_type": "markdown",
      "metadata": {
        "colab_type": "text",
        "id": "hjhq0CWGBL42"
      },
      "source": [
        "# Getting Started with PyTorch, for more documentation and support, visit the official [page](https://pytorch.org/tutorials/)\n",
        "\n",
        "---\n",
        "\n"
      ]
    },
    {
      "cell_type": "markdown",
      "metadata": {
        "colab_type": "text",
        "id": "drQbbcE6BL42"
      },
      "source": [
        "**Tensors**\n",
        "\n",
        "*Tensors are similar to a matrix in Mathematical representation except they are N-Dimensional arrays of numbers.*\n",
        "\n",
        "* We will create Tensors, the shape of the Tensor is determined by the arguments.*\n",
        "\n",
        "\n",
        "\n"
      ]
    },
    {
      "cell_type": "code",
      "metadata": {
        "colab_type": "code",
        "id": "ULdDLqDjBL40",
        "colab": {}
      },
      "source": [
        "# Sample Tensor  Creation using describe function in Python3\n",
        "# Here 'y' is a Tensor with 8 rows and 5 columns\n",
        "def describe(y):\n",
        "    print(\"Type: {}\".format(y.type()))\n",
        "    print(\"Shape/size: {}\".format(y.shape))\n",
        "    print(\"Values: \\n{}\".format(y))"
      ],
      "execution_count": 0,
      "outputs": []
    },
    {
      "cell_type": "code",
      "metadata": {
        "colab_type": "code",
        "outputId": "06acbb86-fd19-4965-b34c-428e235a40a1",
        "id": "4tfMHzZZBL4y",
        "colab": {
          "base_uri": "https://localhost:8080/",
          "height": 204
        }
      },
      "source": [
        "describe(torch.Tensor(8,5))"
      ],
      "execution_count": 0,
      "outputs": [
        {
          "output_type": "stream",
          "text": [
            "Type: torch.FloatTensor\n",
            "Shape/size: torch.Size([8, 5])\n",
            "Values: \n",
            "tensor([[1.1933e-36, 0.0000e+00, 1.9898e-43, 0.0000e+00, 0.0000e+00],\n",
            "        [0.0000e+00, 0.0000e+00, 0.0000e+00, 0.0000e+00, 0.0000e+00],\n",
            "        [7.0295e+28, 6.1949e-04, 2.9390e+29, 2.0705e-19, 4.4721e+21],\n",
            "        [1.8010e+25, 4.7426e+30, 3.0186e+32, 2.1128e-19, 1.2414e+28],\n",
            "        [3.2304e-18, 1.8371e+25, 7.5551e+31, 2.6543e+20, 3.2607e-12],\n",
            "        [7.1856e+22, 2.8405e+20, 1.0395e+21, 3.2986e-18, 3.1457e-12],\n",
            "        [7.5654e+28, 4.2198e+24, 7.5654e+28, 6.1979e-04, 7.2443e+22],\n",
            "        [1.9421e+31, 6.5950e+22, 7.1555e+22, 7.2250e+28, 6.1970e-04]])\n"
          ],
          "name": "stdout"
        }
      ]
    },
    {
      "cell_type": "code",
      "metadata": {
        "colab_type": "code",
        "outputId": "b018c90b-1d12-49e4-c058-1a8a359f89d9",
        "id": "xROMxst1BL4v",
        "colab": {
          "base_uri": "https://localhost:8080/",
          "height": 204
        }
      },
      "source": [
        "#using rand\n",
        "describe(torch.randn(8,5))"
      ],
      "execution_count": 0,
      "outputs": [
        {
          "output_type": "stream",
          "text": [
            "Type: torch.FloatTensor\n",
            "Shape/size: torch.Size([8, 5])\n",
            "Values: \n",
            "tensor([[-1.3892, -0.6208, -0.0242, -1.0402,  0.7988],\n",
            "        [-0.0923, -0.7049, -1.6024, -1.0257,  1.7473],\n",
            "        [ 0.8090, -1.0989, -0.1706, -1.4594,  0.2207],\n",
            "        [ 0.2463,  0.9717, -0.5150,  1.4255,  0.7987],\n",
            "        [-1.4949,  0.8810, -1.1786, -0.9340, -1.5173],\n",
            "        [ 0.3877, -1.1849,  0.6897, -0.2833, -0.5660],\n",
            "        [ 0.3566, -0.4535,  0.0323, -1.6593, -1.8773],\n",
            "        [ 0.7372,  0.3910,  0.5158, -1.0042,  0.9860]])\n"
          ],
          "name": "stdout"
        }
      ]
    },
    {
      "cell_type": "markdown",
      "metadata": {
        "colab_type": "text",
        "id": "zDn7E1prBL4u"
      },
      "source": [
        "It is a common practice to generate random numbers for prototypes"
      ]
    },
    {
      "cell_type": "code",
      "metadata": {
        "colab_type": "code",
        "outputId": "d3993f92-e1ed-4c9b-de6a-919c2ef794cd",
        "id": "5xmGksu5BL4q",
        "colab": {
          "base_uri": "https://localhost:8080/",
          "height": 102
        }
      },
      "source": [
        "y = torch.rand(2,3)\n",
        "describe(y)"
      ],
      "execution_count": 0,
      "outputs": [
        {
          "output_type": "stream",
          "text": [
            "Type: torch.FloatTensor\n",
            "Shape/size: torch.Size([2, 3])\n",
            "Values: \n",
            "tensor([[0.2908, 0.4196, 0.3728],\n",
            "        [0.3769, 0.0108, 0.9455]])\n"
          ],
          "name": "stdout"
        }
      ]
    },
    {
      "cell_type": "markdown",
      "metadata": {
        "colab_type": "text",
        "id": "2CJaQD4MBL4p"
      },
      "source": [
        "We can generate Tensors with Zeros and One "
      ]
    },
    {
      "cell_type": "code",
      "metadata": {
        "colab_type": "code",
        "outputId": "8bd56289-80eb-4030-a76a-82e64494e78e",
        "id": "tp-ifh_GBL4j",
        "colab": {
          "base_uri": "https://localhost:8080/",
          "height": 578
        }
      },
      "source": [
        "describe(torch.zeros(8, 5))\n",
        "y = torch.ones(8, 5)\n",
        "describe(y)\n",
        "y.fill_(5)\n",
        "describe(y)"
      ],
      "execution_count": 0,
      "outputs": [
        {
          "output_type": "stream",
          "text": [
            "Type: torch.FloatTensor\n",
            "Shape/size: torch.Size([8, 5])\n",
            "Values: \n",
            "tensor([[0., 0., 0., 0., 0.],\n",
            "        [0., 0., 0., 0., 0.],\n",
            "        [0., 0., 0., 0., 0.],\n",
            "        [0., 0., 0., 0., 0.],\n",
            "        [0., 0., 0., 0., 0.],\n",
            "        [0., 0., 0., 0., 0.],\n",
            "        [0., 0., 0., 0., 0.],\n",
            "        [0., 0., 0., 0., 0.]])\n",
            "Type: torch.FloatTensor\n",
            "Shape/size: torch.Size([8, 5])\n",
            "Values: \n",
            "tensor([[1., 1., 1., 1., 1.],\n",
            "        [1., 1., 1., 1., 1.],\n",
            "        [1., 1., 1., 1., 1.],\n",
            "        [1., 1., 1., 1., 1.],\n",
            "        [1., 1., 1., 1., 1.],\n",
            "        [1., 1., 1., 1., 1.],\n",
            "        [1., 1., 1., 1., 1.],\n",
            "        [1., 1., 1., 1., 1.]])\n",
            "Type: torch.FloatTensor\n",
            "Shape/size: torch.Size([8, 5])\n",
            "Values: \n",
            "tensor([[5., 5., 5., 5., 5.],\n",
            "        [5., 5., 5., 5., 5.],\n",
            "        [5., 5., 5., 5., 5.],\n",
            "        [5., 5., 5., 5., 5.],\n",
            "        [5., 5., 5., 5., 5.],\n",
            "        [5., 5., 5., 5., 5.],\n",
            "        [5., 5., 5., 5., 5.],\n",
            "        [5., 5., 5., 5., 5.]])\n"
          ],
          "name": "stdout"
        }
      ]
    },
    {
      "cell_type": "markdown",
      "metadata": {
        "colab_type": "text",
        "id": "G53mFI0XBL4h"
      },
      "source": [
        "We can fill the numbers after initilization and then fill in place, operation "
      ]
    }
  ]
}