{
  "nbformat": 4,
  "nbformat_minor": 0,
  "metadata": {
    "colab": {
      "name": "Getting_Started_PyTorch.ipynb",
      "version": "0.3.2",
      "provenance": [],
      "collapsed_sections": [],
      "include_colab_link": true
    },
    "kernelspec": {
      "name": "python3",
      "display_name": "Python 3"
    }
  },
  "cells": [
    {
      "cell_type": "markdown",
      "metadata": {
        "id": "view-in-github",
        "colab_type": "text"
      },
      "source": [
        "<a href=\"https://colab.research.google.com/github/venkateshreddypala/CSCI-6040/blob/Getting-Started-with-Pytorch/Getting_Started_PyTorch.ipynb\" target=\"_parent\"><img src=\"https://colab.research.google.com/assets/colab-badge.svg\" alt=\"Open In Colab\"/></a>"
      ]
    },
    {
      "cell_type": "code",
      "metadata": {
        "id": "wd0P3dOu5Q9i",
        "colab_type": "code",
        "outputId": "9cd6da45-0d61-44ff-da27-9f150a859117",
        "colab": {
          "base_uri": "https://localhost:8080/",
          "height": 34
        }
      },
      "source": [
        "#Importing required libraries\n",
        "import torch\n",
        "import numpy as np\n",
        "# It will set the seed of the random number generator to a fixed value,\n",
        "# so that when you call for example torch.rand(2), the results will be reproducible.\n",
        "# Else it produces results which are random and you'll see that it changes over time.\n",
        "torch.manual_seed(1234)\n",
        "\n"
      ],
      "execution_count": 0,
      "outputs": [
        {
          "output_type": "execute_result",
          "data": {
            "text/plain": [
              "<torch._C.Generator at 0x7fe3996f85d0>"
            ]
          },
          "metadata": {
            "tags": []
          },
          "execution_count": 3
        }
      ]
    },
    {
      "cell_type": "markdown",
      "metadata": {
        "colab_type": "text",
        "id": "hjhq0CWGBL42"
      },
      "source": [
        "# Getting Started with PyTorch, for more documentation and support, visit the official [page](https://pytorch.org/tutorials/)\n",
        "\n",
        "---\n",
        "For math operations refer to the following [page](https://pytorch.org/docs/stable/torch.html#math-operations)\n",
        "\n"
      ]
    },
    {
      "cell_type": "markdown",
      "metadata": {
        "colab_type": "text",
        "id": "drQbbcE6BL42"
      },
      "source": [
        "**Tensors**\n",
        "\n",
        "*Tensors are similar to a matrix in Mathematical representation except they are N-Dimensional arrays of numbers.*\n",
        "\n",
        "*FloatTensor is the default type of Tensor*\n",
        "\n",
        "*The other type for Tensor is a Long Tensor, Long Tensors are used for indexing operations and mirror the int64 numpy type*\n",
        "\n",
        "\n",
        "* We will create Tensors, the shape of the Tensor is determined by the arguments.*\n",
        "\n",
        "\n",
        "\n"
      ]
    },
    {
      "cell_type": "code",
      "metadata": {
        "id": "rY8y_Uf9yxh6",
        "colab_type": "code",
        "colab": {}
      },
      "source": [
        ""
      ],
      "execution_count": 0,
      "outputs": []
    },
    {
      "cell_type": "code",
      "metadata": {
        "colab_type": "code",
        "id": "ULdDLqDjBL40",
        "colab": {}
      },
      "source": [
        "# Sample Tensor  Creation using describe function in Python3\n",
        "# Here 'y' is a Tensor with 8 rows and 5 columns\n",
        "def describe(y):\n",
        "    print(\"Type: {}\".format(y.type()))\n",
        "    print(\"Shape/size: {}\".format(y.shape))\n",
        "    print(\"Values: \\n{}\".format(y))"
      ],
      "execution_count": 0,
      "outputs": []
    },
    {
      "cell_type": "code",
      "metadata": {
        "colab_type": "code",
        "outputId": "06acbb86-fd19-4965-b34c-428e235a40a1",
        "id": "4tfMHzZZBL4y",
        "colab": {
          "base_uri": "https://localhost:8080/",
          "height": 204
        }
      },
      "source": [
        "describe(torch.Tensor(8,5))"
      ],
      "execution_count": 0,
      "outputs": [
        {
          "output_type": "stream",
          "text": [
            "Type: torch.FloatTensor\n",
            "Shape/size: torch.Size([8, 5])\n",
            "Values: \n",
            "tensor([[1.1933e-36, 0.0000e+00, 1.9898e-43, 0.0000e+00, 0.0000e+00],\n",
            "        [0.0000e+00, 0.0000e+00, 0.0000e+00, 0.0000e+00, 0.0000e+00],\n",
            "        [7.0295e+28, 6.1949e-04, 2.9390e+29, 2.0705e-19, 4.4721e+21],\n",
            "        [1.8010e+25, 4.7426e+30, 3.0186e+32, 2.1128e-19, 1.2414e+28],\n",
            "        [3.2304e-18, 1.8371e+25, 7.5551e+31, 2.6543e+20, 3.2607e-12],\n",
            "        [7.1856e+22, 2.8405e+20, 1.0395e+21, 3.2986e-18, 3.1457e-12],\n",
            "        [7.5654e+28, 4.2198e+24, 7.5654e+28, 6.1979e-04, 7.2443e+22],\n",
            "        [1.9421e+31, 6.5950e+22, 7.1555e+22, 7.2250e+28, 6.1970e-04]])\n"
          ],
          "name": "stdout"
        }
      ]
    },
    {
      "cell_type": "code",
      "metadata": {
        "colab_type": "code",
        "outputId": "b018c90b-1d12-49e4-c058-1a8a359f89d9",
        "id": "xROMxst1BL4v",
        "colab": {
          "base_uri": "https://localhost:8080/",
          "height": 204
        }
      },
      "source": [
        "#using rand\n",
        "describe(torch.randn(8,5))"
      ],
      "execution_count": 0,
      "outputs": [
        {
          "output_type": "stream",
          "text": [
            "Type: torch.FloatTensor\n",
            "Shape/size: torch.Size([8, 5])\n",
            "Values: \n",
            "tensor([[-1.3892, -0.6208, -0.0242, -1.0402,  0.7988],\n",
            "        [-0.0923, -0.7049, -1.6024, -1.0257,  1.7473],\n",
            "        [ 0.8090, -1.0989, -0.1706, -1.4594,  0.2207],\n",
            "        [ 0.2463,  0.9717, -0.5150,  1.4255,  0.7987],\n",
            "        [-1.4949,  0.8810, -1.1786, -0.9340, -1.5173],\n",
            "        [ 0.3877, -1.1849,  0.6897, -0.2833, -0.5660],\n",
            "        [ 0.3566, -0.4535,  0.0323, -1.6593, -1.8773],\n",
            "        [ 0.7372,  0.3910,  0.5158, -1.0042,  0.9860]])\n"
          ],
          "name": "stdout"
        }
      ]
    },
    {
      "cell_type": "markdown",
      "metadata": {
        "colab_type": "text",
        "id": "zDn7E1prBL4u"
      },
      "source": [
        "It is a common practice to generate random numbers for prototypes"
      ]
    },
    {
      "cell_type": "code",
      "metadata": {
        "colab_type": "code",
        "outputId": "d3993f92-e1ed-4c9b-de6a-919c2ef794cd",
        "id": "5xmGksu5BL4q",
        "colab": {
          "base_uri": "https://localhost:8080/",
          "height": 102
        }
      },
      "source": [
        "y = torch.rand(2,3)\n",
        "describe(y)"
      ],
      "execution_count": 0,
      "outputs": [
        {
          "output_type": "stream",
          "text": [
            "Type: torch.FloatTensor\n",
            "Shape/size: torch.Size([2, 3])\n",
            "Values: \n",
            "tensor([[0.2908, 0.4196, 0.3728],\n",
            "        [0.3769, 0.0108, 0.9455]])\n"
          ],
          "name": "stdout"
        }
      ]
    },
    {
      "cell_type": "markdown",
      "metadata": {
        "colab_type": "text",
        "id": "2CJaQD4MBL4p"
      },
      "source": [
        "We can generate Tensors with Zeros and One "
      ]
    },
    {
      "cell_type": "code",
      "metadata": {
        "colab_type": "code",
        "outputId": "8bd56289-80eb-4030-a76a-82e64494e78e",
        "id": "tp-ifh_GBL4j",
        "colab": {
          "base_uri": "https://localhost:8080/",
          "height": 578
        }
      },
      "source": [
        "describe(torch.zeros(8, 5))\n",
        "y = torch.ones(8, 5)\n",
        "describe(y)\n",
        "y.fill_(5)\n",
        "describe(y)"
      ],
      "execution_count": 0,
      "outputs": [
        {
          "output_type": "stream",
          "text": [
            "Type: torch.FloatTensor\n",
            "Shape/size: torch.Size([8, 5])\n",
            "Values: \n",
            "tensor([[0., 0., 0., 0., 0.],\n",
            "        [0., 0., 0., 0., 0.],\n",
            "        [0., 0., 0., 0., 0.],\n",
            "        [0., 0., 0., 0., 0.],\n",
            "        [0., 0., 0., 0., 0.],\n",
            "        [0., 0., 0., 0., 0.],\n",
            "        [0., 0., 0., 0., 0.],\n",
            "        [0., 0., 0., 0., 0.]])\n",
            "Type: torch.FloatTensor\n",
            "Shape/size: torch.Size([8, 5])\n",
            "Values: \n",
            "tensor([[1., 1., 1., 1., 1.],\n",
            "        [1., 1., 1., 1., 1.],\n",
            "        [1., 1., 1., 1., 1.],\n",
            "        [1., 1., 1., 1., 1.],\n",
            "        [1., 1., 1., 1., 1.],\n",
            "        [1., 1., 1., 1., 1.],\n",
            "        [1., 1., 1., 1., 1.],\n",
            "        [1., 1., 1., 1., 1.]])\n",
            "Type: torch.FloatTensor\n",
            "Shape/size: torch.Size([8, 5])\n",
            "Values: \n",
            "tensor([[5., 5., 5., 5., 5.],\n",
            "        [5., 5., 5., 5., 5.],\n",
            "        [5., 5., 5., 5., 5.],\n",
            "        [5., 5., 5., 5., 5.],\n",
            "        [5., 5., 5., 5., 5.],\n",
            "        [5., 5., 5., 5., 5.],\n",
            "        [5., 5., 5., 5., 5.],\n",
            "        [5., 5., 5., 5., 5.]])\n"
          ],
          "name": "stdout"
        }
      ]
    },
    {
      "cell_type": "markdown",
      "metadata": {
        "colab_type": "text",
        "id": "G53mFI0XBL4h"
      },
      "source": [
        "We can fill the numbers after initilization and then fill in place, operation is denoted by (_)"
      ]
    },
    {
      "cell_type": "code",
      "metadata": {
        "id": "2CAxM9Z9reZi",
        "colab_type": "code",
        "colab": {
          "base_uri": "https://localhost:8080/",
          "height": 85
        },
        "outputId": "0cadc9a7-7876-4a9a-dc04-9a0dda33adfa"
      },
      "source": [
        "y = torch.Tensor(2,3).fill_(5)\n",
        "print(y.type())\n",
        "print(y.shape)\n",
        "print(y)"
      ],
      "execution_count": 12,
      "outputs": [
        {
          "output_type": "stream",
          "text": [
            "torch.FloatTensor\n",
            "torch.Size([2, 3])\n",
            "tensor([[5., 5., 5.],\n",
            "        [5., 5., 5.]])\n"
          ],
          "name": "stdout"
        }
      ]
    },
    {
      "cell_type": "code",
      "metadata": {
        "id": "o64EJgpTrrU6",
        "colab_type": "code",
        "colab": {
          "base_uri": "https://localhost:8080/",
          "height": 102
        },
        "outputId": "eb3708e3-1f2f-4854-96ed-d2f740a76277"
      },
      "source": [
        "y = torch.Tensor([[2, 3,],  \n",
        "                  [3, 4,]])\n",
        "describe(y)"
      ],
      "execution_count": 13,
      "outputs": [
        {
          "output_type": "stream",
          "text": [
            "Type: torch.FloatTensor\n",
            "Shape/size: torch.Size([2, 2])\n",
            "Values: \n",
            "tensor([[2., 3.],\n",
            "        [3., 4.]])\n"
          ],
          "name": "stdout"
        }
      ]
    },
    {
      "cell_type": "code",
      "metadata": {
        "id": "7VATp7XYuao_",
        "colab_type": "code",
        "colab": {
          "base_uri": "https://localhost:8080/",
          "height": 102
        },
        "outputId": "5aa3d92b-8daf-4a0b-b57f-0ced11a140cc"
      },
      "source": [
        "# LOngTensor\n",
        "import torch\n",
        "y = torch.arange(6).view(2, 3)\n",
        "describe(y)"
      ],
      "execution_count": 14,
      "outputs": [
        {
          "output_type": "stream",
          "text": [
            "Type: torch.LongTensor\n",
            "Shape/size: torch.Size([2, 3])\n",
            "Values: \n",
            "tensor([[0, 1, 2],\n",
            "        [3, 4, 5]])\n"
          ],
          "name": "stdout"
        }
      ]
    },
    {
      "cell_type": "code",
      "metadata": {
        "id": "yy9Jgo2vujYc",
        "colab_type": "code",
        "colab": {
          "base_uri": "https://localhost:8080/",
          "height": 357
        },
        "outputId": "8148813c-78a4-4d6c-9dcc-623e060c7f2b"
      },
      "source": [
        "y = torch.FloatTensor([[1, 2, 3],  \n",
        "                       [4, 5, 6]])\n",
        "describe(y)\n",
        "\n",
        "y = y.long()\n",
        "describe(y)\n",
        "\n",
        "y = torch.tensor([[1, 2, 3], \n",
        "                  [4, 5, 6]], dtype=torch.int64)\n",
        "describe(y)\n",
        "\n",
        "y = y.float() \n",
        "describe(y)"
      ],
      "execution_count": 16,
      "outputs": [
        {
          "output_type": "stream",
          "text": [
            "Type: torch.FloatTensor\n",
            "Shape/size: torch.Size([2, 3])\n",
            "Values: \n",
            "tensor([[1., 2., 3.],\n",
            "        [4., 5., 6.]])\n",
            "Type: torch.LongTensor\n",
            "Shape/size: torch.Size([2, 3])\n",
            "Values: \n",
            "tensor([[1, 2, 3],\n",
            "        [4, 5, 6]])\n",
            "Type: torch.LongTensor\n",
            "Shape/size: torch.Size([2, 3])\n",
            "Values: \n",
            "tensor([[1, 2, 3],\n",
            "        [4, 5, 6]])\n",
            "Type: torch.FloatTensor\n",
            "Shape/size: torch.Size([2, 3])\n",
            "Values: \n",
            "tensor([[1., 2., 3.],\n",
            "        [4., 5., 6.]])\n"
          ],
          "name": "stdout"
        }
      ]
    },
    {
      "cell_type": "code",
      "metadata": {
        "id": "ZW7MJBgbuwD5",
        "colab_type": "code",
        "colab": {
          "base_uri": "https://localhost:8080/",
          "height": 102
        },
        "outputId": "1b4ee1f3-039c-4159-b39f-4d2f7c270f52"
      },
      "source": [
        "y = torch.randn(2, 3)\n",
        "describe(y)"
      ],
      "execution_count": 17,
      "outputs": [
        {
          "output_type": "stream",
          "text": [
            "Type: torch.FloatTensor\n",
            "Shape/size: torch.Size([2, 3])\n",
            "Values: \n",
            "tensor([[ 0.8169,  0.8579, -0.2107],\n",
            "        [ 1.1399, -2.5122,  1.3823]])\n"
          ],
          "name": "stdout"
        }
      ]
    },
    {
      "cell_type": "code",
      "metadata": {
        "id": "ndjJNC0Mu0jx",
        "colab_type": "code",
        "colab": {
          "base_uri": "https://localhost:8080/",
          "height": 102
        },
        "outputId": "73d6315b-1b6f-474b-ca9d-cf404f8d85d6"
      },
      "source": [
        "describe(torch.add(y, y))"
      ],
      "execution_count": 18,
      "outputs": [
        {
          "output_type": "stream",
          "text": [
            "Type: torch.FloatTensor\n",
            "Shape/size: torch.Size([2, 3])\n",
            "Values: \n",
            "tensor([[ 1.6339,  1.7159, -0.4215],\n",
            "        [ 2.2799, -5.0244,  2.7646]])\n"
          ],
          "name": "stdout"
        }
      ]
    },
    {
      "cell_type": "code",
      "metadata": {
        "id": "tiJV5b9nu4Qk",
        "colab_type": "code",
        "colab": {
          "base_uri": "https://localhost:8080/",
          "height": 102
        },
        "outputId": "ce8d63c6-d35e-424c-ac09-bc242c248ca5"
      },
      "source": [
        "describe(y + y)"
      ],
      "execution_count": 19,
      "outputs": [
        {
          "output_type": "stream",
          "text": [
            "Type: torch.FloatTensor\n",
            "Shape/size: torch.Size([2, 3])\n",
            "Values: \n",
            "tensor([[ 1.6339,  1.7159, -0.4215],\n",
            "        [ 2.2799, -5.0244,  2.7646]])\n"
          ],
          "name": "stdout"
        }
      ]
    },
    {
      "cell_type": "code",
      "metadata": {
        "id": "z44CqkoAu9Zb",
        "colab_type": "code",
        "colab": {
          "base_uri": "https://localhost:8080/",
          "height": 85
        },
        "outputId": "5c772d50-9292-4e9c-a2dd-13984bb0a5c7"
      },
      "source": [
        "y = torch.arange(6)\n",
        "describe(y)"
      ],
      "execution_count": 20,
      "outputs": [
        {
          "output_type": "stream",
          "text": [
            "Type: torch.LongTensor\n",
            "Shape/size: torch.Size([6])\n",
            "Values: \n",
            "tensor([0, 1, 2, 3, 4, 5])\n"
          ],
          "name": "stdout"
        }
      ]
    },
    {
      "cell_type": "code",
      "metadata": {
        "id": "iZnu0EgbvClp",
        "colab_type": "code",
        "colab": {
          "base_uri": "https://localhost:8080/",
          "height": 102
        },
        "outputId": "334171e7-b26d-43ab-fcda-42f43b74c2ea"
      },
      "source": [
        "y = y.view(2, 3)\n",
        "describe(y)"
      ],
      "execution_count": 21,
      "outputs": [
        {
          "output_type": "stream",
          "text": [
            "Type: torch.LongTensor\n",
            "Shape/size: torch.Size([2, 3])\n",
            "Values: \n",
            "tensor([[0, 1, 2],\n",
            "        [3, 4, 5]])\n"
          ],
          "name": "stdout"
        }
      ]
    },
    {
      "cell_type": "code",
      "metadata": {
        "id": "HCB3ZmyNvGhh",
        "colab_type": "code",
        "colab": {
          "base_uri": "https://localhost:8080/",
          "height": 153
        },
        "outputId": "2aa8b4e3-9062-4d2b-e256-e86a983ccd96"
      },
      "source": [
        "describe(torch.sum(y, dim=0))\n",
        "describe(torch.sum(y, dim=1))"
      ],
      "execution_count": 22,
      "outputs": [
        {
          "output_type": "stream",
          "text": [
            "Type: torch.LongTensor\n",
            "Shape/size: torch.Size([3])\n",
            "Values: \n",
            "tensor([3, 5, 7])\n",
            "Type: torch.LongTensor\n",
            "Shape/size: torch.Size([2])\n",
            "Values: \n",
            "tensor([ 3, 12])\n"
          ],
          "name": "stdout"
        }
      ]
    },
    {
      "cell_type": "code",
      "metadata": {
        "id": "dNysDu7GvKEA",
        "colab_type": "code",
        "colab": {
          "base_uri": "https://localhost:8080/",
          "height": 119
        },
        "outputId": "1a4f4199-7cd0-4dd1-c348-6dc9a5518b75"
      },
      "source": [
        "describe(torch.transpose(y, 0, 1))"
      ],
      "execution_count": 23,
      "outputs": [
        {
          "output_type": "stream",
          "text": [
            "Type: torch.LongTensor\n",
            "Shape/size: torch.Size([3, 2])\n",
            "Values: \n",
            "tensor([[0, 3],\n",
            "        [1, 4],\n",
            "        [2, 5]])\n"
          ],
          "name": "stdout"
        }
      ]
    },
    {
      "cell_type": "code",
      "metadata": {
        "id": "SzCTrk4mvPA4",
        "colab_type": "code",
        "colab": {
          "base_uri": "https://localhost:8080/",
          "height": 238
        },
        "outputId": "96dd00d0-0ca5-42e9-8270-d075c62ca38e"
      },
      "source": [
        "import torch\n",
        "y = torch.arange(6).view(2, 3)\n",
        "describe(y)\n",
        "describe(y[:1, :2])\n",
        "describe(y[0, 1])"
      ],
      "execution_count": 24,
      "outputs": [
        {
          "output_type": "stream",
          "text": [
            "Type: torch.LongTensor\n",
            "Shape/size: torch.Size([2, 3])\n",
            "Values: \n",
            "tensor([[0, 1, 2],\n",
            "        [3, 4, 5]])\n",
            "Type: torch.LongTensor\n",
            "Shape/size: torch.Size([1, 2])\n",
            "Values: \n",
            "tensor([[0, 1]])\n",
            "Type: torch.LongTensor\n",
            "Shape/size: torch.Size([])\n",
            "Values: \n",
            "1\n"
          ],
          "name": "stdout"
        }
      ]
    },
    {
      "cell_type": "code",
      "metadata": {
        "id": "y2zK-uUWvTqI",
        "colab_type": "code",
        "colab": {
          "base_uri": "https://localhost:8080/",
          "height": 102
        },
        "outputId": "7c70a1fd-ee86-4d98-90d2-e47fd2c85b17"
      },
      "source": [
        "indices = torch.LongTensor([0, 2])\n",
        "describe(torch.index_select(y, dim=1, index=indices))"
      ],
      "execution_count": 25,
      "outputs": [
        {
          "output_type": "stream",
          "text": [
            "Type: torch.LongTensor\n",
            "Shape/size: torch.Size([2, 2])\n",
            "Values: \n",
            "tensor([[0, 2],\n",
            "        [3, 5]])\n"
          ],
          "name": "stdout"
        }
      ]
    },
    {
      "cell_type": "code",
      "metadata": {
        "id": "6y9xHBHFvYDF",
        "colab_type": "code",
        "colab": {
          "base_uri": "https://localhost:8080/",
          "height": 102
        },
        "outputId": "5205d9fd-dacc-445a-ddb6-7151cb3bf6c2"
      },
      "source": [
        "indices = torch.LongTensor([0, 0])\n",
        "describe(torch.index_select(y, dim=0, index=indices))"
      ],
      "execution_count": 26,
      "outputs": [
        {
          "output_type": "stream",
          "text": [
            "Type: torch.LongTensor\n",
            "Shape/size: torch.Size([2, 3])\n",
            "Values: \n",
            "tensor([[0, 1, 2],\n",
            "        [0, 1, 2]])\n"
          ],
          "name": "stdout"
        }
      ]
    },
    {
      "cell_type": "code",
      "metadata": {
        "id": "TuJPspWnveT5",
        "colab_type": "code",
        "colab": {
          "base_uri": "https://localhost:8080/",
          "height": 85
        },
        "outputId": "592072dd-9972-4683-a9cc-5e4fd4a204e4"
      },
      "source": [
        "row_indices = torch.arange(2).long()\n",
        "col_indices = torch.LongTensor([0, 1])\n",
        "describe(y[row_indices, col_indices])"
      ],
      "execution_count": 27,
      "outputs": [
        {
          "output_type": "stream",
          "text": [
            "Type: torch.LongTensor\n",
            "Shape/size: torch.Size([2])\n",
            "Values: \n",
            "tensor([0, 4])\n"
          ],
          "name": "stdout"
        }
      ]
    },
    {
      "cell_type": "code",
      "metadata": {
        "id": "ecayMdv9vinQ",
        "colab_type": "code",
        "colab": {
          "base_uri": "https://localhost:8080/",
          "height": 153
        },
        "outputId": "6a02d01d-44f0-46d1-b1fa-cb2d183c641d"
      },
      "source": [
        "y = torch.LongTensor([[1, 2, 3],  \n",
        "                      [4, 5, 6],\n",
        "                      [7, 8, 9]])\n",
        "describe(y)\n",
        "print(y.dtype)\n",
        "print(y.numpy().dtype)\n"
      ],
      "execution_count": 28,
      "outputs": [
        {
          "output_type": "stream",
          "text": [
            "Type: torch.LongTensor\n",
            "Shape/size: torch.Size([3, 3])\n",
            "Values: \n",
            "tensor([[1, 2, 3],\n",
            "        [4, 5, 6],\n",
            "        [7, 8, 9]])\n",
            "torch.int64\n",
            "int64\n"
          ],
          "name": "stdout"
        }
      ]
    },
    {
      "cell_type": "markdown",
      "metadata": {
        "id": "QSruXkjiv5i3",
        "colab_type": "text"
      },
      "source": [
        "You can Typecast from Tensor type to Long and Vice versa, you can also cast to String using DoubleTensor which is rare."
      ]
    },
    {
      "cell_type": "code",
      "metadata": {
        "id": "Q0yivMwgx5Xf",
        "colab_type": "code",
        "colab": {
          "base_uri": "https://localhost:8080/",
          "height": 119
        },
        "outputId": "3c753771-c087-4186-c5e0-f6a7734b8463"
      },
      "source": [
        "# Example \n",
        "y = torch.FloatTensor([[1, 2, 3],  \n",
        "                       [4, 5, 6],\n",
        "                       [7, 8, 9]])\n",
        "y = y.long()\n",
        "describe(y)"
      ],
      "execution_count": 29,
      "outputs": [
        {
          "output_type": "stream",
          "text": [
            "Type: torch.LongTensor\n",
            "Shape/size: torch.Size([3, 3])\n",
            "Values: \n",
            "tensor([[1, 2, 3],\n",
            "        [4, 5, 6],\n",
            "        [7, 8, 9]])\n"
          ],
          "name": "stdout"
        }
      ]
    }
  ]
}