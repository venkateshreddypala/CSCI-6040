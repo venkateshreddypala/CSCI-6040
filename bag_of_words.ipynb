{
  "nbformat": 4,
  "nbformat_minor": 0,
  "metadata": {
    "colab": {
      "name": "bag_of_words.ipynb",
      "version": "0.3.2",
      "provenance": [],
      "collapsed_sections": []
    },
    "kernelspec": {
      "name": "python3",
      "display_name": "Python 3"
    }
  },
  "cells": [
    {
      "cell_type": "code",
      "metadata": {
        "id": "HWGMKZU4za5u",
        "colab_type": "code",
        "colab": {}
      },
      "source": [
        ""
      ],
      "execution_count": 0,
      "outputs": []
    },
    {
      "cell_type": "markdown",
      "metadata": {
        "id": "UkQi7vR6zfAg",
        "colab_type": "text"
      },
      "source": [
        "# Bag-of-Words\n",
        "It is a data-structure where you split the documents into smaller chunks of meanings, where we ignore the construction of a sentence and remove punctuations.\n",
        "\n",
        "Large documents can be summarized using Bag-of-Words.\n",
        "\n",
        "\n",
        "\n"
      ]
    },
    {
      "cell_type": "code",
      "metadata": {
        "id": "_9ZTz23Q2pIj",
        "colab_type": "code",
        "colab": {}
      },
      "source": [
        "senten1= \"\"\"This is introduction to NLP & NLU\"\"\""
      ],
      "execution_count": 0,
      "outputs": []
    },
    {
      "cell_type": "code",
      "metadata": {
        "id": "1rmhr9R23qb1",
        "colab_type": "code",
        "colab": {
          "base_uri": "https://localhost:8080/",
          "height": 136
        },
        "outputId": "3ba21636-8d9c-436a-b65e-d3cc511df29d"
      },
      "source": [
        "sentence_bow = {}\n",
        "for token in senten1.split(): sentence_bow[token] = 1\n",
        "sorted(sentence_bow.items())"
      ],
      "execution_count": 14,
      "outputs": [
        {
          "output_type": "execute_result",
          "data": {
            "text/plain": [
              "[('&', 1),\n",
              " ('NLP', 1),\n",
              " ('NLU', 1),\n",
              " ('This', 1),\n",
              " ('introduction', 1),\n",
              " ('is', 1),\n",
              " ('to', 1)]"
            ]
          },
          "metadata": {
            "tags": []
          },
          "execution_count": 14
        }
      ]
    },
    {
      "cell_type": "markdown",
      "metadata": {
        "id": "3vJYiPE84DUs",
        "colab_type": "text"
      },
      "source": [
        "This gives the words in the sentence and we can also call this model as word_frequency vector.\n",
        "\n",
        "Using a dictionary data type will remove the duplicates and makes the process much easy."
      ]
    },
    {
      "cell_type": "code",
      "metadata": {
        "id": "1XDzTRh44frp",
        "colab_type": "code",
        "colab": {
          "base_uri": "https://localhost:8080/",
          "height": 80
        },
        "outputId": "82c95e2f-ef0d-4622-9ec6-464a17c73be6"
      },
      "source": [
        "# implemeting dictionary\n",
        "\n",
        "import pandas as pd\n",
        "df = pd.DataFrame(pd.Series(dict([(token, 1) for token in senten1.split()])), columns=['senten1']).T\n",
        "df"
      ],
      "execution_count": 15,
      "outputs": [
        {
          "output_type": "execute_result",
          "data": {
            "text/html": [
              "<div>\n",
              "<style scoped>\n",
              "    .dataframe tbody tr th:only-of-type {\n",
              "        vertical-align: middle;\n",
              "    }\n",
              "\n",
              "    .dataframe tbody tr th {\n",
              "        vertical-align: top;\n",
              "    }\n",
              "\n",
              "    .dataframe thead th {\n",
              "        text-align: right;\n",
              "    }\n",
              "</style>\n",
              "<table border=\"1\" class=\"dataframe\">\n",
              "  <thead>\n",
              "    <tr style=\"text-align: right;\">\n",
              "      <th></th>\n",
              "      <th>This</th>\n",
              "      <th>is</th>\n",
              "      <th>introduction</th>\n",
              "      <th>to</th>\n",
              "      <th>NLP</th>\n",
              "      <th>&amp;</th>\n",
              "      <th>NLU</th>\n",
              "    </tr>\n",
              "  </thead>\n",
              "  <tbody>\n",
              "    <tr>\n",
              "      <th>senten1</th>\n",
              "      <td>1</td>\n",
              "      <td>1</td>\n",
              "      <td>1</td>\n",
              "      <td>1</td>\n",
              "      <td>1</td>\n",
              "      <td>1</td>\n",
              "      <td>1</td>\n",
              "    </tr>\n",
              "  </tbody>\n",
              "</table>\n",
              "</div>"
            ],
            "text/plain": [
              "         This  is  introduction  to  NLP  &  NLU\n",
              "senten1     1   1             1   1    1  1    1"
            ]
          },
          "metadata": {
            "tags": []
          },
          "execution_count": 15
        }
      ]
    },
    {
      "cell_type": "markdown",
      "metadata": {
        "id": "Ido44g6p46Pa",
        "colab_type": "text"
      },
      "source": [
        "Add more to the existing to sentences and perform the word of vectors"
      ]
    },
    {
      "cell_type": "code",
      "metadata": {
        "id": "w-3tJjpn3ueP",
        "colab_type": "code",
        "colab": {}
      },
      "source": [
        "# creating a play corpus\n",
        "senten1= \"\"\"This is introduction to NLP & NLU. \\n\"\"\"\n",
        "senten1 += \"\"\"Deep learning is the new electrcity. \\n\"\"\"\n",
        "senten1 += \"\"\"python is the best language! \\n\"\"\"\n",
        "senten1 += \"\"\"I like this note-book.\"\"\"\n",
        "corpus = {}"
      ],
      "execution_count": 0,
      "outputs": []
    },
    {
      "cell_type": "code",
      "metadata": {
        "id": "2cYPDr3v6W4E",
        "colab_type": "code",
        "colab": {}
      },
      "source": [
        "for i, sent in enumerate(senten1.split('\\n')): corpus['sent{}'.format(i)] = dict((tok, 1) for tok in sent.split())"
      ],
      "execution_count": 0,
      "outputs": []
    },
    {
      "cell_type": "code",
      "metadata": {
        "id": "qg-uyuj26iPY",
        "colab_type": "code",
        "colab": {}
      },
      "source": [
        "df = pd.DataFrame.from_records(corpus).fillna(0).astype(int).T"
      ],
      "execution_count": 0,
      "outputs": []
    },
    {
      "cell_type": "code",
      "metadata": {
        "id": "feFqU75q6qZm",
        "colab_type": "code",
        "colab": {
          "base_uri": "https://localhost:8080/",
          "height": 173
        },
        "outputId": "e1a2a411-0094-4364-afed-f972bb1e93c5"
      },
      "source": [
        "df[df.columns[:10]] "
      ],
      "execution_count": 20,
      "outputs": [
        {
          "output_type": "execute_result",
          "data": {
            "text/html": [
              "<div>\n",
              "<style scoped>\n",
              "    .dataframe tbody tr th:only-of-type {\n",
              "        vertical-align: middle;\n",
              "    }\n",
              "\n",
              "    .dataframe tbody tr th {\n",
              "        vertical-align: top;\n",
              "    }\n",
              "\n",
              "    .dataframe thead th {\n",
              "        text-align: right;\n",
              "    }\n",
              "</style>\n",
              "<table border=\"1\" class=\"dataframe\">\n",
              "  <thead>\n",
              "    <tr style=\"text-align: right;\">\n",
              "      <th></th>\n",
              "      <th>&amp;</th>\n",
              "      <th>Deep</th>\n",
              "      <th>I</th>\n",
              "      <th>NLP</th>\n",
              "      <th>NLU.</th>\n",
              "      <th>This</th>\n",
              "      <th>best</th>\n",
              "      <th>electrcity.</th>\n",
              "      <th>introduction</th>\n",
              "      <th>is</th>\n",
              "    </tr>\n",
              "  </thead>\n",
              "  <tbody>\n",
              "    <tr>\n",
              "      <th>sent0</th>\n",
              "      <td>1</td>\n",
              "      <td>0</td>\n",
              "      <td>0</td>\n",
              "      <td>1</td>\n",
              "      <td>1</td>\n",
              "      <td>1</td>\n",
              "      <td>0</td>\n",
              "      <td>0</td>\n",
              "      <td>1</td>\n",
              "      <td>1</td>\n",
              "    </tr>\n",
              "    <tr>\n",
              "      <th>sent1</th>\n",
              "      <td>0</td>\n",
              "      <td>1</td>\n",
              "      <td>0</td>\n",
              "      <td>0</td>\n",
              "      <td>0</td>\n",
              "      <td>0</td>\n",
              "      <td>0</td>\n",
              "      <td>1</td>\n",
              "      <td>0</td>\n",
              "      <td>1</td>\n",
              "    </tr>\n",
              "    <tr>\n",
              "      <th>sent2</th>\n",
              "      <td>0</td>\n",
              "      <td>0</td>\n",
              "      <td>0</td>\n",
              "      <td>0</td>\n",
              "      <td>0</td>\n",
              "      <td>0</td>\n",
              "      <td>1</td>\n",
              "      <td>0</td>\n",
              "      <td>0</td>\n",
              "      <td>1</td>\n",
              "    </tr>\n",
              "    <tr>\n",
              "      <th>sent3</th>\n",
              "      <td>0</td>\n",
              "      <td>0</td>\n",
              "      <td>1</td>\n",
              "      <td>0</td>\n",
              "      <td>0</td>\n",
              "      <td>0</td>\n",
              "      <td>0</td>\n",
              "      <td>0</td>\n",
              "      <td>0</td>\n",
              "      <td>0</td>\n",
              "    </tr>\n",
              "  </tbody>\n",
              "</table>\n",
              "</div>"
            ],
            "text/plain": [
              "       &  Deep  I  NLP  NLU.  This  best  electrcity.  introduction  is\n",
              "sent0  1     0  0    1     1     1     0            0             1   1\n",
              "sent1  0     1  0    0     0     0     0            1             0   1\n",
              "sent2  0     0  0    0     0     0     1            0             0   1\n",
              "sent3  0     0  1    0     0     0     0            0             0   0"
            ]
          },
          "metadata": {
            "tags": []
          },
          "execution_count": 20
        }
      ]
    },
    {
      "cell_type": "markdown",
      "metadata": {
        "id": "_Bot5UH27CZ9",
        "colab_type": "text"
      },
      "source": [
        "**Overlap in Bag-of-Words**\n",
        "If we measure the bag-of-words for two documents or two vectors, we can know the similarity between two documents."
      ]
    },
    {
      "cell_type": "code",
      "metadata": {
        "id": "f2P8gFV-6s-X",
        "colab_type": "code",
        "colab": {}
      },
      "source": [
        ""
      ],
      "execution_count": 0,
      "outputs": []
    }
  ]
}