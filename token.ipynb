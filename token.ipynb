{
  "nbformat": 4,
  "nbformat_minor": 0,
  "metadata": {
    "colab": {
      "name": "token.ipynb",
      "version": "0.3.2",
      "provenance": [],
      "collapsed_sections": []
    },
    "kernelspec": {
      "name": "python3",
      "display_name": "Python 3"
    }
  },
  "cells": [
    {
      "cell_type": "markdown",
      "metadata": {
        "id": "wd1HfeiazJaM",
        "colab_type": "text"
      },
      "source": [
        "# Word Tokenization"
      ]
    },
    {
      "cell_type": "markdown",
      "metadata": {
        "id": "VwVlGbco0u0Y",
        "colab_type": "text"
      },
      "source": [
        "\n",
        "\n",
        "> **Tokenize text into words, n-grams**\n",
        "\n",
        "Words are further diided into smaller parts whihch includes sentiment and meaning, called letters or Grpahemes.\n",
        "\n",
        "Tokenization in Lingusitics is tremed as Lexical Analyzer, Vocabulary is Lexicon.\n",
        "\n",
        "Few other terms we see in this topic, n-grams/unigrams, bi-grams, tri-grams, quadraplets, parser.\n",
        "\n",
        "Challanges\n",
        "\n",
        "*   Dealing with non-standarad punctuations, emoticons. eg. lol in social media posts\n",
        "\n",
        "\n",
        "\n",
        "---\n",
        "\n",
        " > More than just str.split()\n",
        " \n",
        " \n",
        "> Beginning step in NLP pipeline\n",
        "\n",
        "\n",
        "\n",
        "\n",
        "\n"
      ]
    },
    {
      "cell_type": "code",
      "metadata": {
        "id": "08FlT5awIQKL",
        "colab_type": "code",
        "outputId": "1fc0726a-56af-4edb-def7-97711bc55739",
        "colab": {
          "base_uri": "https://localhost:8080/",
          "height": 391
        }
      },
      "source": [
        "#built-in functions in Python \n",
        "# This does a dirty- splut, we can see'.' included\n",
        "\n",
        "senten = \"\"\"Natural Language Processing with Deep Leanring is advancement \n",
        "in this\n",
        "feild but there are still some topic which are relevant for \n",
        "NLP.\"\"\"\n",
        "\n",
        "senten.split()"
      ],
      "execution_count": 0,
      "outputs": [
        {
          "output_type": "execute_result",
          "data": {
            "text/plain": [
              "['Natural',\n",
              " 'Language',\n",
              " 'Processing',\n",
              " 'with',\n",
              " 'Deep',\n",
              " 'Leanring',\n",
              " 'is',\n",
              " 'advancement',\n",
              " 'in',\n",
              " 'this',\n",
              " 'feild',\n",
              " 'but',\n",
              " 'there',\n",
              " 'are',\n",
              " 'still',\n",
              " 'some',\n",
              " 'topic',\n",
              " 'which',\n",
              " 'are',\n",
              " 'relevant',\n",
              " 'for',\n",
              " 'NLP.']"
            ]
          },
          "metadata": {
            "tags": []
          },
          "execution_count": 1
        }
      ]
    },
    {
      "cell_type": "code",
      "metadata": {
        "id": "BQwJ4UDOI7HD",
        "colab_type": "code",
        "outputId": "a3a8dc32-9af5-4114-951a-7320c30524fb",
        "colab": {
          "base_uri": "https://localhost:8080/",
          "height": 391
        }
      },
      "source": [
        "str.split(senten)"
      ],
      "execution_count": 0,
      "outputs": [
        {
          "output_type": "execute_result",
          "data": {
            "text/plain": [
              "['Natural',\n",
              " 'Language',\n",
              " 'Processing',\n",
              " 'with',\n",
              " 'Deep',\n",
              " 'Leanring',\n",
              " 'is',\n",
              " 'advancement',\n",
              " 'in',\n",
              " 'this',\n",
              " 'feild',\n",
              " 'but',\n",
              " 'there',\n",
              " 'are',\n",
              " 'still',\n",
              " 'some',\n",
              " 'topic',\n",
              " 'which',\n",
              " 'are',\n",
              " 'relevant',\n",
              " 'for',\n",
              " 'NLP.']"
            ]
          },
          "metadata": {
            "tags": []
          },
          "execution_count": 2
        }
      ]
    },
    {
      "cell_type": "code",
      "metadata": {
        "id": "MAd5UPc7I-cA",
        "colab_type": "code",
        "colab": {}
      },
      "source": [
        ""
      ],
      "execution_count": 0,
      "outputs": []
    }
  ]
}